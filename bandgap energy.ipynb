{
 "cells": [
  {
   "cell_type": "code",
   "execution_count": 118,
   "metadata": {
    "colab": {},
    "colab_type": "code",
    "id": "Rq1RmboT18el"
   },
   "outputs": [],
   "source": [
    "import pandas as pd\n",
    "import numpy as np\n",
    "import matplotlib.pyplot as plt\n",
    "import seaborn as sns\n",
    "from sklearn.model_selection import cross_val_score"
   ]
  },
  {
   "cell_type": "code",
   "execution_count": 108,
   "metadata": {
    "colab": {
     "base_uri": "https://localhost:8080/",
     "height": 239
    },
    "colab_type": "code",
    "id": "E67Pyppm2X34",
    "outputId": "eb7af481-5afc-4680-fee6-dbff998dae05"
   },
   "outputs": [
    {
     "name": "stdout",
     "output_type": "stream",
     "text": [
      "(2400, 14)\n"
     ]
    },
    {
     "data": {
      "text/html": [
       "<div>\n",
       "<style scoped>\n",
       "    .dataframe tbody tr th:only-of-type {\n",
       "        vertical-align: middle;\n",
       "    }\n",
       "\n",
       "    .dataframe tbody tr th {\n",
       "        vertical-align: top;\n",
       "    }\n",
       "\n",
       "    .dataframe thead th {\n",
       "        text-align: right;\n",
       "    }\n",
       "</style>\n",
       "<table border=\"1\" class=\"dataframe\">\n",
       "  <thead>\n",
       "    <tr style=\"text-align: right;\">\n",
       "      <th></th>\n",
       "      <th>id</th>\n",
       "      <th>spacegroup</th>\n",
       "      <th>number_of_total_atoms</th>\n",
       "      <th>percent_atom_al</th>\n",
       "      <th>percent_atom_ga</th>\n",
       "      <th>percent_atom_in</th>\n",
       "      <th>lattice_vector_1_ang</th>\n",
       "      <th>lattice_vector_2_ang</th>\n",
       "      <th>lattice_vector_3_ang</th>\n",
       "      <th>lattice_angle_alpha_degree</th>\n",
       "      <th>lattice_angle_beta_degree</th>\n",
       "      <th>lattice_angle_gamma_degree</th>\n",
       "      <th>formation_energy_ev_natom</th>\n",
       "      <th>bandgap_energy_ev</th>\n",
       "    </tr>\n",
       "  </thead>\n",
       "  <tbody>\n",
       "    <tr>\n",
       "      <td>0</td>\n",
       "      <td>1</td>\n",
       "      <td>33</td>\n",
       "      <td>80.0</td>\n",
       "      <td>0.6250</td>\n",
       "      <td>0.3750</td>\n",
       "      <td>0.000</td>\n",
       "      <td>9.9523</td>\n",
       "      <td>8.5513</td>\n",
       "      <td>9.1775</td>\n",
       "      <td>90.0026</td>\n",
       "      <td>90.0023</td>\n",
       "      <td>90.0017</td>\n",
       "      <td>0.0680</td>\n",
       "      <td>3.4387</td>\n",
       "    </tr>\n",
       "    <tr>\n",
       "      <td>1</td>\n",
       "      <td>2</td>\n",
       "      <td>194</td>\n",
       "      <td>80.0</td>\n",
       "      <td>0.6250</td>\n",
       "      <td>0.3750</td>\n",
       "      <td>0.000</td>\n",
       "      <td>6.1840</td>\n",
       "      <td>6.1838</td>\n",
       "      <td>23.6287</td>\n",
       "      <td>90.0186</td>\n",
       "      <td>89.9980</td>\n",
       "      <td>120.0025</td>\n",
       "      <td>0.2490</td>\n",
       "      <td>2.9210</td>\n",
       "    </tr>\n",
       "    <tr>\n",
       "      <td>2</td>\n",
       "      <td>3</td>\n",
       "      <td>227</td>\n",
       "      <td>40.0</td>\n",
       "      <td>0.8125</td>\n",
       "      <td>0.1875</td>\n",
       "      <td>0.000</td>\n",
       "      <td>9.7510</td>\n",
       "      <td>5.6595</td>\n",
       "      <td>13.9630</td>\n",
       "      <td>90.9688</td>\n",
       "      <td>91.1228</td>\n",
       "      <td>30.5185</td>\n",
       "      <td>0.1821</td>\n",
       "      <td>2.7438</td>\n",
       "    </tr>\n",
       "    <tr>\n",
       "      <td>3</td>\n",
       "      <td>4</td>\n",
       "      <td>167</td>\n",
       "      <td>30.0</td>\n",
       "      <td>0.7500</td>\n",
       "      <td>0.0000</td>\n",
       "      <td>0.250</td>\n",
       "      <td>5.0036</td>\n",
       "      <td>5.0034</td>\n",
       "      <td>13.5318</td>\n",
       "      <td>89.9888</td>\n",
       "      <td>90.0119</td>\n",
       "      <td>120.0017</td>\n",
       "      <td>0.2172</td>\n",
       "      <td>3.3492</td>\n",
       "    </tr>\n",
       "    <tr>\n",
       "      <td>4</td>\n",
       "      <td>5</td>\n",
       "      <td>194</td>\n",
       "      <td>80.0</td>\n",
       "      <td>0.0000</td>\n",
       "      <td>0.6250</td>\n",
       "      <td>0.375</td>\n",
       "      <td>6.6614</td>\n",
       "      <td>6.6612</td>\n",
       "      <td>24.5813</td>\n",
       "      <td>89.9960</td>\n",
       "      <td>90.0006</td>\n",
       "      <td>119.9893</td>\n",
       "      <td>0.0505</td>\n",
       "      <td>1.3793</td>\n",
       "    </tr>\n",
       "  </tbody>\n",
       "</table>\n",
       "</div>"
      ],
      "text/plain": [
       "   id  spacegroup  number_of_total_atoms  percent_atom_al  percent_atom_ga  \\\n",
       "0   1          33                   80.0           0.6250           0.3750   \n",
       "1   2         194                   80.0           0.6250           0.3750   \n",
       "2   3         227                   40.0           0.8125           0.1875   \n",
       "3   4         167                   30.0           0.7500           0.0000   \n",
       "4   5         194                   80.0           0.0000           0.6250   \n",
       "\n",
       "   percent_atom_in  lattice_vector_1_ang  lattice_vector_2_ang  \\\n",
       "0            0.000                9.9523                8.5513   \n",
       "1            0.000                6.1840                6.1838   \n",
       "2            0.000                9.7510                5.6595   \n",
       "3            0.250                5.0036                5.0034   \n",
       "4            0.375                6.6614                6.6612   \n",
       "\n",
       "   lattice_vector_3_ang  lattice_angle_alpha_degree  \\\n",
       "0                9.1775                     90.0026   \n",
       "1               23.6287                     90.0186   \n",
       "2               13.9630                     90.9688   \n",
       "3               13.5318                     89.9888   \n",
       "4               24.5813                     89.9960   \n",
       "\n",
       "   lattice_angle_beta_degree  lattice_angle_gamma_degree  \\\n",
       "0                    90.0023                     90.0017   \n",
       "1                    89.9980                    120.0025   \n",
       "2                    91.1228                     30.5185   \n",
       "3                    90.0119                    120.0017   \n",
       "4                    90.0006                    119.9893   \n",
       "\n",
       "   formation_energy_ev_natom  bandgap_energy_ev  \n",
       "0                     0.0680             3.4387  \n",
       "1                     0.2490             2.9210  \n",
       "2                     0.1821             2.7438  \n",
       "3                     0.2172             3.3492  \n",
       "4                     0.0505             1.3793  "
      ]
     },
     "execution_count": 108,
     "metadata": {},
     "output_type": "execute_result"
    }
   ],
   "source": [
    "df = pd.read_csv('1065final.csv')\n",
    "print(df.shape)\n",
    "df.head()"
   ]
  },
  {
   "cell_type": "code",
   "execution_count": 109,
   "metadata": {
    "colab": {
     "base_uri": "https://localhost:8080/",
     "height": 277
    },
    "colab_type": "code",
    "id": "rfX3B4FB82O7",
    "outputId": "7340cc03-8ddf-4852-9f1e-b5df585504ae"
   },
   "outputs": [
    {
     "data": {
      "text/plain": [
       "id                            0\n",
       "spacegroup                    0\n",
       "number_of_total_atoms         0\n",
       "percent_atom_al               0\n",
       "percent_atom_ga               0\n",
       "percent_atom_in               0\n",
       "lattice_vector_1_ang          0\n",
       "lattice_vector_2_ang          0\n",
       "lattice_vector_3_ang          0\n",
       "lattice_angle_alpha_degree    0\n",
       "lattice_angle_beta_degree     0\n",
       "lattice_angle_gamma_degree    0\n",
       "formation_energy_ev_natom     0\n",
       "bandgap_energy_ev             0\n",
       "dtype: int64"
      ]
     },
     "execution_count": 109,
     "metadata": {},
     "output_type": "execute_result"
    }
   ],
   "source": [
    "df.isnull().sum()"
   ]
  },
  {
   "cell_type": "markdown",
   "metadata": {
    "colab_type": "text",
    "id": "jOUEf0Oz82gE"
   },
   "source": [
    "## **Exploratory Data Analysis**"
   ]
  },
  {
   "cell_type": "code",
   "execution_count": 197,
   "metadata": {},
   "outputs": [
    {
     "data": {
      "image/png": "[encoded data removed]",
      "text/plain": [
       "<Figure size 432x288 with 1 Axes>"
      ]
     },
     "metadata": {
      "needs_background": "light"
     },
     "output_type": "display_data"
    }
   ],
   "source": [
    "sns.distplot(df[\"bandgap_energy_ev\"])\n",
    "plt.title(\"Distribution of the bandgap energy\")\n",
    "plt.show()"
   ]
  },
  {
   "cell_type": "code",
   "execution_count": 198,
   "metadata": {},
   "outputs": [
    {
     "data": {
      "text/plain": [
       "array([ 33, 194, 227, 167, 206,  12], dtype=int64)"
      ]
     },
     "execution_count": 198,
     "metadata": {},
     "output_type": "execute_result"
    }
   ],
   "source": [
    "df['spacegroup'].unique()"
   ]
  },
  {
   "cell_type": "code",
   "execution_count": 110,
   "metadata": {},
   "outputs": [
    {
     "data": {
      "image/png": "[encoded data removed]",
      "text/plain": [
       "<Figure size 432x288 with 1 Axes>"
      ]
     },
     "metadata": {
      "needs_background": "light"
     },
     "output_type": "display_data"
    }
   ],
   "source": [
    "fig = sns.boxplot(x='spacegroup', y=\"bandgap_energy_ev\", data=df, width=0.5)\n",
    "plt.tight_layout()\n",
    "plt.show()"
   ]
  },
  {
   "cell_type": "code",
   "execution_count": 113,
   "metadata": {},
   "outputs": [
    {
     "data": {
      "text/plain": [
       "<matplotlib.axes._subplots.AxesSubplot at 0x1f966141648>"
      ]
     },
     "execution_count": 113,
     "metadata": {},
     "output_type": "execute_result"
    },
    {
     "data": {
      "image/png": "[encoded data removed]",
      "text/plain": [
       "<Figure size 720x576 with 2 Axes>"
      ]
     },
     "metadata": {
      "needs_background": "light"
     },
     "output_type": "display_data"
    }
   ],
   "source": [
    "#Pearason corr\n",
    "perasoncorr = df.corr()\n",
    "corr_index = perasoncorr.index[abs(perasoncorr['bandgap_energy_ev'])>0.15]\n",
    "plt.figure(figsize=(10,8))\n",
    "sns.heatmap(df[corr_index].corr(), cbar=True, cmap='RdBu', annot=True,linewidth=0.1)"
   ]
  },
  {
   "cell_type": "markdown",
   "metadata": {
    "colab_type": "text",
    "id": "-_LchJ3d9ej0"
   },
   "source": [
    "## **Model Implementation**"
   ]
  },
  {
   "cell_type": "code",
   "execution_count": 114,
   "metadata": {
    "colab": {},
    "colab_type": "code",
    "id": "07x-5zb03fzz"
   },
   "outputs": [],
   "source": [
    "X = df.drop(['id','formation_energy_ev_natom','bandgap_energy_ev'],axis=1)\n",
    "Y = df.bandgap_energy_ev"
   ]
  },
  {
   "cell_type": "code",
   "execution_count": 115,
   "metadata": {
    "colab": {},
    "colab_type": "code",
    "id": "Qg1eqKJa6oaR"
   },
   "outputs": [],
   "source": [
    "# normalization \n",
    "X = (X-X.mean())/X.std()"
   ]
  },
  {
   "cell_type": "code",
   "execution_count": 116,
   "metadata": {
    "colab": {},
    "colab_type": "code",
    "id": "BltfZM_h60Jg"
   },
   "outputs": [],
   "source": [
    "from sklearn.model_selection import train_test_split\n",
    "X_train, X_test, y_train, y_test = train_test_split(X, Y, test_size=0.2, random_state=10)"
   ]
  },
  {
   "cell_type": "markdown",
   "metadata": {},
   "source": [
    "**1. Ridge regression**"
   ]
  },
  {
   "cell_type": "code",
   "execution_count": 133,
   "metadata": {
    "colab": {},
    "colab_type": "code",
    "id": "IXNNEI0k64VG"
   },
   "outputs": [
    {
     "name": "stdout",
     "output_type": "stream",
     "text": [
      "----alpha= 0.5 -----\n",
      "0.8034583037473204\n",
      "----alpha= 1 -----\n",
      "0.8034661087644437\n",
      "----alpha= 1.5 -----\n",
      "0.8034712428193382\n",
      "----alpha= 2 -----\n",
      "0.8034739220233286\n",
      "----alpha= 2.5 -----\n",
      "0.8034743446981031\n",
      "----alpha= 3 -----\n",
      "0.8034726920369654\n"
     ]
    }
   ],
   "source": [
    "# Fit a ridge regression model\n",
    "from sklearn import linear_model\n",
    "# tune hyperparameters by cross validation\n",
    "for a in [0.5, 1, 1.5, 2, 2.5, 3]:\n",
    "    ridge = linear_model.Ridge(alpha=a)\n",
    "    print('----alpha=',a,'-----')\n",
    "    score = cross_val_score(ridge, X_train, y_train, cv=5)\n",
    "    print(np.mean(score))"
   ]
  },
  {
   "cell_type": "code",
   "execution_count": 136,
   "metadata": {
    "colab": {
     "base_uri": "https://localhost:8080/",
     "height": 87
    },
    "colab_type": "code",
    "id": "fd2lVp8iaHdP",
    "outputId": "092c8b77-6cee-4221-cfba-5b02112d0434"
   },
   "outputs": [
    {
     "name": "stdout",
     "output_type": "stream",
     "text": [
      "Evaluation for the ridge model in training set:\n",
      "Mean absolute error =  0.3187212903639097\n",
      "R-squared value =  0.8036801774954558\n",
      "Root mean squared error =  0.4430830905123834\n"
     ]
    }
   ],
   "source": [
    "# best ridge model: alpha=2.5\n",
    "ridge = linear_model.Ridge(alpha=2.5).fit(X_train, y_train)\n",
    "print('Evaluation for the ridge model in training set:')\n",
    "y_train_est = ridge.predict(X_train)\n",
    "MAE = np.abs(y_train_est - y_train).sum()/len(y_train_est)\n",
    "print('Mean absolute error = ',MAE)\n",
    "\n",
    "SST = ((y_train - y_train.mean())**2).sum()\n",
    "SSR = ((y_train_est - y_train.mean())**2).sum()\n",
    "R2 = SSR/SST\n",
    "print('R-squared value = ', R2)\n",
    "\n",
    "RMSE = np.sqrt(((y_train_est - y_train)**2).sum()/len(y_train_est))\n",
    "print('Root mean squared error = ', RMSE)"
   ]
  },
  {
   "cell_type": "markdown",
   "metadata": {},
   "source": [
    "**2. Neural Network**"
   ]
  },
  {
   "cell_type": "code",
   "execution_count": 144,
   "metadata": {},
   "outputs": [
    {
     "name": "stdout",
     "output_type": "stream",
     "text": [
      "activation= tanh , hidden_layer_sizes= (5, 5, 5)\n",
      "0.9404510763687044\n",
      "activation= tanh , hidden_layer_sizes= (5, 5)\n",
      "0.9314302140732007\n",
      "activation= tanh , hidden_layer_sizes= (10, 10, 10)\n",
      "0.9436288737289861\n",
      "activation= tanh , hidden_layer_sizes= (10, 10)\n",
      "0.9428156120340262\n",
      "activation= relu , hidden_layer_sizes= (5, 5, 5)\n",
      "0.9333860536590143\n",
      "activation= relu , hidden_layer_sizes= (5, 5)\n",
      "0.9305525059036125\n",
      "activation= relu , hidden_layer_sizes= (10, 10, 10)\n",
      "0.9438401518734292\n",
      "activation= relu , hidden_layer_sizes= (10, 10)\n",
      "0.941651903267303\n"
     ]
    }
   ],
   "source": [
    "# neural network\n",
    "from sklearn.neural_network import MLPRegressor as MLP\n",
    "for i in ['tanh','relu']:\n",
    "    for j in [(5,5,5), (5,5), (10,10,10), (10,10)]:\n",
    "        mlp = MLP(hidden_layer_sizes=j, activation=i, max_iter=500)\n",
    "        print('activation=', i, ', hidden_layer_sizes=',j)\n",
    "        score = cross_val_score(mlp, X_train, y_train, cv=5)\n",
    "        print(np.mean(score))"
   ]
  },
  {
   "cell_type": "code",
   "execution_count": 146,
   "metadata": {},
   "outputs": [
    {
     "name": "stdout",
     "output_type": "stream",
     "text": [
      "Mean absolute error =  0.1441876912648314\n",
      "R-squared value =  0.9736602268412784\n",
      "Root mean squared error =  0.21825324264144844\n"
     ]
    }
   ],
   "source": [
    "# best neural network model\n",
    "mlp = MLP(hidden_layer_sizes=(10, 10, 10), activation='relu', max_iter=500).fit(X_train, y_train)\n",
    "y_train_est = mlp.predict(X_train)\n",
    "MAE = np.abs(y_train_est - y_train).sum()/len(y_train_est)\n",
    "print('Mean absolute error = ',MAE)\n",
    "\n",
    "SST = ((y_train - y_train.mean())**2).sum()\n",
    "SSR = ((y_train_est - y_train.mean())**2).sum()\n",
    "R2 = SSR/SST\n",
    "print('R-squared value = ', R2)\n",
    "\n",
    "RMSE = np.sqrt(((y_train_est - y_train)**2).sum()/len(y_train_est))\n",
    "print('Root mean squared error = ', RMSE)\n"
   ]
  },
  {
   "cell_type": "markdown",
   "metadata": {},
   "source": [
    "**3. Random Forest**"
   ]
  },
  {
   "cell_type": "code",
   "execution_count": 152,
   "metadata": {},
   "outputs": [
    {
     "name": "stdout",
     "output_type": "stream",
     "text": [
      "---n_estimators= 30 ---\n",
      "0.9388191236982859\n",
      "---n_estimators= 60 ---\n",
      "0.9405533570891876\n",
      "---n_estimators= 90 ---\n",
      "0.9407144052515019\n",
      "---n_estimators= 120 ---\n",
      "0.9420944904015552\n",
      "---n_estimators= 150 ---\n",
      "0.9414766551694852\n",
      "---n_estimators= 180 ---\n",
      "0.941105740901666\n",
      "---n_estimators= 210 ---\n",
      "0.9419336053163221\n"
     ]
    }
   ],
   "source": [
    "from sklearn.ensemble import RandomForestRegressor as RF\n",
    "for i in range(30,211,30):\n",
    "    rf = RF(n_estimators=i, oob_score=True)\n",
    "    print('---n_estimators=', i,'---')\n",
    "    score = cross_val_score(rf, X_train, y_train, cv=5)\n",
    "    print(np.mean(score))\n"
   ]
  },
  {
   "cell_type": "code",
   "execution_count": 155,
   "metadata": {},
   "outputs": [
    {
     "name": "stdout",
     "output_type": "stream",
     "text": [
      "Mean absolute error =  0.07504615914499241\n",
      "R-squared value =  0.9684664026136507\n",
      "Root mean squared error =  0.12314162406436732\n"
     ]
    }
   ],
   "source": [
    "# best random forest regressor\n",
    "rf = RF(n_estimators=120, oob_score=True).fit(X_train, y_train)\n",
    "y_train_est = rf.predict(X_train)\n",
    "MAE = np.abs(y_train_est - y_train).sum()/len(y_train_est)\n",
    "print('Mean absolute error = ',MAE)\n",
    "\n",
    "SST = ((y_train - y_train.mean())**2).sum()\n",
    "SSR = ((y_train_est - y_train.mean())**2).sum()\n",
    "R2 = SSR/SST\n",
    "print('R-squared value = ', R2)\n",
    "\n",
    "RMSE = np.sqrt(((y_train_est - y_train)**2).sum()/len(y_train_est))\n",
    "print('Root mean squared error = ', RMSE)"
   ]
  },
  {
   "cell_type": "markdown",
   "metadata": {},
   "source": [
    "**4. XGBoost**"
   ]
  },
  {
   "cell_type": "code",
   "execution_count": 177,
   "metadata": {},
   "outputs": [
    {
     "name": "stdout",
     "output_type": "stream",
     "text": [
      "---n_estimators= 30 ---\n",
      "0.9355798757672528\n",
      "---n_estimators= 60 ---\n",
      "0.9413811861381507\n",
      "---n_estimators= 90 ---\n",
      "0.9404302254174464\n",
      "---n_estimators= 120 ---\n",
      "0.9399131744232104\n",
      "---n_estimators= 150 ---\n",
      "0.9391951073039092\n"
     ]
    }
   ],
   "source": [
    "from xgboost.sklearn import XGBRegressor as XGB\n",
    "for i in range(30,151,30):\n",
    "    xgb = XGB(n_estimators=i, eta=0.1)\n",
    "    print('---n_estimators=', i,'---')\n",
    "    score = cross_val_score(xgb, X_train, y_train, cv=5)\n",
    "    print(np.mean(score))"
   ]
  },
  {
   "cell_type": "code",
   "execution_count": 178,
   "metadata": {},
   "outputs": [
    {
     "name": "stdout",
     "output_type": "stream",
     "text": [
      "Mean absolute error =  0.08492074984200298\n",
      "R-squared value =  0.9631520943429971\n",
      "Root mean squared error =  0.1294185082624314\n"
     ]
    }
   ],
   "source": [
    "# best xgboost regressor\n",
    "xgb = XGB(n_estimators=60, eta=0.1).fit(X_train, y_train)\n",
    "y_train_est = xgb.predict(X_train)\n",
    "MAE = np.abs(y_train_est - y_train).sum()/len(y_train_est)\n",
    "print('Mean absolute error = ',MAE)\n",
    "\n",
    "SST = ((y_train - y_train.mean())**2).sum()\n",
    "SSR = ((y_train_est - y_train.mean())**2).sum()\n",
    "R2 = SSR/SST\n",
    "print('R-squared value = ', R2)\n",
    "\n",
    "RMSE = np.sqrt(((y_train_est - y_train)**2).sum()/len(y_train_est))\n",
    "print('Root mean squared error = ', RMSE)"
   ]
  },
  {
   "cell_type": "markdown",
   "metadata": {},
   "source": [
    "## **Model Testing**"
   ]
  },
  {
   "cell_type": "code",
   "execution_count": 188,
   "metadata": {},
   "outputs": [],
   "source": [
    "def test(model):\n",
    "    y_test_est = model.predict(X_test)\n",
    "    \n",
    "    MAE = np.abs(y_test_est - y_test).sum()/len(y_test_est)\n",
    "    print('Mean absolute error = ',MAE)\n",
    "\n",
    "    SST = ((y_test - y_test.mean())**2).sum()\n",
    "    SSR = ((y_test_est - y_test.mean())**2).sum()\n",
    "    R2 = SSR/SST\n",
    "    print('R-squared value = ', R2)\n",
    "\n",
    "    RMSE = np.sqrt(((y_test_est - y_test)**2).sum()/len(y_test_est))\n",
    "    print('Root mean squared error = ', RMSE)\n",
    "    \n",
    "    plt.scatter(y_test_est,y_test)\n",
    "    plt.xlabel('test predictions')\n",
    "    plt.ylabel('true values')\n",
    "    plt.title('test predictions vs. true values')\n",
    "    plt.show()"
   ]
  },
  {
   "cell_type": "code",
   "execution_count": 189,
   "metadata": {},
   "outputs": [
    {
     "name": "stdout",
     "output_type": "stream",
     "text": [
      "Mean absolute error =  0.3307874510840777\n",
      "R-squared value =  0.8253933085754238\n",
      "Root mean squared error =  0.4725218790959156\n"
     ]
    },
    {
     "data": {
      "image/png": "[encoded data removed]",
      "text/plain": [
       "<Figure size 432x288 with 1 Axes>"
      ]
     },
     "metadata": {
      "needs_background": "light"
     },
     "output_type": "display_data"
    }
   ],
   "source": [
    "test(ridge)"
   ]
  },
  {
   "cell_type": "code",
   "execution_count": 190,
   "metadata": {},
   "outputs": [
    {
     "name": "stdout",
     "output_type": "stream",
     "text": [
      "Mean absolute error =  0.15255850305281513\n",
      "R-squared value =  0.9602982141599525\n",
      "Root mean squared error =  0.23657162212733693\n"
     ]
    },
    {
     "data": {
      "image/png": "[encoded data removed]",
      "text/plain": [
       "<Figure size 432x288 with 1 Axes>"
      ]
     },
     "metadata": {
      "needs_background": "light"
     },
     "output_type": "display_data"
    }
   ],
   "source": [
    "test(mlp)"
   ]
  },
  {
   "cell_type": "code",
   "execution_count": 191,
   "metadata": {},
   "outputs": [
    {
     "name": "stdout",
     "output_type": "stream",
     "text": [
      "Mean absolute error =  0.1422895814579397\n",
      "R-squared value =  0.9331620496007119\n",
      "Root mean squared error =  0.2321991582792261\n"
     ]
    },
    {
     "data": {
      "image/png": "[encoded data removed]",
      "text/plain": [
       "<Figure size 432x288 with 1 Axes>"
      ]
     },
     "metadata": {
      "needs_background": "light"
     },
     "output_type": "display_data"
    }
   ],
   "source": [
    "test(rf)"
   ]
  },
  {
   "cell_type": "code",
   "execution_count": 192,
   "metadata": {
    "colab": {
     "base_uri": "https://localhost:8080/",
     "height": 295
    },
    "colab_type": "code",
    "id": "w_VecqnX7GKs",
    "outputId": "824400b0-9d9b-4432-cafd-37460a81c760"
   },
   "outputs": [
    {
     "name": "stdout",
     "output_type": "stream",
     "text": [
      "Mean absolute error =  0.13697327822307745\n",
      "R-squared value =  0.9282638935702434\n",
      "Root mean squared error =  0.2236476231512626\n"
     ]
    },
    {
     "data": {
      "image/png": "[encoded data removed]",
      "text/plain": [
       "<Figure size 432x288 with 1 Axes>"
      ]
     },
     "metadata": {
      "needs_background": "light"
     },
     "output_type": "display_data"
    }
   ],
   "source": [
    "test(xgb)"
   ]
  }
 ],
 "metadata": {
  "colab": {
   "name": "1065final.ipynb",
   "provenance": []
  },
  "kernelspec": {
   "display_name": "Python 3",
   "language": "python",
   "name": "python3"
  },
  "language_info": {
   "codemirror_mode": {
    "name": "ipython",
    "version": 3
   },
   "file_extension": ".py",
   "mimetype": "text/x-python",
   "name": "python",
   "nbconvert_exporter": "python",
   "pygments_lexer": "ipython3",
   "version": "3.7.4"
  }
 },
 "nbformat": 4,
 "nbformat_minor": 1
}
