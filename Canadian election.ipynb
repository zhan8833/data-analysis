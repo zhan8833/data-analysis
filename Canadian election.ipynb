{
  "nbformat": 4,
  "nbformat_minor": 0,
  "metadata": {
    "colab": {
      "name": "zhang_1006584288_assignment2.ipynb",
      "provenance": [],
      "collapsed_sections": []
    },
    "kernelspec": {
      "name": "python3",
      "display_name": "Python 3"
    }
  },
  "cells": [
    {
      "cell_type": "markdown",
      "metadata": {
        "id": "-RypIjwNLmzG"
      },
      "source": [
        "# **Assignment 2: Sentiment Analysis**\n",
        "\n",
        "*   **name**: Yaqi Zhang\n",
        "*   **student number**: 1006584288"
      ]
    },
    {
      "cell_type": "code",
      "metadata": {
        "id": "Pen93prN1Q2b",
        "colab": {
          "base_uri": "https://localhost:8080/",
          "height": 52
        },
        "outputId": "add1e830-82c3-4d0b-bd30-f8d76ff80d7a"
      },
      "source": [
        "import os\n",
        "import pandas as pd\n",
        "import numpy as np\n",
        "import matplotlib.pyplot as plt\n",
        "import seaborn as sns\n",
        "from collections import Counter\n",
        "from sklearn.preprocessing import LabelEncoder\n",
        "from sklearn.metrics import confusion_matrix as cm\n",
        "from sklearn.metrics import confusion_matrix\n",
        "import re, nltk\n",
        "nltk.download(\"stopwords\")\n",
        "from nltk.corpus import stopwords\n",
        "from nltk.tokenize import RegexpTokenizer\n",
        "from nltk.stem import PorterStemmer\n",
        "from nltk.tokenize import word_tokenize\n",
        "from html.parser import HTMLParser\n",
        "\n",
        "from sklearn.feature_extraction.text import CountVectorizer\n",
        "from sklearn.feature_extraction.text import TfidfVectorizer\n",
        "try:\n",
        "    from gensim.models import word2vec\n",
        "except:\n",
        "    !pip install gensim\n",
        "    from gensim.models import word2vec"
      ],
      "execution_count": null,
      "outputs": [
        {
          "output_type": "stream",
          "text": [
            "[nltk_data] Downloading package stopwords to /root/nltk_data...\n",
            "[nltk_data]   Package stopwords is already up-to-date!\n"
          ],
          "name": "stdout"
        }
      ]
    },
    {
      "cell_type": "code",
      "metadata": {
        "id": "ZnAVF427mJ9h",
        "colab": {
          "base_uri": "https://localhost:8080/",
          "height": 124
        },
        "outputId": "1d6cee87-ab8d-4878-9cf7-dbbcf176af7e"
      },
      "source": [
        "from google.colab import drive\n",
        "drive.mount('/drive')"
      ],
      "execution_count": null,
      "outputs": [
        {
          "output_type": "stream",
          "text": [
            "Go to this URL in a browser: https://accounts.google.com/o/oauth2/auth?client_id=947318989803-6bn6qk8qdgf4n4g3pfee6491hc0brc4i.apps.googleusercontent.com&redirect_uri=urn%3aietf%3awg%3aoauth%3a2.0%3aoob&response_type=code&scope=email%20https%3a%2f%2fwww.googleapis.com%2fauth%2fdocs.test%20https%3a%2f%2fwww.googleapis.com%2fauth%2fdrive%20https%3a%2f%2fwww.googleapis.com%2fauth%2fdrive.photos.readonly%20https%3a%2f%2fwww.googleapis.com%2fauth%2fpeopleapi.readonly\n",
            "\n",
            "Enter your authorization code:\n",
            "··········\n",
            "Mounted at /drive\n"
          ],
          "name": "stdout"
        }
      ]
    },
    {
      "cell_type": "code",
      "metadata": {
        "id": "Z1Sgen07mQoO",
        "colab": {
          "base_uri": "https://localhost:8080/",
          "height": 202
        },
        "outputId": "ca992ab2-dcd8-4d3d-cee6-8189a679e833"
      },
      "source": [
        "\n",
        "os.chdir('/drive/My Drive/Colab Notebooks/1624 Assignment2')\n",
        "df = pd.read_csv('Canadian_elections_2019.csv')\n",
        "df.head()"
      ],
      "execution_count": null,
      "outputs": [
        {
          "output_type": "execute_result",
          "data": {
            "text/html": [
              "<div>\n",
              "<style scoped>\n",
              "    .dataframe tbody tr th:only-of-type {\n",
              "        vertical-align: middle;\n",
              "    }\n",
              "\n",
              "    .dataframe tbody tr th {\n",
              "        vertical-align: top;\n",
              "    }\n",
              "\n",
              "    .dataframe thead th {\n",
              "        text-align: right;\n",
              "    }\n",
              "</style>\n",
              "<table border=\"1\" class=\"dataframe\">\n",
              "  <thead>\n",
              "    <tr style=\"text-align: right;\">\n",
              "      <th></th>\n",
              "      <th>sentiment</th>\n",
              "      <th>negative_reason</th>\n",
              "      <th>text</th>\n",
              "    </tr>\n",
              "  </thead>\n",
              "  <tbody>\n",
              "    <tr>\n",
              "      <th>0</th>\n",
              "      <td>Negative</td>\n",
              "      <td>Women Reproductive right and Racism</td>\n",
              "      <td>b\"@RosieBarton So instead of your suggestion, ...</td>\n",
              "    </tr>\n",
              "    <tr>\n",
              "      <th>1</th>\n",
              "      <td>Positive</td>\n",
              "      <td>NaN</td>\n",
              "      <td>b\"#AllWomanSpacewalk it's real!\\n@Space_Statio...</td>\n",
              "    </tr>\n",
              "    <tr>\n",
              "      <th>2</th>\n",
              "      <td>Negative</td>\n",
              "      <td>Economy</td>\n",
              "      <td>b\"#Brantford It's going to cost YOU $94 BILLIO...</td>\n",
              "    </tr>\n",
              "    <tr>\n",
              "      <th>3</th>\n",
              "      <td>Positive</td>\n",
              "      <td>NaN</td>\n",
              "      <td>b\"#Canada #CanadaElection2019 #CanadaVotes \\n#...</td>\n",
              "    </tr>\n",
              "    <tr>\n",
              "      <th>4</th>\n",
              "      <td>Negative</td>\n",
              "      <td>Economy</td>\n",
              "      <td>b\"#Canada #taxpayers are sick &amp;amp; tired of h...</td>\n",
              "    </tr>\n",
              "  </tbody>\n",
              "</table>\n",
              "</div>"
            ],
            "text/plain": [
              "  sentiment  ...                                               text\n",
              "0  Negative  ...  b\"@RosieBarton So instead of your suggestion, ...\n",
              "1  Positive  ...  b\"#AllWomanSpacewalk it's real!\\n@Space_Statio...\n",
              "2  Negative  ...  b\"#Brantford It's going to cost YOU $94 BILLIO...\n",
              "3  Positive  ...  b\"#Canada #CanadaElection2019 #CanadaVotes \\n#...\n",
              "4  Negative  ...  b\"#Canada #taxpayers are sick &amp; tired of h...\n",
              "\n",
              "[5 rows x 3 columns]"
            ]
          },
          "metadata": {
            "tags": []
          },
          "execution_count": 122
        }
      ]
    },
    {
      "cell_type": "markdown",
      "metadata": {
        "id": "_V0vhsQ5Unjb"
      },
      "source": [
        "# **1. DATA CLEANING**"
      ]
    },
    {
      "cell_type": "markdown",
      "metadata": {
        "id": "l5dtzshVVEvt"
      },
      "source": [
        "o All html tags and attributes (i.e., /<[^>]+>/) are removed. \n",
        "\n",
        "o Html character codes (i.e., &...;) are replaced with an ASCII equivalent. \n",
        "\n",
        "o All URLs are removed. \n",
        "\n",
        "o All characters in the text are in lowercase. \n",
        "\n",
        "o All stop words are removed. Be clear in what you consider as a stop word. \n",
        "\n",
        "o If a tweet is empty after pre-processing, it should be preserved as such"
      ]
    },
    {
      "cell_type": "markdown",
      "metadata": {
        "id": "wWgbDP2GpAJ0"
      },
      "source": [
        "###**1.1 Data cleaning for Canadian elections dataset**"
      ]
    },
    {
      "cell_type": "code",
      "metadata": {
        "id": "3vxYdgvz2y73",
        "colab": {
          "base_uri": "https://localhost:8080/",
          "height": 72
        },
        "outputId": "b878b99d-2b09-4030-a6a7-5b207a009ec6"
      },
      "source": [
        "for i in range(len(df)):\n",
        "  t = df.iloc[i,2]\n",
        "  t = t.lstrip('b')\n",
        "  #All characters in the text are in lowercase.\n",
        "  t = t.lower()\n",
        "  #All html tags and attributes (i.e., /<[^>]+>/) are removed.\n",
        "  t = re.sub('(/<[^>]+>/)', '', t)\n",
        "  t = re.sub(r'\\s*<.*?>', '', t)\n",
        "  #All URLs are removed\n",
        "  t = re.sub('(\\s+\\S+.[^\\s]+/\\S+)','',t)\n",
        "  #Html character codes (i.e., &...;) are replaced with an ASCII equivalent.\n",
        "  t = HTMLParser().unescape(t)\n",
        "  #stop words\n",
        "  tokenizer = RegexpTokenizer(r'\\w+')         \n",
        "  b = tokenizer.tokenize(t)\n",
        "  t = [word for word in b if word not in stopwords.words('english')]\n",
        "  #stem\n",
        "  ps = PorterStemmer()\n",
        "  t = [ps.stem(word) for word in t]\n",
        "\n",
        "  df.iloc[i,2] = t"
      ],
      "execution_count": null,
      "outputs": [
        {
          "output_type": "stream",
          "text": [
            "/usr/local/lib/python3.6/dist-packages/ipykernel_launcher.py:12: DeprecationWarning: The unescape method is deprecated and will be removed in 3.5, use html.unescape() instead.\n",
            "  if sys.path[0] == '':\n"
          ],
          "name": "stderr"
        }
      ]
    },
    {
      "cell_type": "code",
      "metadata": {
        "id": "M60Vj_dkA4mg"
      },
      "source": [
        "df.to_csv('df.csv', index=False)"
      ],
      "execution_count": null,
      "outputs": []
    },
    {
      "cell_type": "markdown",
      "metadata": {
        "id": "niIPhiBkpNAj"
      },
      "source": [
        "###**1.2 Data cleaning for sentiments dataset**"
      ]
    },
    {
      "cell_type": "code",
      "metadata": {
        "id": "u6Zv9BAdg7Fe",
        "colab": {
          "base_uri": "https://localhost:8080/",
          "height": 415
        },
        "outputId": "b81ed0d1-a5d1-4e54-912a-34711babf3bc"
      },
      "source": [
        "df1 = pd.read_csv(\"Sentiment.csv\", low_memory = False)\n",
        "df1"
      ],
      "execution_count": null,
      "outputs": [
        {
          "output_type": "execute_result",
          "data": {
            "text/html": [
              "<div>\n",
              "<style scoped>\n",
              "    .dataframe tbody tr th:only-of-type {\n",
              "        vertical-align: middle;\n",
              "    }\n",
              "\n",
              "    .dataframe tbody tr th {\n",
              "        vertical-align: top;\n",
              "    }\n",
              "\n",
              "    .dataframe thead th {\n",
              "        text-align: right;\n",
              "    }\n",
              "</style>\n",
              "<table border=\"1\" class=\"dataframe\">\n",
              "  <thead>\n",
              "    <tr style=\"text-align: right;\">\n",
              "      <th></th>\n",
              "      <th>sentiment</th>\n",
              "      <th>text</th>\n",
              "    </tr>\n",
              "  </thead>\n",
              "  <tbody>\n",
              "    <tr>\n",
              "      <th>0</th>\n",
              "      <td>Positive</td>\n",
              "      <td>RT @Diplomtc_Immnty: @realDonaldTrump They tri...</td>\n",
              "    </tr>\n",
              "    <tr>\n",
              "      <th>1</th>\n",
              "      <td>Negative</td>\n",
              "      <td>@chiefy74 Damn i'm jealous, i wanna watch the ...</td>\n",
              "    </tr>\n",
              "    <tr>\n",
              "      <th>2</th>\n",
              "      <td>Positive</td>\n",
              "      <td>I'm listening The Beatles now. They're great</td>\n",
              "    </tr>\n",
              "    <tr>\n",
              "      <th>3</th>\n",
              "      <td>Positive</td>\n",
              "      <td>@ddlovato could i please get a shout out or an...</td>\n",
              "    </tr>\n",
              "    <tr>\n",
              "      <th>4</th>\n",
              "      <td>Positive</td>\n",
              "      <td>@salspizza just spotted ur message there Tony ...</td>\n",
              "    </tr>\n",
              "    <tr>\n",
              "      <th>...</th>\n",
              "      <td>...</td>\n",
              "      <td>...</td>\n",
              "    </tr>\n",
              "    <tr>\n",
              "      <th>133806</th>\n",
              "      <td>Positive</td>\n",
              "      <td>@scottw Nice, I have the 20/20 but to be hones...</td>\n",
              "    </tr>\n",
              "    <tr>\n",
              "      <th>133807</th>\n",
              "      <td>Positive</td>\n",
              "      <td>â€œ@BW_React: #GOPDebate verdict: @JohnKasich ...</td>\n",
              "    </tr>\n",
              "    <tr>\n",
              "      <th>133808</th>\n",
              "      <td>Negative</td>\n",
              "      <td>@amtrack  i am sorry .... i love you tho and t...</td>\n",
              "    </tr>\n",
              "    <tr>\n",
              "      <th>133809</th>\n",
              "      <td>Positive</td>\n",
              "      <td>@RazorTV http://tinyurl.com/d96txo - Champions...</td>\n",
              "    </tr>\n",
              "    <tr>\n",
              "      <th>133810</th>\n",
              "      <td>Negative</td>\n",
              "      <td>Beautiful day, and I'm on my way to the office...</td>\n",
              "    </tr>\n",
              "  </tbody>\n",
              "</table>\n",
              "<p>133811 rows × 2 columns</p>\n",
              "</div>"
            ],
            "text/plain": [
              "       sentiment                                               text\n",
              "0       Positive  RT @Diplomtc_Immnty: @realDonaldTrump They tri...\n",
              "1       Negative  @chiefy74 Damn i'm jealous, i wanna watch the ...\n",
              "2       Positive      I'm listening The Beatles now. They're great \n",
              "3       Positive  @ddlovato could i please get a shout out or an...\n",
              "4       Positive  @salspizza just spotted ur message there Tony ...\n",
              "...          ...                                                ...\n",
              "133806  Positive  @scottw Nice, I have the 20/20 but to be hones...\n",
              "133807  Positive  â€œ@BW_React: #GOPDebate verdict: @JohnKasich ...\n",
              "133808  Negative  @amtrack  i am sorry .... i love you tho and t...\n",
              "133809  Positive  @RazorTV http://tinyurl.com/d96txo - Champions...\n",
              "133810  Negative  Beautiful day, and I'm on my way to the office...\n",
              "\n",
              "[133811 rows x 2 columns]"
            ]
          },
          "metadata": {
            "tags": []
          },
          "execution_count": 76
        }
      ]
    },
    {
      "cell_type": "code",
      "metadata": {
        "id": "7bj1PNPA60Id",
        "colab": {
          "base_uri": "https://localhost:8080/",
          "height": 69
        },
        "outputId": "e30fc1cb-1972-4b0c-ca2c-7193f75bf509"
      },
      "source": [
        "df1.isnull().any()"
      ],
      "execution_count": null,
      "outputs": [
        {
          "output_type": "execute_result",
          "data": {
            "text/plain": [
              "sentiment    False\n",
              "text          True\n",
              "dtype: bool"
            ]
          },
          "metadata": {
            "tags": []
          },
          "execution_count": 10
        }
      ]
    },
    {
      "cell_type": "code",
      "metadata": {
        "id": "-3WBicgD7hue"
      },
      "source": [
        "#Drop all the Nan \n",
        "df1 = df1.dropna(axis=0,how='any')"
      ],
      "execution_count": null,
      "outputs": []
    },
    {
      "cell_type": "code",
      "metadata": {
        "id": "8KSrF4nZ4zK1",
        "colab": {
          "base_uri": "https://localhost:8080/",
          "height": 35
        },
        "outputId": "f0453fc7-bd2c-4ab2-c81d-f94c0974f0de"
      },
      "source": [
        "df1['sentiment'].unique()"
      ],
      "execution_count": null,
      "outputs": [
        {
          "output_type": "execute_result",
          "data": {
            "text/plain": [
              "array(['Positive', 'Negative', 'Neutral'], dtype=object)"
            ]
          },
          "metadata": {
            "tags": []
          },
          "execution_count": 12
        }
      ]
    },
    {
      "cell_type": "code",
      "metadata": {
        "id": "wX1Mfd2d7kjj"
      },
      "source": [
        "#Drop all the neutral sentiment data\n",
        "df1=df1[~df1['sentiment'].isin(['Neutral'])]"
      ],
      "execution_count": null,
      "outputs": []
    },
    {
      "cell_type": "code",
      "metadata": {
        "id": "MIMrZMmug7tQ",
        "colab": {
          "base_uri": "https://localhost:8080/",
          "height": 72
        },
        "outputId": "1f814f4c-374a-4675-8bd8-40e05239edca"
      },
      "source": [
        "for i in range(len(df1)):\n",
        "  t = df1.iloc[i,1]\n",
        "  #All characters in the text are in lowercase.\n",
        "  t = t.lower()\n",
        "  #All html tags and attributes (i.e., /<[^>]+>/) are removed.\n",
        "  t = re.sub('(/<[^>]+>/)', '', t)\n",
        "  t = re.sub(r'\\s*<.*?>', '', t)\n",
        "  #All URLs are removed\n",
        "  t = re.sub('(\\s+\\S+.[^\\s]+/\\S+)','',t)\n",
        "  #Html character codes (i.e., &...;) are replaced with an ASCII equivalent.\n",
        "  t = HTMLParser().unescape(t)\n",
        "  #stop words\n",
        "  tokenizer = RegexpTokenizer(r'\\w+')         \n",
        "  b = tokenizer.tokenize(t)\n",
        "  t = [word for word in b if word not in stopwords.words('english')]\n",
        "  #stem\n",
        "  ps = PorterStemmer()\n",
        "  t = [ps.stem(word) for word in t]\n",
        "\n",
        "  df1.iloc[i,1] = t"
      ],
      "execution_count": null,
      "outputs": [
        {
          "output_type": "stream",
          "text": [
            "/usr/local/lib/python3.6/dist-packages/ipykernel_launcher.py:11: DeprecationWarning: The unescape method is deprecated and will be removed in 3.5, use html.unescape() instead.\n",
            "  # This is added back by InteractiveShellApp.init_path()\n"
          ],
          "name": "stderr"
        }
      ]
    },
    {
      "cell_type": "code",
      "metadata": {
        "id": "yoGt9IVz5qKK"
      },
      "source": [
        "df1.reset_index(inplace = True,drop = True)"
      ],
      "execution_count": null,
      "outputs": []
    },
    {
      "cell_type": "code",
      "metadata": {
        "id": "enWXMskPblI6"
      },
      "source": [
        "df1.to_csv('df1.csv', index=False)"
      ],
      "execution_count": null,
      "outputs": []
    },
    {
      "cell_type": "markdown",
      "metadata": {
        "id": "RYlFwclvAat2"
      },
      "source": [
        "# **2. Exploratory analysis**"
      ]
    },
    {
      "cell_type": "markdown",
      "metadata": {
        "id": "WU87WCuBAiIi"
      },
      "source": [
        "###**2.1 Exploratory analysis for Canadian elections dataset**\n",
        "Design a simple procedure that determines the political party (Liberal, Conservative, NDP, None) of a given tweet and apply this procedure to all the tweets in the 2019 Canadian elections dataset. Then present a figure for the 2019 Canadian election tweets\n",
        "\n",
        " "
      ]
    },
    {
      "cell_type": "code",
      "metadata": {
        "id": "KzACCb0moU2B"
      },
      "source": [
        "liberal =['trudeau', 'trudeaus', \"justin\", \"justintrudeau\", \"liberal\", \"liber\", \"liberals\",\"realchange\",\"red\",\"teamtrudeau\",\"lpc\"] \n",
        "conservative=[\"harper\",\"harpers\", 'stephenharper', \"steven\", \"conserv\", \"conservative\",\"conservatives\",\"tcot\",\"blue\",\"cpc\",'pttory']\n",
        "ndp=[\"ndp\",\"orange\",\"quebec\",\"tommulcair\",\"tommulcairs\", \"mulcair\",\"mulcairs\",\"ptndp\",\"ready4change\"]"
      ],
      "execution_count": null,
      "outputs": []
    },
    {
      "cell_type": "code",
      "metadata": {
        "id": "7Ow9zWwOaVzI"
      },
      "source": [
        "df['political_party']='None'\n",
        "for i in range(len(df)):\n",
        "  t = df.iloc[i,2]\n",
        "  for j in liberal:\n",
        "    if j in t:\n",
        "      df.iloc[i,3] = 'Liberal'\n",
        "  for j in conservative:\n",
        "    if j in t:\n",
        "      df.iloc[i,3] = 'Conservative'  \n",
        "  for j in ndp:\n",
        "    if j in t:\n",
        "      df.iloc[i,3] = 'NDP'\n",
        "  "
      ],
      "execution_count": null,
      "outputs": []
    },
    {
      "cell_type": "code",
      "metadata": {
        "id": "RWjhtJYYNpCQ",
        "colab": {
          "base_uri": "https://localhost:8080/",
          "height": 104
        },
        "outputId": "38b61858-1ddd-44fa-b569-255ccc9f2b7d"
      },
      "source": [
        "df[\"political_party\"].value_counts()"
      ],
      "execution_count": null,
      "outputs": [
        {
          "output_type": "execute_result",
          "data": {
            "text/plain": [
              "None            1355\n",
              "Liberal          321\n",
              "Conservative     310\n",
              "NDP              147\n",
              "Name: political_party, dtype: int64"
            ]
          },
          "metadata": {
            "tags": []
          },
          "execution_count": 83
        }
      ]
    },
    {
      "cell_type": "code",
      "metadata": {
        "id": "xhBLuHTOWy9l",
        "colab": {
          "base_uri": "https://localhost:8080/",
          "height": 295
        },
        "outputId": "52405026-ec44-47b8-a079-5c660e315ea1"
      },
      "source": [
        "#draw two bar plots for the 2019 Canadian election tweets\n",
        "from collections import Counter\n",
        "x = Counter(df['political_party'])\n",
        "l = range(len(x.keys()))\n",
        "plt.bar(l, x.values())\n",
        "plt.xticks(l, x.keys())\n",
        "plt.xlabel('Name of the political party')\n",
        "plt.ylabel('Number of related tweets')\n",
        "plt.title('Distribution of the Political Affliation of the Tweets')\n",
        "plt.show()"
      ],
      "execution_count": null,
      "outputs": [
        {
          "output_type": "display_data",
          "data": {
            "image/png": "[encoded data removed]",
            "text/plain": [
              "<Figure size 432x288 with 1 Axes>"
            ]
          },
          "metadata": {
            "tags": []
          }
        }
      ]
    },
    {
      "cell_type": "code",
      "metadata": {
        "id": "dyupezFBkNm2",
        "colab": {
          "base_uri": "https://localhost:8080/",
          "height": 351
        },
        "outputId": "fba951b3-0a69-4141-a8cf-7be5039d1e27"
      },
      "source": [
        "df_group = df.groupby(['political_party', 'sentiment']).size()\n",
        "df_group.unstack().plot.bar()\n",
        "plt.xlabel('Name of the political party')\n",
        "plt.ylabel('Counts of tweets')\n",
        "plt.title('Comparison of Positive/Negative Tweets for Political Party')\n",
        "plt.show()"
      ],
      "execution_count": null,
      "outputs": [
        {
          "output_type": "display_data",
          "data": {
            "image/png": "[encoded data removed]",
            "text/plain": [
              "<Figure size 432x288 with 1 Axes>"
            ]
          },
          "metadata": {
            "tags": []
          }
        }
      ]
    },
    {
      "cell_type": "markdown",
      "metadata": {
        "id": "SuZyuJvfXjhD"
      },
      "source": [
        "The first plot above shows imbalance distribution of political party. Most of tweets are classified to 'None' as they don't have any key words in the lists while 'NDP' has the least number of related tweets. Number of tweets about Liberal and Conservative are close since they are two competitive parties in Canada.\n",
        "\n",
        "The second plot shows the comparison of positive and negative tweets for each party. Number of negative tweets about conservative party is twice as much as positive tweets. And Ndp has much more positive tweets than negative."
      ]
    },
    {
      "cell_type": "markdown",
      "metadata": {
        "id": "ijcNsM6K96jl"
      },
      "source": [
        "###**2.2 Exploratory analysis for sentiments dataset**\n",
        "\n",
        "Present a graphical figure that visualizes some aspects of the generic tweets from sentiment dataset."
      ]
    },
    {
      "cell_type": "code",
      "metadata": {
        "id": "KdqQ7Xb5NwFa",
        "colab": {
          "base_uri": "https://localhost:8080/",
          "height": 69
        },
        "outputId": "ba2f0bfc-0fbb-4be1-8dce-96155937f692"
      },
      "source": [
        "df1['sentiment'].value_counts()"
      ],
      "execution_count": null,
      "outputs": [
        {
          "output_type": "execute_result",
          "data": {
            "text/plain": [
              "Negative    71419\n",
              "Positive    59236\n",
              "Name: sentiment, dtype: int64"
            ]
          },
          "metadata": {
            "tags": []
          },
          "execution_count": 22
        }
      ]
    },
    {
      "cell_type": "code",
      "metadata": {
        "id": "QAouvX31Eq9_",
        "colab": {
          "base_uri": "https://localhost:8080/",
          "height": 297
        },
        "outputId": "e64a42b8-5c53-499d-b97f-30849ce01c59"
      },
      "source": [
        "#draw a bar plot\n",
        "s1 = sns.countplot(x='sentiment',data=df1)\n",
        "s1.axes.set_title('Sentiment distributions',fontsize=16)\n",
        "plt.tight_layout()\n",
        "plt.show()"
      ],
      "execution_count": null,
      "outputs": [
        {
          "output_type": "display_data",
          "data": {
            "image/png": "[encoded data removed]",
            "text/plain": [
              "<Figure size 432x288 with 1 Axes>"
            ]
          },
          "metadata": {
            "tags": []
          }
        }
      ]
    },
    {
      "cell_type": "code",
      "metadata": {
        "id": "c0PAEmv9sVbJ",
        "colab": {
          "base_uri": "https://localhost:8080/",
          "height": 297
        },
        "outputId": "c46951e1-e105-4407-bd6a-2b29569f1f03"
      },
      "source": [
        "#draw a pie plot\n",
        "df1_group = df1.groupby(['sentiment']).size()\n",
        "df1_group.plot.pie(autopct='%1.1f%%', shadow=True, startangle=30)\n",
        "plt.title('Sentiment distributions')\n",
        "plt.tight_layout()\n",
        "plt.show()"
      ],
      "execution_count": null,
      "outputs": [
        {
          "output_type": "display_data",
          "data": {
            "image/png": "[encoded data removed]",
            "text/plain": [
              "<Figure size 432x288 with 1 Axes>"
            ]
          },
          "metadata": {
            "tags": []
          }
        }
      ]
    },
    {
      "cell_type": "markdown",
      "metadata": {
        "id": "jFTcmICiN-fb"
      },
      "source": [
        "# **3. Model preparation**"
      ]
    },
    {
      "cell_type": "markdown",
      "metadata": {
        "id": "IT3JT4PcBZhb"
      },
      "source": [
        "###**3.1 Preparation for generic tweets from *Sentiment.csv***"
      ]
    },
    {
      "cell_type": "code",
      "metadata": {
        "id": "zhL4rWeDuOFl"
      },
      "source": [
        "df1=pd.read_csv('df1.csv')"
      ],
      "execution_count": null,
      "outputs": []
    },
    {
      "cell_type": "code",
      "metadata": {
        "id": "veVDBeweji73"
      },
      "source": [
        "# Label the target variable, 1 for posotive and 0 for negative\n",
        "le = LabelEncoder()\n",
        "df1['sentiment']=le.fit_transform(df1['sentiment'])"
      ],
      "execution_count": null,
      "outputs": []
    },
    {
      "cell_type": "code",
      "metadata": {
        "id": "vxdkZqrbVlMM"
      },
      "source": [
        "# Split the generic tweets randomly into training data (70%) and test data (30%). \n",
        "from sklearn.model_selection import train_test_split\n",
        "x = df1['text']\n",
        "y = df1['sentiment']\n",
        "x_train, x_test, y_train, y_test = train_test_split(x, y, test_size=0.3, random_state=415)"
      ],
      "execution_count": null,
      "outputs": []
    },
    {
      "cell_type": "markdown",
      "metadata": {
        "id": "Pqb7IuSyr-Fr"
      },
      "source": [
        "Try two different types of features, word frequency (WF) and TF-IDF."
      ]
    },
    {
      "cell_type": "code",
      "metadata": {
        "id": "VXModkkpTx91"
      },
      "source": [
        "# Use the positive texts in training data to do feature selecting\n",
        "# Select the top 1000 words that appears most in the positive words\n",
        "feature = pd.DataFrame()\n",
        "feature['xt']=x_train\n",
        "feature['target']=y_train\n",
        "grouped = feature.groupby('target')\n",
        "posit = grouped.get_group(1)\n"
      ],
      "execution_count": null,
      "outputs": []
    },
    {
      "cell_type": "code",
      "metadata": {
        "id": "Im5Ft5yQjxpi"
      },
      "source": [
        "# WF\n",
        "vectorizer = CountVectorizer(max_features=1000)\n",
        "vectorizer.fit(posit['xt'])\n",
        "array_WF = vectorizer.transform(x).toarray()"
      ],
      "execution_count": null,
      "outputs": []
    },
    {
      "cell_type": "code",
      "metadata": {
        "id": "DO-vCHn9hqcP",
        "colab": {
          "base_uri": "https://localhost:8080/",
          "height": 251
        },
        "outputId": "7c381425-f9e2-45af-9a29-656e87a2a25f"
      },
      "source": [
        "WF = pd.DataFrame(array_WF,columns=vectorizer.get_feature_names(),index=y.index)\n",
        "WF['target']=y\n",
        "WF.head()"
      ],
      "execution_count": null,
      "outputs": [
        {
          "output_type": "execute_result",
          "data": {
            "text/html": [
              "<div>\n",
              "<style scoped>\n",
              "    .dataframe tbody tr th:only-of-type {\n",
              "        vertical-align: middle;\n",
              "    }\n",
              "\n",
              "    .dataframe tbody tr th {\n",
              "        vertical-align: top;\n",
              "    }\n",
              "\n",
              "    .dataframe thead th {\n",
              "        text-align: right;\n",
              "    }\n",
              "</style>\n",
              "<table border=\"1\" class=\"dataframe\">\n",
              "  <thead>\n",
              "    <tr style=\"text-align: right;\">\n",
              "      <th></th>\n",
              "      <th>000</th>\n",
              "      <th>10</th>\n",
              "      <th>100</th>\n",
              "      <th>11</th>\n",
              "      <th>12</th>\n",
              "      <th>15</th>\n",
              "      <th>17</th>\n",
              "      <th>1st</th>\n",
              "      <th>20</th>\n",
              "      <th>24</th>\n",
              "      <th>25</th>\n",
              "      <th>2nd</th>\n",
              "      <th>30</th>\n",
              "      <th>420</th>\n",
              "      <th>50</th>\n",
              "      <th>80</th>\n",
              "      <th>abl</th>\n",
              "      <th>absolut</th>\n",
              "      <th>account</th>\n",
              "      <th>act</th>\n",
              "      <th>actual</th>\n",
              "      <th>ad</th>\n",
              "      <th>add</th>\n",
              "      <th>addict</th>\n",
              "      <th>ador</th>\n",
              "      <th>afternoon</th>\n",
              "      <th>age</th>\n",
              "      <th>ago</th>\n",
              "      <th>agre</th>\n",
              "      <th>ah</th>\n",
              "      <th>ahead</th>\n",
              "      <th>ahh</th>\n",
              "      <th>ahhh</th>\n",
              "      <th>air</th>\n",
              "      <th>album</th>\n",
              "      <th>almost</th>\n",
              "      <th>alon</th>\n",
              "      <th>along</th>\n",
              "      <th>alreadi</th>\n",
              "      <th>alright</th>\n",
              "      <th>...</th>\n",
              "      <th>wit</th>\n",
              "      <th>without</th>\n",
              "      <th>woke</th>\n",
              "      <th>women</th>\n",
              "      <th>wonder</th>\n",
              "      <th>woo</th>\n",
              "      <th>woot</th>\n",
              "      <th>word</th>\n",
              "      <th>work</th>\n",
              "      <th>world</th>\n",
              "      <th>worri</th>\n",
              "      <th>worth</th>\n",
              "      <th>would</th>\n",
              "      <th>wow</th>\n",
              "      <th>write</th>\n",
              "      <th>wrong</th>\n",
              "      <th>www</th>\n",
              "      <th>xd</th>\n",
              "      <th>xoxo</th>\n",
              "      <th>xx</th>\n",
              "      <th>xxx</th>\n",
              "      <th>ya</th>\n",
              "      <th>yay</th>\n",
              "      <th>ye</th>\n",
              "      <th>yea</th>\n",
              "      <th>yeah</th>\n",
              "      <th>year</th>\n",
              "      <th>yep</th>\n",
              "      <th>yesterday</th>\n",
              "      <th>yet</th>\n",
              "      <th>yo</th>\n",
              "      <th>young</th>\n",
              "      <th>youtub</th>\n",
              "      <th>yr</th>\n",
              "      <th>yum</th>\n",
              "      <th>yummi</th>\n",
              "      <th>yup</th>\n",
              "      <th>ºðÿ</th>\n",
              "      <th>ðÿ</th>\n",
              "      <th>target</th>\n",
              "    </tr>\n",
              "  </thead>\n",
              "  <tbody>\n",
              "    <tr>\n",
              "      <th>0</th>\n",
              "      <td>0</td>\n",
              "      <td>0</td>\n",
              "      <td>0</td>\n",
              "      <td>0</td>\n",
              "      <td>0</td>\n",
              "      <td>0</td>\n",
              "      <td>0</td>\n",
              "      <td>0</td>\n",
              "      <td>0</td>\n",
              "      <td>0</td>\n",
              "      <td>0</td>\n",
              "      <td>0</td>\n",
              "      <td>0</td>\n",
              "      <td>0</td>\n",
              "      <td>0</td>\n",
              "      <td>0</td>\n",
              "      <td>0</td>\n",
              "      <td>0</td>\n",
              "      <td>0</td>\n",
              "      <td>0</td>\n",
              "      <td>0</td>\n",
              "      <td>0</td>\n",
              "      <td>0</td>\n",
              "      <td>0</td>\n",
              "      <td>0</td>\n",
              "      <td>0</td>\n",
              "      <td>0</td>\n",
              "      <td>0</td>\n",
              "      <td>0</td>\n",
              "      <td>0</td>\n",
              "      <td>0</td>\n",
              "      <td>0</td>\n",
              "      <td>0</td>\n",
              "      <td>0</td>\n",
              "      <td>0</td>\n",
              "      <td>0</td>\n",
              "      <td>0</td>\n",
              "      <td>0</td>\n",
              "      <td>0</td>\n",
              "      <td>0</td>\n",
              "      <td>...</td>\n",
              "      <td>0</td>\n",
              "      <td>0</td>\n",
              "      <td>0</td>\n",
              "      <td>0</td>\n",
              "      <td>0</td>\n",
              "      <td>0</td>\n",
              "      <td>0</td>\n",
              "      <td>0</td>\n",
              "      <td>0</td>\n",
              "      <td>0</td>\n",
              "      <td>0</td>\n",
              "      <td>0</td>\n",
              "      <td>0</td>\n",
              "      <td>0</td>\n",
              "      <td>0</td>\n",
              "      <td>0</td>\n",
              "      <td>0</td>\n",
              "      <td>0</td>\n",
              "      <td>0</td>\n",
              "      <td>0</td>\n",
              "      <td>0</td>\n",
              "      <td>0</td>\n",
              "      <td>0</td>\n",
              "      <td>0</td>\n",
              "      <td>0</td>\n",
              "      <td>0</td>\n",
              "      <td>0</td>\n",
              "      <td>0</td>\n",
              "      <td>0</td>\n",
              "      <td>0</td>\n",
              "      <td>0</td>\n",
              "      <td>0</td>\n",
              "      <td>0</td>\n",
              "      <td>0</td>\n",
              "      <td>0</td>\n",
              "      <td>0</td>\n",
              "      <td>0</td>\n",
              "      <td>0</td>\n",
              "      <td>0</td>\n",
              "      <td>1</td>\n",
              "    </tr>\n",
              "    <tr>\n",
              "      <th>1</th>\n",
              "      <td>0</td>\n",
              "      <td>0</td>\n",
              "      <td>0</td>\n",
              "      <td>0</td>\n",
              "      <td>0</td>\n",
              "      <td>0</td>\n",
              "      <td>0</td>\n",
              "      <td>0</td>\n",
              "      <td>0</td>\n",
              "      <td>0</td>\n",
              "      <td>0</td>\n",
              "      <td>0</td>\n",
              "      <td>0</td>\n",
              "      <td>0</td>\n",
              "      <td>0</td>\n",
              "      <td>0</td>\n",
              "      <td>0</td>\n",
              "      <td>0</td>\n",
              "      <td>0</td>\n",
              "      <td>0</td>\n",
              "      <td>0</td>\n",
              "      <td>0</td>\n",
              "      <td>0</td>\n",
              "      <td>0</td>\n",
              "      <td>0</td>\n",
              "      <td>0</td>\n",
              "      <td>0</td>\n",
              "      <td>0</td>\n",
              "      <td>0</td>\n",
              "      <td>0</td>\n",
              "      <td>0</td>\n",
              "      <td>0</td>\n",
              "      <td>0</td>\n",
              "      <td>0</td>\n",
              "      <td>0</td>\n",
              "      <td>0</td>\n",
              "      <td>0</td>\n",
              "      <td>0</td>\n",
              "      <td>0</td>\n",
              "      <td>0</td>\n",
              "      <td>...</td>\n",
              "      <td>0</td>\n",
              "      <td>0</td>\n",
              "      <td>0</td>\n",
              "      <td>0</td>\n",
              "      <td>0</td>\n",
              "      <td>0</td>\n",
              "      <td>0</td>\n",
              "      <td>0</td>\n",
              "      <td>0</td>\n",
              "      <td>0</td>\n",
              "      <td>0</td>\n",
              "      <td>0</td>\n",
              "      <td>0</td>\n",
              "      <td>0</td>\n",
              "      <td>0</td>\n",
              "      <td>0</td>\n",
              "      <td>0</td>\n",
              "      <td>0</td>\n",
              "      <td>0</td>\n",
              "      <td>0</td>\n",
              "      <td>0</td>\n",
              "      <td>0</td>\n",
              "      <td>0</td>\n",
              "      <td>0</td>\n",
              "      <td>0</td>\n",
              "      <td>0</td>\n",
              "      <td>0</td>\n",
              "      <td>0</td>\n",
              "      <td>0</td>\n",
              "      <td>0</td>\n",
              "      <td>0</td>\n",
              "      <td>0</td>\n",
              "      <td>0</td>\n",
              "      <td>0</td>\n",
              "      <td>0</td>\n",
              "      <td>0</td>\n",
              "      <td>0</td>\n",
              "      <td>0</td>\n",
              "      <td>0</td>\n",
              "      <td>0</td>\n",
              "    </tr>\n",
              "    <tr>\n",
              "      <th>2</th>\n",
              "      <td>0</td>\n",
              "      <td>0</td>\n",
              "      <td>0</td>\n",
              "      <td>0</td>\n",
              "      <td>0</td>\n",
              "      <td>0</td>\n",
              "      <td>0</td>\n",
              "      <td>0</td>\n",
              "      <td>0</td>\n",
              "      <td>0</td>\n",
              "      <td>0</td>\n",
              "      <td>0</td>\n",
              "      <td>0</td>\n",
              "      <td>0</td>\n",
              "      <td>0</td>\n",
              "      <td>0</td>\n",
              "      <td>0</td>\n",
              "      <td>0</td>\n",
              "      <td>0</td>\n",
              "      <td>0</td>\n",
              "      <td>0</td>\n",
              "      <td>0</td>\n",
              "      <td>0</td>\n",
              "      <td>0</td>\n",
              "      <td>0</td>\n",
              "      <td>0</td>\n",
              "      <td>0</td>\n",
              "      <td>0</td>\n",
              "      <td>0</td>\n",
              "      <td>0</td>\n",
              "      <td>0</td>\n",
              "      <td>0</td>\n",
              "      <td>0</td>\n",
              "      <td>0</td>\n",
              "      <td>0</td>\n",
              "      <td>0</td>\n",
              "      <td>0</td>\n",
              "      <td>0</td>\n",
              "      <td>0</td>\n",
              "      <td>0</td>\n",
              "      <td>...</td>\n",
              "      <td>0</td>\n",
              "      <td>0</td>\n",
              "      <td>0</td>\n",
              "      <td>0</td>\n",
              "      <td>0</td>\n",
              "      <td>0</td>\n",
              "      <td>0</td>\n",
              "      <td>0</td>\n",
              "      <td>0</td>\n",
              "      <td>0</td>\n",
              "      <td>0</td>\n",
              "      <td>0</td>\n",
              "      <td>0</td>\n",
              "      <td>0</td>\n",
              "      <td>0</td>\n",
              "      <td>0</td>\n",
              "      <td>0</td>\n",
              "      <td>0</td>\n",
              "      <td>0</td>\n",
              "      <td>0</td>\n",
              "      <td>0</td>\n",
              "      <td>0</td>\n",
              "      <td>0</td>\n",
              "      <td>0</td>\n",
              "      <td>0</td>\n",
              "      <td>0</td>\n",
              "      <td>0</td>\n",
              "      <td>0</td>\n",
              "      <td>0</td>\n",
              "      <td>0</td>\n",
              "      <td>0</td>\n",
              "      <td>0</td>\n",
              "      <td>0</td>\n",
              "      <td>0</td>\n",
              "      <td>0</td>\n",
              "      <td>0</td>\n",
              "      <td>0</td>\n",
              "      <td>0</td>\n",
              "      <td>0</td>\n",
              "      <td>1</td>\n",
              "    </tr>\n",
              "    <tr>\n",
              "      <th>3</th>\n",
              "      <td>0</td>\n",
              "      <td>0</td>\n",
              "      <td>0</td>\n",
              "      <td>0</td>\n",
              "      <td>0</td>\n",
              "      <td>0</td>\n",
              "      <td>0</td>\n",
              "      <td>0</td>\n",
              "      <td>0</td>\n",
              "      <td>0</td>\n",
              "      <td>0</td>\n",
              "      <td>0</td>\n",
              "      <td>0</td>\n",
              "      <td>0</td>\n",
              "      <td>0</td>\n",
              "      <td>0</td>\n",
              "      <td>0</td>\n",
              "      <td>0</td>\n",
              "      <td>0</td>\n",
              "      <td>0</td>\n",
              "      <td>0</td>\n",
              "      <td>0</td>\n",
              "      <td>0</td>\n",
              "      <td>0</td>\n",
              "      <td>0</td>\n",
              "      <td>0</td>\n",
              "      <td>0</td>\n",
              "      <td>0</td>\n",
              "      <td>0</td>\n",
              "      <td>0</td>\n",
              "      <td>0</td>\n",
              "      <td>0</td>\n",
              "      <td>0</td>\n",
              "      <td>0</td>\n",
              "      <td>0</td>\n",
              "      <td>0</td>\n",
              "      <td>0</td>\n",
              "      <td>0</td>\n",
              "      <td>0</td>\n",
              "      <td>0</td>\n",
              "      <td>...</td>\n",
              "      <td>0</td>\n",
              "      <td>0</td>\n",
              "      <td>0</td>\n",
              "      <td>0</td>\n",
              "      <td>0</td>\n",
              "      <td>0</td>\n",
              "      <td>0</td>\n",
              "      <td>0</td>\n",
              "      <td>0</td>\n",
              "      <td>0</td>\n",
              "      <td>0</td>\n",
              "      <td>0</td>\n",
              "      <td>0</td>\n",
              "      <td>0</td>\n",
              "      <td>0</td>\n",
              "      <td>0</td>\n",
              "      <td>0</td>\n",
              "      <td>0</td>\n",
              "      <td>0</td>\n",
              "      <td>0</td>\n",
              "      <td>0</td>\n",
              "      <td>0</td>\n",
              "      <td>0</td>\n",
              "      <td>0</td>\n",
              "      <td>0</td>\n",
              "      <td>0</td>\n",
              "      <td>0</td>\n",
              "      <td>0</td>\n",
              "      <td>0</td>\n",
              "      <td>0</td>\n",
              "      <td>0</td>\n",
              "      <td>0</td>\n",
              "      <td>0</td>\n",
              "      <td>0</td>\n",
              "      <td>0</td>\n",
              "      <td>0</td>\n",
              "      <td>0</td>\n",
              "      <td>0</td>\n",
              "      <td>0</td>\n",
              "      <td>1</td>\n",
              "    </tr>\n",
              "    <tr>\n",
              "      <th>4</th>\n",
              "      <td>0</td>\n",
              "      <td>0</td>\n",
              "      <td>0</td>\n",
              "      <td>0</td>\n",
              "      <td>0</td>\n",
              "      <td>0</td>\n",
              "      <td>0</td>\n",
              "      <td>0</td>\n",
              "      <td>0</td>\n",
              "      <td>0</td>\n",
              "      <td>0</td>\n",
              "      <td>0</td>\n",
              "      <td>0</td>\n",
              "      <td>0</td>\n",
              "      <td>0</td>\n",
              "      <td>0</td>\n",
              "      <td>0</td>\n",
              "      <td>0</td>\n",
              "      <td>0</td>\n",
              "      <td>0</td>\n",
              "      <td>0</td>\n",
              "      <td>0</td>\n",
              "      <td>0</td>\n",
              "      <td>0</td>\n",
              "      <td>0</td>\n",
              "      <td>0</td>\n",
              "      <td>0</td>\n",
              "      <td>0</td>\n",
              "      <td>0</td>\n",
              "      <td>0</td>\n",
              "      <td>0</td>\n",
              "      <td>0</td>\n",
              "      <td>0</td>\n",
              "      <td>0</td>\n",
              "      <td>0</td>\n",
              "      <td>0</td>\n",
              "      <td>0</td>\n",
              "      <td>0</td>\n",
              "      <td>0</td>\n",
              "      <td>0</td>\n",
              "      <td>...</td>\n",
              "      <td>0</td>\n",
              "      <td>0</td>\n",
              "      <td>0</td>\n",
              "      <td>0</td>\n",
              "      <td>0</td>\n",
              "      <td>0</td>\n",
              "      <td>0</td>\n",
              "      <td>0</td>\n",
              "      <td>0</td>\n",
              "      <td>0</td>\n",
              "      <td>0</td>\n",
              "      <td>0</td>\n",
              "      <td>0</td>\n",
              "      <td>0</td>\n",
              "      <td>0</td>\n",
              "      <td>0</td>\n",
              "      <td>0</td>\n",
              "      <td>0</td>\n",
              "      <td>0</td>\n",
              "      <td>0</td>\n",
              "      <td>0</td>\n",
              "      <td>0</td>\n",
              "      <td>0</td>\n",
              "      <td>0</td>\n",
              "      <td>0</td>\n",
              "      <td>0</td>\n",
              "      <td>0</td>\n",
              "      <td>0</td>\n",
              "      <td>0</td>\n",
              "      <td>0</td>\n",
              "      <td>0</td>\n",
              "      <td>0</td>\n",
              "      <td>0</td>\n",
              "      <td>0</td>\n",
              "      <td>0</td>\n",
              "      <td>0</td>\n",
              "      <td>0</td>\n",
              "      <td>0</td>\n",
              "      <td>0</td>\n",
              "      <td>1</td>\n",
              "    </tr>\n",
              "  </tbody>\n",
              "</table>\n",
              "<p>5 rows × 1001 columns</p>\n",
              "</div>"
            ],
            "text/plain": [
              "   000  10  100  11  12  15  17  ...  yr  yum  yummi  yup  ºðÿ  ðÿ  target\n",
              "0    0   0    0   0   0   0   0  ...   0    0      0    0    0   0       1\n",
              "1    0   0    0   0   0   0   0  ...   0    0      0    0    0   0       0\n",
              "2    0   0    0   0   0   0   0  ...   0    0      0    0    0   0       1\n",
              "3    0   0    0   0   0   0   0  ...   0    0      0    0    0   0       1\n",
              "4    0   0    0   0   0   0   0  ...   0    0      0    0    0   0       1\n",
              "\n",
              "[5 rows x 1001 columns]"
            ]
          },
          "metadata": {
            "tags": []
          },
          "execution_count": 68
        }
      ]
    },
    {
      "cell_type": "code",
      "metadata": {
        "id": "qSxmzcGbwPVk"
      },
      "source": [
        "WF_x_train, WF_x_test, WF_y_train, WF_y_test = train_test_split(WF.drop(['target'],axis=1), WF['target'], test_size=0.3, random_state=415)"
      ],
      "execution_count": null,
      "outputs": []
    },
    {
      "cell_type": "code",
      "metadata": {
        "id": "fEX1RK3bFzhj"
      },
      "source": [
        "# TF-IDF\n",
        "vectorizer3 = TfidfVectorizer(use_idf=True, smooth_idf=True, norm=None ,max_features=1000)\n",
        "vectorizer3.fit(posit['xt'])\n",
        "array_TFIDF = vectorizer3.transform(x).toarray()"
      ],
      "execution_count": null,
      "outputs": []
    },
    {
      "cell_type": "code",
      "metadata": {
        "id": "GQJ-j2l41N00",
        "colab": {
          "base_uri": "https://localhost:8080/",
          "height": 251
        },
        "outputId": "4f14adca-c1e5-47ae-95fe-3eba6ecbf8ab"
      },
      "source": [
        "TFIDF = pd.DataFrame(array_TFIDF,columns=vectorizer.get_feature_names(),index=y.index)\n",
        "TFIDF['target']=y\n",
        "TFIDF.head()"
      ],
      "execution_count": null,
      "outputs": [
        {
          "output_type": "execute_result",
          "data": {
            "text/html": [
              "<div>\n",
              "<style scoped>\n",
              "    .dataframe tbody tr th:only-of-type {\n",
              "        vertical-align: middle;\n",
              "    }\n",
              "\n",
              "    .dataframe tbody tr th {\n",
              "        vertical-align: top;\n",
              "    }\n",
              "\n",
              "    .dataframe thead th {\n",
              "        text-align: right;\n",
              "    }\n",
              "</style>\n",
              "<table border=\"1\" class=\"dataframe\">\n",
              "  <thead>\n",
              "    <tr style=\"text-align: right;\">\n",
              "      <th></th>\n",
              "      <th>000</th>\n",
              "      <th>10</th>\n",
              "      <th>100</th>\n",
              "      <th>11</th>\n",
              "      <th>12</th>\n",
              "      <th>15</th>\n",
              "      <th>17</th>\n",
              "      <th>1st</th>\n",
              "      <th>20</th>\n",
              "      <th>24</th>\n",
              "      <th>25</th>\n",
              "      <th>2nd</th>\n",
              "      <th>30</th>\n",
              "      <th>420</th>\n",
              "      <th>50</th>\n",
              "      <th>80</th>\n",
              "      <th>abl</th>\n",
              "      <th>absolut</th>\n",
              "      <th>account</th>\n",
              "      <th>act</th>\n",
              "      <th>actual</th>\n",
              "      <th>ad</th>\n",
              "      <th>add</th>\n",
              "      <th>addict</th>\n",
              "      <th>ador</th>\n",
              "      <th>afternoon</th>\n",
              "      <th>age</th>\n",
              "      <th>ago</th>\n",
              "      <th>agre</th>\n",
              "      <th>ah</th>\n",
              "      <th>ahead</th>\n",
              "      <th>ahh</th>\n",
              "      <th>ahhh</th>\n",
              "      <th>air</th>\n",
              "      <th>album</th>\n",
              "      <th>almost</th>\n",
              "      <th>alon</th>\n",
              "      <th>along</th>\n",
              "      <th>alreadi</th>\n",
              "      <th>alright</th>\n",
              "      <th>...</th>\n",
              "      <th>wit</th>\n",
              "      <th>without</th>\n",
              "      <th>woke</th>\n",
              "      <th>women</th>\n",
              "      <th>wonder</th>\n",
              "      <th>woo</th>\n",
              "      <th>woot</th>\n",
              "      <th>word</th>\n",
              "      <th>work</th>\n",
              "      <th>world</th>\n",
              "      <th>worri</th>\n",
              "      <th>worth</th>\n",
              "      <th>would</th>\n",
              "      <th>wow</th>\n",
              "      <th>write</th>\n",
              "      <th>wrong</th>\n",
              "      <th>www</th>\n",
              "      <th>xd</th>\n",
              "      <th>xoxo</th>\n",
              "      <th>xx</th>\n",
              "      <th>xxx</th>\n",
              "      <th>ya</th>\n",
              "      <th>yay</th>\n",
              "      <th>ye</th>\n",
              "      <th>yea</th>\n",
              "      <th>yeah</th>\n",
              "      <th>year</th>\n",
              "      <th>yep</th>\n",
              "      <th>yesterday</th>\n",
              "      <th>yet</th>\n",
              "      <th>yo</th>\n",
              "      <th>young</th>\n",
              "      <th>youtub</th>\n",
              "      <th>yr</th>\n",
              "      <th>yum</th>\n",
              "      <th>yummi</th>\n",
              "      <th>yup</th>\n",
              "      <th>ºðÿ</th>\n",
              "      <th>ðÿ</th>\n",
              "      <th>target</th>\n",
              "    </tr>\n",
              "  </thead>\n",
              "  <tbody>\n",
              "    <tr>\n",
              "      <th>0</th>\n",
              "      <td>0.0</td>\n",
              "      <td>0.0</td>\n",
              "      <td>0.0</td>\n",
              "      <td>0.0</td>\n",
              "      <td>0.0</td>\n",
              "      <td>0.0</td>\n",
              "      <td>0.0</td>\n",
              "      <td>0.0</td>\n",
              "      <td>0.0</td>\n",
              "      <td>0.0</td>\n",
              "      <td>0.0</td>\n",
              "      <td>0.0</td>\n",
              "      <td>0.0</td>\n",
              "      <td>0.0</td>\n",
              "      <td>0.0</td>\n",
              "      <td>0.0</td>\n",
              "      <td>0.0</td>\n",
              "      <td>0.0</td>\n",
              "      <td>0.0</td>\n",
              "      <td>0.0</td>\n",
              "      <td>0.0</td>\n",
              "      <td>0.0</td>\n",
              "      <td>0.0</td>\n",
              "      <td>0.0</td>\n",
              "      <td>0.0</td>\n",
              "      <td>0.0</td>\n",
              "      <td>0.0</td>\n",
              "      <td>0.0</td>\n",
              "      <td>0.0</td>\n",
              "      <td>0.0</td>\n",
              "      <td>0.0</td>\n",
              "      <td>0.0</td>\n",
              "      <td>0.0</td>\n",
              "      <td>0.0</td>\n",
              "      <td>0.0</td>\n",
              "      <td>0.0</td>\n",
              "      <td>0.0</td>\n",
              "      <td>0.0</td>\n",
              "      <td>0.0</td>\n",
              "      <td>0.0</td>\n",
              "      <td>...</td>\n",
              "      <td>0.0</td>\n",
              "      <td>0.0</td>\n",
              "      <td>0.0</td>\n",
              "      <td>0.0</td>\n",
              "      <td>0.0</td>\n",
              "      <td>0.0</td>\n",
              "      <td>0.0</td>\n",
              "      <td>0.0</td>\n",
              "      <td>0.0</td>\n",
              "      <td>0.0</td>\n",
              "      <td>0.0</td>\n",
              "      <td>0.0</td>\n",
              "      <td>0.0</td>\n",
              "      <td>0.0</td>\n",
              "      <td>0.0</td>\n",
              "      <td>0.0</td>\n",
              "      <td>0.0</td>\n",
              "      <td>0.0</td>\n",
              "      <td>0.0</td>\n",
              "      <td>0.0</td>\n",
              "      <td>0.0</td>\n",
              "      <td>0.0</td>\n",
              "      <td>0.0</td>\n",
              "      <td>0.0</td>\n",
              "      <td>0.0</td>\n",
              "      <td>0.0</td>\n",
              "      <td>0.0</td>\n",
              "      <td>0.0</td>\n",
              "      <td>0.0</td>\n",
              "      <td>0.0</td>\n",
              "      <td>0.0</td>\n",
              "      <td>0.0</td>\n",
              "      <td>0.0</td>\n",
              "      <td>0.0</td>\n",
              "      <td>0.0</td>\n",
              "      <td>0.0</td>\n",
              "      <td>0.0</td>\n",
              "      <td>0.0</td>\n",
              "      <td>0.0</td>\n",
              "      <td>1</td>\n",
              "    </tr>\n",
              "    <tr>\n",
              "      <th>1</th>\n",
              "      <td>0.0</td>\n",
              "      <td>0.0</td>\n",
              "      <td>0.0</td>\n",
              "      <td>0.0</td>\n",
              "      <td>0.0</td>\n",
              "      <td>0.0</td>\n",
              "      <td>0.0</td>\n",
              "      <td>0.0</td>\n",
              "      <td>0.0</td>\n",
              "      <td>0.0</td>\n",
              "      <td>0.0</td>\n",
              "      <td>0.0</td>\n",
              "      <td>0.0</td>\n",
              "      <td>0.0</td>\n",
              "      <td>0.0</td>\n",
              "      <td>0.0</td>\n",
              "      <td>0.0</td>\n",
              "      <td>0.0</td>\n",
              "      <td>0.0</td>\n",
              "      <td>0.0</td>\n",
              "      <td>0.0</td>\n",
              "      <td>0.0</td>\n",
              "      <td>0.0</td>\n",
              "      <td>0.0</td>\n",
              "      <td>0.0</td>\n",
              "      <td>0.0</td>\n",
              "      <td>0.0</td>\n",
              "      <td>0.0</td>\n",
              "      <td>0.0</td>\n",
              "      <td>0.0</td>\n",
              "      <td>0.0</td>\n",
              "      <td>0.0</td>\n",
              "      <td>0.0</td>\n",
              "      <td>0.0</td>\n",
              "      <td>0.0</td>\n",
              "      <td>0.0</td>\n",
              "      <td>0.0</td>\n",
              "      <td>0.0</td>\n",
              "      <td>0.0</td>\n",
              "      <td>0.0</td>\n",
              "      <td>...</td>\n",
              "      <td>0.0</td>\n",
              "      <td>0.0</td>\n",
              "      <td>0.0</td>\n",
              "      <td>0.0</td>\n",
              "      <td>0.0</td>\n",
              "      <td>0.0</td>\n",
              "      <td>0.0</td>\n",
              "      <td>0.0</td>\n",
              "      <td>0.0</td>\n",
              "      <td>0.0</td>\n",
              "      <td>0.0</td>\n",
              "      <td>0.0</td>\n",
              "      <td>0.0</td>\n",
              "      <td>0.0</td>\n",
              "      <td>0.0</td>\n",
              "      <td>0.0</td>\n",
              "      <td>0.0</td>\n",
              "      <td>0.0</td>\n",
              "      <td>0.0</td>\n",
              "      <td>0.0</td>\n",
              "      <td>0.0</td>\n",
              "      <td>0.0</td>\n",
              "      <td>0.0</td>\n",
              "      <td>0.0</td>\n",
              "      <td>0.0</td>\n",
              "      <td>0.0</td>\n",
              "      <td>0.0</td>\n",
              "      <td>0.0</td>\n",
              "      <td>0.0</td>\n",
              "      <td>0.0</td>\n",
              "      <td>0.0</td>\n",
              "      <td>0.0</td>\n",
              "      <td>0.0</td>\n",
              "      <td>0.0</td>\n",
              "      <td>0.0</td>\n",
              "      <td>0.0</td>\n",
              "      <td>0.0</td>\n",
              "      <td>0.0</td>\n",
              "      <td>0.0</td>\n",
              "      <td>0</td>\n",
              "    </tr>\n",
              "    <tr>\n",
              "      <th>2</th>\n",
              "      <td>0.0</td>\n",
              "      <td>0.0</td>\n",
              "      <td>0.0</td>\n",
              "      <td>0.0</td>\n",
              "      <td>0.0</td>\n",
              "      <td>0.0</td>\n",
              "      <td>0.0</td>\n",
              "      <td>0.0</td>\n",
              "      <td>0.0</td>\n",
              "      <td>0.0</td>\n",
              "      <td>0.0</td>\n",
              "      <td>0.0</td>\n",
              "      <td>0.0</td>\n",
              "      <td>0.0</td>\n",
              "      <td>0.0</td>\n",
              "      <td>0.0</td>\n",
              "      <td>0.0</td>\n",
              "      <td>0.0</td>\n",
              "      <td>0.0</td>\n",
              "      <td>0.0</td>\n",
              "      <td>0.0</td>\n",
              "      <td>0.0</td>\n",
              "      <td>0.0</td>\n",
              "      <td>0.0</td>\n",
              "      <td>0.0</td>\n",
              "      <td>0.0</td>\n",
              "      <td>0.0</td>\n",
              "      <td>0.0</td>\n",
              "      <td>0.0</td>\n",
              "      <td>0.0</td>\n",
              "      <td>0.0</td>\n",
              "      <td>0.0</td>\n",
              "      <td>0.0</td>\n",
              "      <td>0.0</td>\n",
              "      <td>0.0</td>\n",
              "      <td>0.0</td>\n",
              "      <td>0.0</td>\n",
              "      <td>0.0</td>\n",
              "      <td>0.0</td>\n",
              "      <td>0.0</td>\n",
              "      <td>...</td>\n",
              "      <td>0.0</td>\n",
              "      <td>0.0</td>\n",
              "      <td>0.0</td>\n",
              "      <td>0.0</td>\n",
              "      <td>0.0</td>\n",
              "      <td>0.0</td>\n",
              "      <td>0.0</td>\n",
              "      <td>0.0</td>\n",
              "      <td>0.0</td>\n",
              "      <td>0.0</td>\n",
              "      <td>0.0</td>\n",
              "      <td>0.0</td>\n",
              "      <td>0.0</td>\n",
              "      <td>0.0</td>\n",
              "      <td>0.0</td>\n",
              "      <td>0.0</td>\n",
              "      <td>0.0</td>\n",
              "      <td>0.0</td>\n",
              "      <td>0.0</td>\n",
              "      <td>0.0</td>\n",
              "      <td>0.0</td>\n",
              "      <td>0.0</td>\n",
              "      <td>0.0</td>\n",
              "      <td>0.0</td>\n",
              "      <td>0.0</td>\n",
              "      <td>0.0</td>\n",
              "      <td>0.0</td>\n",
              "      <td>0.0</td>\n",
              "      <td>0.0</td>\n",
              "      <td>0.0</td>\n",
              "      <td>0.0</td>\n",
              "      <td>0.0</td>\n",
              "      <td>0.0</td>\n",
              "      <td>0.0</td>\n",
              "      <td>0.0</td>\n",
              "      <td>0.0</td>\n",
              "      <td>0.0</td>\n",
              "      <td>0.0</td>\n",
              "      <td>0.0</td>\n",
              "      <td>1</td>\n",
              "    </tr>\n",
              "    <tr>\n",
              "      <th>3</th>\n",
              "      <td>0.0</td>\n",
              "      <td>0.0</td>\n",
              "      <td>0.0</td>\n",
              "      <td>0.0</td>\n",
              "      <td>0.0</td>\n",
              "      <td>0.0</td>\n",
              "      <td>0.0</td>\n",
              "      <td>0.0</td>\n",
              "      <td>0.0</td>\n",
              "      <td>0.0</td>\n",
              "      <td>0.0</td>\n",
              "      <td>0.0</td>\n",
              "      <td>0.0</td>\n",
              "      <td>0.0</td>\n",
              "      <td>0.0</td>\n",
              "      <td>0.0</td>\n",
              "      <td>0.0</td>\n",
              "      <td>0.0</td>\n",
              "      <td>0.0</td>\n",
              "      <td>0.0</td>\n",
              "      <td>0.0</td>\n",
              "      <td>0.0</td>\n",
              "      <td>0.0</td>\n",
              "      <td>0.0</td>\n",
              "      <td>0.0</td>\n",
              "      <td>0.0</td>\n",
              "      <td>0.0</td>\n",
              "      <td>0.0</td>\n",
              "      <td>0.0</td>\n",
              "      <td>0.0</td>\n",
              "      <td>0.0</td>\n",
              "      <td>0.0</td>\n",
              "      <td>0.0</td>\n",
              "      <td>0.0</td>\n",
              "      <td>0.0</td>\n",
              "      <td>0.0</td>\n",
              "      <td>0.0</td>\n",
              "      <td>0.0</td>\n",
              "      <td>0.0</td>\n",
              "      <td>0.0</td>\n",
              "      <td>...</td>\n",
              "      <td>0.0</td>\n",
              "      <td>0.0</td>\n",
              "      <td>0.0</td>\n",
              "      <td>0.0</td>\n",
              "      <td>0.0</td>\n",
              "      <td>0.0</td>\n",
              "      <td>0.0</td>\n",
              "      <td>0.0</td>\n",
              "      <td>0.0</td>\n",
              "      <td>0.0</td>\n",
              "      <td>0.0</td>\n",
              "      <td>0.0</td>\n",
              "      <td>0.0</td>\n",
              "      <td>0.0</td>\n",
              "      <td>0.0</td>\n",
              "      <td>0.0</td>\n",
              "      <td>0.0</td>\n",
              "      <td>0.0</td>\n",
              "      <td>0.0</td>\n",
              "      <td>0.0</td>\n",
              "      <td>0.0</td>\n",
              "      <td>0.0</td>\n",
              "      <td>0.0</td>\n",
              "      <td>0.0</td>\n",
              "      <td>0.0</td>\n",
              "      <td>0.0</td>\n",
              "      <td>0.0</td>\n",
              "      <td>0.0</td>\n",
              "      <td>0.0</td>\n",
              "      <td>0.0</td>\n",
              "      <td>0.0</td>\n",
              "      <td>0.0</td>\n",
              "      <td>0.0</td>\n",
              "      <td>0.0</td>\n",
              "      <td>0.0</td>\n",
              "      <td>0.0</td>\n",
              "      <td>0.0</td>\n",
              "      <td>0.0</td>\n",
              "      <td>0.0</td>\n",
              "      <td>1</td>\n",
              "    </tr>\n",
              "    <tr>\n",
              "      <th>4</th>\n",
              "      <td>0.0</td>\n",
              "      <td>0.0</td>\n",
              "      <td>0.0</td>\n",
              "      <td>0.0</td>\n",
              "      <td>0.0</td>\n",
              "      <td>0.0</td>\n",
              "      <td>0.0</td>\n",
              "      <td>0.0</td>\n",
              "      <td>0.0</td>\n",
              "      <td>0.0</td>\n",
              "      <td>0.0</td>\n",
              "      <td>0.0</td>\n",
              "      <td>0.0</td>\n",
              "      <td>0.0</td>\n",
              "      <td>0.0</td>\n",
              "      <td>0.0</td>\n",
              "      <td>0.0</td>\n",
              "      <td>0.0</td>\n",
              "      <td>0.0</td>\n",
              "      <td>0.0</td>\n",
              "      <td>0.0</td>\n",
              "      <td>0.0</td>\n",
              "      <td>0.0</td>\n",
              "      <td>0.0</td>\n",
              "      <td>0.0</td>\n",
              "      <td>0.0</td>\n",
              "      <td>0.0</td>\n",
              "      <td>0.0</td>\n",
              "      <td>0.0</td>\n",
              "      <td>0.0</td>\n",
              "      <td>0.0</td>\n",
              "      <td>0.0</td>\n",
              "      <td>0.0</td>\n",
              "      <td>0.0</td>\n",
              "      <td>0.0</td>\n",
              "      <td>0.0</td>\n",
              "      <td>0.0</td>\n",
              "      <td>0.0</td>\n",
              "      <td>0.0</td>\n",
              "      <td>0.0</td>\n",
              "      <td>...</td>\n",
              "      <td>0.0</td>\n",
              "      <td>0.0</td>\n",
              "      <td>0.0</td>\n",
              "      <td>0.0</td>\n",
              "      <td>0.0</td>\n",
              "      <td>0.0</td>\n",
              "      <td>0.0</td>\n",
              "      <td>0.0</td>\n",
              "      <td>0.0</td>\n",
              "      <td>0.0</td>\n",
              "      <td>0.0</td>\n",
              "      <td>0.0</td>\n",
              "      <td>0.0</td>\n",
              "      <td>0.0</td>\n",
              "      <td>0.0</td>\n",
              "      <td>0.0</td>\n",
              "      <td>0.0</td>\n",
              "      <td>0.0</td>\n",
              "      <td>0.0</td>\n",
              "      <td>0.0</td>\n",
              "      <td>0.0</td>\n",
              "      <td>0.0</td>\n",
              "      <td>0.0</td>\n",
              "      <td>0.0</td>\n",
              "      <td>0.0</td>\n",
              "      <td>0.0</td>\n",
              "      <td>0.0</td>\n",
              "      <td>0.0</td>\n",
              "      <td>0.0</td>\n",
              "      <td>0.0</td>\n",
              "      <td>0.0</td>\n",
              "      <td>0.0</td>\n",
              "      <td>0.0</td>\n",
              "      <td>0.0</td>\n",
              "      <td>0.0</td>\n",
              "      <td>0.0</td>\n",
              "      <td>0.0</td>\n",
              "      <td>0.0</td>\n",
              "      <td>0.0</td>\n",
              "      <td>1</td>\n",
              "    </tr>\n",
              "  </tbody>\n",
              "</table>\n",
              "<p>5 rows × 1001 columns</p>\n",
              "</div>"
            ],
            "text/plain": [
              "   000   10  100   11   12   15   17  ...   yr  yum  yummi  yup  ºðÿ   ðÿ  target\n",
              "0  0.0  0.0  0.0  0.0  0.0  0.0  0.0  ...  0.0  0.0    0.0  0.0  0.0  0.0       1\n",
              "1  0.0  0.0  0.0  0.0  0.0  0.0  0.0  ...  0.0  0.0    0.0  0.0  0.0  0.0       0\n",
              "2  0.0  0.0  0.0  0.0  0.0  0.0  0.0  ...  0.0  0.0    0.0  0.0  0.0  0.0       1\n",
              "3  0.0  0.0  0.0  0.0  0.0  0.0  0.0  ...  0.0  0.0    0.0  0.0  0.0  0.0       1\n",
              "4  0.0  0.0  0.0  0.0  0.0  0.0  0.0  ...  0.0  0.0    0.0  0.0  0.0  0.0       1\n",
              "\n",
              "[5 rows x 1001 columns]"
            ]
          },
          "metadata": {
            "tags": []
          },
          "execution_count": 45
        }
      ]
    },
    {
      "cell_type": "code",
      "metadata": {
        "id": "Zaf48egH2vvK"
      },
      "source": [
        "TFIDF_x_train, TFIDF_x_test, TFIDF_y_train, TFIDF_y_test = train_test_split(TFIDF.drop(['target'],axis=1), TFIDF['target'], test_size=0.3, random_state=415)"
      ],
      "execution_count": null,
      "outputs": []
    },
    {
      "cell_type": "markdown",
      "metadata": {
        "id": "AeBnDmF3CDUX"
      },
      "source": [
        "###**3.2 Preparation for 2019 Canadian elections data**"
      ]
    },
    {
      "cell_type": "code",
      "metadata": {
        "id": "elbqR1YnCCy7",
        "colab": {
          "base_uri": "https://localhost:8080/",
          "height": 202
        },
        "outputId": "b5c7c96b-d321-4c0f-effa-e6460674123f"
      },
      "source": [
        "df0=pd.read_csv('df.csv')\n",
        "\n",
        "# Label the target variable, 1 for posotive and 0 for negative\n",
        "le = LabelEncoder()\n",
        "df0['sentiment']=le.fit_transform(df0['sentiment'])\n",
        "\n",
        "df0.head()"
      ],
      "execution_count": null,
      "outputs": [
        {
          "output_type": "execute_result",
          "data": {
            "text/html": [
              "<div>\n",
              "<style scoped>\n",
              "    .dataframe tbody tr th:only-of-type {\n",
              "        vertical-align: middle;\n",
              "    }\n",
              "\n",
              "    .dataframe tbody tr th {\n",
              "        vertical-align: top;\n",
              "    }\n",
              "\n",
              "    .dataframe thead th {\n",
              "        text-align: right;\n",
              "    }\n",
              "</style>\n",
              "<table border=\"1\" class=\"dataframe\">\n",
              "  <thead>\n",
              "    <tr style=\"text-align: right;\">\n",
              "      <th></th>\n",
              "      <th>sentiment</th>\n",
              "      <th>negative_reason</th>\n",
              "      <th>text</th>\n",
              "    </tr>\n",
              "  </thead>\n",
              "  <tbody>\n",
              "    <tr>\n",
              "      <th>0</th>\n",
              "      <td>0</td>\n",
              "      <td>Women Reproductive right and Racism</td>\n",
              "      <td>['rosiebarton', 'instead', 'suggest', 'agre', ...</td>\n",
              "    </tr>\n",
              "    <tr>\n",
              "      <th>1</th>\n",
              "      <td>1</td>\n",
              "      <td>NaN</td>\n",
              "      <td>['allwomanspacewalk', 'real', 'n', 'space_st',...</td>\n",
              "    </tr>\n",
              "    <tr>\n",
              "      <th>2</th>\n",
              "      <td>0</td>\n",
              "      <td>Economy</td>\n",
              "      <td>['brantford', 'go', 'cost', '94', 'billion', '...</td>\n",
              "    </tr>\n",
              "    <tr>\n",
              "      <th>3</th>\n",
              "      <td>1</td>\n",
              "      <td>NaN</td>\n",
              "      <td>['canada', 'canadaelection2019', 'canadavot', ...</td>\n",
              "    </tr>\n",
              "    <tr>\n",
              "      <th>4</th>\n",
              "      <td>0</td>\n",
              "      <td>Economy</td>\n",
              "      <td>['canada', 'taxpay', 'sick', 'tire', 'hard', '...</td>\n",
              "    </tr>\n",
              "  </tbody>\n",
              "</table>\n",
              "</div>"
            ],
            "text/plain": [
              "   sentiment  ...                                               text\n",
              "0          0  ...  ['rosiebarton', 'instead', 'suggest', 'agre', ...\n",
              "1          1  ...  ['allwomanspacewalk', 'real', 'n', 'space_st',...\n",
              "2          0  ...  ['brantford', 'go', 'cost', '94', 'billion', '...\n",
              "3          1  ...  ['canada', 'canadaelection2019', 'canadavot', ...\n",
              "4          0  ...  ['canada', 'taxpay', 'sick', 'tire', 'hard', '...\n",
              "\n",
              "[5 rows x 3 columns]"
            ]
          },
          "metadata": {
            "tags": []
          },
          "execution_count": 69
        }
      ]
    },
    {
      "cell_type": "code",
      "metadata": {
        "id": "3jr84mxREO_h",
        "colab": {
          "base_uri": "https://localhost:8080/",
          "height": 251
        },
        "outputId": "f9ed5d9c-3039-4fdf-f707-11250bd7951b"
      },
      "source": [
        "# Word frequency analysis \n",
        "array_WF_df0 = vectorizer.transform(df0['text']).toarray()\n",
        "\n",
        "# Creat a new dataframe\n",
        "df0_WF = pd.DataFrame(array_WF_df0,columns=vectorizer.get_feature_names())\n",
        "df0_WF['target']=df0['sentiment']\n",
        "df0_WF.head()"
      ],
      "execution_count": null,
      "outputs": [
        {
          "output_type": "execute_result",
          "data": {
            "text/html": [
              "<div>\n",
              "<style scoped>\n",
              "    .dataframe tbody tr th:only-of-type {\n",
              "        vertical-align: middle;\n",
              "    }\n",
              "\n",
              "    .dataframe tbody tr th {\n",
              "        vertical-align: top;\n",
              "    }\n",
              "\n",
              "    .dataframe thead th {\n",
              "        text-align: right;\n",
              "    }\n",
              "</style>\n",
              "<table border=\"1\" class=\"dataframe\">\n",
              "  <thead>\n",
              "    <tr style=\"text-align: right;\">\n",
              "      <th></th>\n",
              "      <th>000</th>\n",
              "      <th>10</th>\n",
              "      <th>100</th>\n",
              "      <th>11</th>\n",
              "      <th>12</th>\n",
              "      <th>15</th>\n",
              "      <th>17</th>\n",
              "      <th>1st</th>\n",
              "      <th>20</th>\n",
              "      <th>24</th>\n",
              "      <th>25</th>\n",
              "      <th>2nd</th>\n",
              "      <th>30</th>\n",
              "      <th>420</th>\n",
              "      <th>50</th>\n",
              "      <th>80</th>\n",
              "      <th>abl</th>\n",
              "      <th>absolut</th>\n",
              "      <th>account</th>\n",
              "      <th>act</th>\n",
              "      <th>actual</th>\n",
              "      <th>ad</th>\n",
              "      <th>add</th>\n",
              "      <th>addict</th>\n",
              "      <th>ador</th>\n",
              "      <th>afternoon</th>\n",
              "      <th>age</th>\n",
              "      <th>ago</th>\n",
              "      <th>agre</th>\n",
              "      <th>ah</th>\n",
              "      <th>ahead</th>\n",
              "      <th>ahh</th>\n",
              "      <th>ahhh</th>\n",
              "      <th>air</th>\n",
              "      <th>album</th>\n",
              "      <th>almost</th>\n",
              "      <th>alon</th>\n",
              "      <th>along</th>\n",
              "      <th>alreadi</th>\n",
              "      <th>alright</th>\n",
              "      <th>...</th>\n",
              "      <th>wit</th>\n",
              "      <th>without</th>\n",
              "      <th>woke</th>\n",
              "      <th>women</th>\n",
              "      <th>wonder</th>\n",
              "      <th>woo</th>\n",
              "      <th>woot</th>\n",
              "      <th>word</th>\n",
              "      <th>work</th>\n",
              "      <th>world</th>\n",
              "      <th>worri</th>\n",
              "      <th>worth</th>\n",
              "      <th>would</th>\n",
              "      <th>wow</th>\n",
              "      <th>write</th>\n",
              "      <th>wrong</th>\n",
              "      <th>www</th>\n",
              "      <th>xd</th>\n",
              "      <th>xoxo</th>\n",
              "      <th>xx</th>\n",
              "      <th>xxx</th>\n",
              "      <th>ya</th>\n",
              "      <th>yay</th>\n",
              "      <th>ye</th>\n",
              "      <th>yea</th>\n",
              "      <th>yeah</th>\n",
              "      <th>year</th>\n",
              "      <th>yep</th>\n",
              "      <th>yesterday</th>\n",
              "      <th>yet</th>\n",
              "      <th>yo</th>\n",
              "      <th>young</th>\n",
              "      <th>youtub</th>\n",
              "      <th>yr</th>\n",
              "      <th>yum</th>\n",
              "      <th>yummi</th>\n",
              "      <th>yup</th>\n",
              "      <th>ºðÿ</th>\n",
              "      <th>ðÿ</th>\n",
              "      <th>target</th>\n",
              "    </tr>\n",
              "  </thead>\n",
              "  <tbody>\n",
              "    <tr>\n",
              "      <th>0</th>\n",
              "      <td>0</td>\n",
              "      <td>0</td>\n",
              "      <td>0</td>\n",
              "      <td>0</td>\n",
              "      <td>0</td>\n",
              "      <td>0</td>\n",
              "      <td>0</td>\n",
              "      <td>0</td>\n",
              "      <td>0</td>\n",
              "      <td>0</td>\n",
              "      <td>0</td>\n",
              "      <td>0</td>\n",
              "      <td>0</td>\n",
              "      <td>0</td>\n",
              "      <td>0</td>\n",
              "      <td>0</td>\n",
              "      <td>0</td>\n",
              "      <td>0</td>\n",
              "      <td>0</td>\n",
              "      <td>0</td>\n",
              "      <td>0</td>\n",
              "      <td>0</td>\n",
              "      <td>0</td>\n",
              "      <td>0</td>\n",
              "      <td>0</td>\n",
              "      <td>0</td>\n",
              "      <td>0</td>\n",
              "      <td>0</td>\n",
              "      <td>1</td>\n",
              "      <td>0</td>\n",
              "      <td>0</td>\n",
              "      <td>0</td>\n",
              "      <td>0</td>\n",
              "      <td>0</td>\n",
              "      <td>0</td>\n",
              "      <td>0</td>\n",
              "      <td>0</td>\n",
              "      <td>0</td>\n",
              "      <td>0</td>\n",
              "      <td>0</td>\n",
              "      <td>...</td>\n",
              "      <td>0</td>\n",
              "      <td>0</td>\n",
              "      <td>0</td>\n",
              "      <td>1</td>\n",
              "      <td>0</td>\n",
              "      <td>0</td>\n",
              "      <td>0</td>\n",
              "      <td>0</td>\n",
              "      <td>0</td>\n",
              "      <td>0</td>\n",
              "      <td>0</td>\n",
              "      <td>0</td>\n",
              "      <td>0</td>\n",
              "      <td>0</td>\n",
              "      <td>0</td>\n",
              "      <td>0</td>\n",
              "      <td>0</td>\n",
              "      <td>0</td>\n",
              "      <td>0</td>\n",
              "      <td>0</td>\n",
              "      <td>0</td>\n",
              "      <td>0</td>\n",
              "      <td>0</td>\n",
              "      <td>0</td>\n",
              "      <td>0</td>\n",
              "      <td>0</td>\n",
              "      <td>0</td>\n",
              "      <td>0</td>\n",
              "      <td>0</td>\n",
              "      <td>0</td>\n",
              "      <td>0</td>\n",
              "      <td>0</td>\n",
              "      <td>0</td>\n",
              "      <td>0</td>\n",
              "      <td>0</td>\n",
              "      <td>0</td>\n",
              "      <td>0</td>\n",
              "      <td>0</td>\n",
              "      <td>0</td>\n",
              "      <td>0</td>\n",
              "    </tr>\n",
              "    <tr>\n",
              "      <th>1</th>\n",
              "      <td>0</td>\n",
              "      <td>0</td>\n",
              "      <td>0</td>\n",
              "      <td>0</td>\n",
              "      <td>0</td>\n",
              "      <td>0</td>\n",
              "      <td>0</td>\n",
              "      <td>0</td>\n",
              "      <td>0</td>\n",
              "      <td>0</td>\n",
              "      <td>0</td>\n",
              "      <td>0</td>\n",
              "      <td>0</td>\n",
              "      <td>0</td>\n",
              "      <td>0</td>\n",
              "      <td>0</td>\n",
              "      <td>0</td>\n",
              "      <td>0</td>\n",
              "      <td>0</td>\n",
              "      <td>0</td>\n",
              "      <td>0</td>\n",
              "      <td>0</td>\n",
              "      <td>0</td>\n",
              "      <td>0</td>\n",
              "      <td>0</td>\n",
              "      <td>0</td>\n",
              "      <td>0</td>\n",
              "      <td>0</td>\n",
              "      <td>0</td>\n",
              "      <td>0</td>\n",
              "      <td>0</td>\n",
              "      <td>0</td>\n",
              "      <td>0</td>\n",
              "      <td>0</td>\n",
              "      <td>0</td>\n",
              "      <td>0</td>\n",
              "      <td>0</td>\n",
              "      <td>0</td>\n",
              "      <td>0</td>\n",
              "      <td>0</td>\n",
              "      <td>...</td>\n",
              "      <td>0</td>\n",
              "      <td>0</td>\n",
              "      <td>0</td>\n",
              "      <td>0</td>\n",
              "      <td>0</td>\n",
              "      <td>0</td>\n",
              "      <td>0</td>\n",
              "      <td>0</td>\n",
              "      <td>0</td>\n",
              "      <td>0</td>\n",
              "      <td>0</td>\n",
              "      <td>0</td>\n",
              "      <td>0</td>\n",
              "      <td>0</td>\n",
              "      <td>0</td>\n",
              "      <td>0</td>\n",
              "      <td>0</td>\n",
              "      <td>0</td>\n",
              "      <td>0</td>\n",
              "      <td>0</td>\n",
              "      <td>0</td>\n",
              "      <td>0</td>\n",
              "      <td>0</td>\n",
              "      <td>0</td>\n",
              "      <td>0</td>\n",
              "      <td>0</td>\n",
              "      <td>0</td>\n",
              "      <td>0</td>\n",
              "      <td>0</td>\n",
              "      <td>0</td>\n",
              "      <td>0</td>\n",
              "      <td>0</td>\n",
              "      <td>0</td>\n",
              "      <td>0</td>\n",
              "      <td>0</td>\n",
              "      <td>0</td>\n",
              "      <td>0</td>\n",
              "      <td>0</td>\n",
              "      <td>0</td>\n",
              "      <td>1</td>\n",
              "    </tr>\n",
              "    <tr>\n",
              "      <th>2</th>\n",
              "      <td>0</td>\n",
              "      <td>0</td>\n",
              "      <td>0</td>\n",
              "      <td>0</td>\n",
              "      <td>0</td>\n",
              "      <td>0</td>\n",
              "      <td>0</td>\n",
              "      <td>0</td>\n",
              "      <td>0</td>\n",
              "      <td>0</td>\n",
              "      <td>0</td>\n",
              "      <td>0</td>\n",
              "      <td>0</td>\n",
              "      <td>0</td>\n",
              "      <td>0</td>\n",
              "      <td>0</td>\n",
              "      <td>0</td>\n",
              "      <td>0</td>\n",
              "      <td>0</td>\n",
              "      <td>0</td>\n",
              "      <td>0</td>\n",
              "      <td>0</td>\n",
              "      <td>0</td>\n",
              "      <td>0</td>\n",
              "      <td>0</td>\n",
              "      <td>0</td>\n",
              "      <td>0</td>\n",
              "      <td>0</td>\n",
              "      <td>0</td>\n",
              "      <td>0</td>\n",
              "      <td>0</td>\n",
              "      <td>0</td>\n",
              "      <td>0</td>\n",
              "      <td>0</td>\n",
              "      <td>0</td>\n",
              "      <td>0</td>\n",
              "      <td>0</td>\n",
              "      <td>0</td>\n",
              "      <td>0</td>\n",
              "      <td>0</td>\n",
              "      <td>...</td>\n",
              "      <td>0</td>\n",
              "      <td>0</td>\n",
              "      <td>0</td>\n",
              "      <td>0</td>\n",
              "      <td>0</td>\n",
              "      <td>0</td>\n",
              "      <td>0</td>\n",
              "      <td>0</td>\n",
              "      <td>0</td>\n",
              "      <td>0</td>\n",
              "      <td>0</td>\n",
              "      <td>0</td>\n",
              "      <td>0</td>\n",
              "      <td>0</td>\n",
              "      <td>0</td>\n",
              "      <td>0</td>\n",
              "      <td>0</td>\n",
              "      <td>0</td>\n",
              "      <td>0</td>\n",
              "      <td>0</td>\n",
              "      <td>0</td>\n",
              "      <td>0</td>\n",
              "      <td>0</td>\n",
              "      <td>0</td>\n",
              "      <td>0</td>\n",
              "      <td>0</td>\n",
              "      <td>1</td>\n",
              "      <td>0</td>\n",
              "      <td>0</td>\n",
              "      <td>0</td>\n",
              "      <td>0</td>\n",
              "      <td>0</td>\n",
              "      <td>0</td>\n",
              "      <td>0</td>\n",
              "      <td>0</td>\n",
              "      <td>0</td>\n",
              "      <td>0</td>\n",
              "      <td>0</td>\n",
              "      <td>0</td>\n",
              "      <td>0</td>\n",
              "    </tr>\n",
              "    <tr>\n",
              "      <th>3</th>\n",
              "      <td>0</td>\n",
              "      <td>0</td>\n",
              "      <td>0</td>\n",
              "      <td>0</td>\n",
              "      <td>0</td>\n",
              "      <td>0</td>\n",
              "      <td>0</td>\n",
              "      <td>0</td>\n",
              "      <td>0</td>\n",
              "      <td>0</td>\n",
              "      <td>0</td>\n",
              "      <td>0</td>\n",
              "      <td>0</td>\n",
              "      <td>0</td>\n",
              "      <td>0</td>\n",
              "      <td>0</td>\n",
              "      <td>0</td>\n",
              "      <td>0</td>\n",
              "      <td>0</td>\n",
              "      <td>0</td>\n",
              "      <td>0</td>\n",
              "      <td>0</td>\n",
              "      <td>0</td>\n",
              "      <td>0</td>\n",
              "      <td>0</td>\n",
              "      <td>0</td>\n",
              "      <td>0</td>\n",
              "      <td>0</td>\n",
              "      <td>0</td>\n",
              "      <td>0</td>\n",
              "      <td>0</td>\n",
              "      <td>0</td>\n",
              "      <td>0</td>\n",
              "      <td>0</td>\n",
              "      <td>0</td>\n",
              "      <td>0</td>\n",
              "      <td>0</td>\n",
              "      <td>0</td>\n",
              "      <td>0</td>\n",
              "      <td>0</td>\n",
              "      <td>...</td>\n",
              "      <td>0</td>\n",
              "      <td>0</td>\n",
              "      <td>0</td>\n",
              "      <td>0</td>\n",
              "      <td>0</td>\n",
              "      <td>0</td>\n",
              "      <td>0</td>\n",
              "      <td>0</td>\n",
              "      <td>0</td>\n",
              "      <td>0</td>\n",
              "      <td>0</td>\n",
              "      <td>0</td>\n",
              "      <td>0</td>\n",
              "      <td>0</td>\n",
              "      <td>0</td>\n",
              "      <td>0</td>\n",
              "      <td>0</td>\n",
              "      <td>0</td>\n",
              "      <td>0</td>\n",
              "      <td>0</td>\n",
              "      <td>0</td>\n",
              "      <td>0</td>\n",
              "      <td>0</td>\n",
              "      <td>0</td>\n",
              "      <td>0</td>\n",
              "      <td>0</td>\n",
              "      <td>0</td>\n",
              "      <td>0</td>\n",
              "      <td>0</td>\n",
              "      <td>0</td>\n",
              "      <td>0</td>\n",
              "      <td>0</td>\n",
              "      <td>0</td>\n",
              "      <td>0</td>\n",
              "      <td>0</td>\n",
              "      <td>0</td>\n",
              "      <td>0</td>\n",
              "      <td>0</td>\n",
              "      <td>0</td>\n",
              "      <td>1</td>\n",
              "    </tr>\n",
              "    <tr>\n",
              "      <th>4</th>\n",
              "      <td>0</td>\n",
              "      <td>0</td>\n",
              "      <td>0</td>\n",
              "      <td>0</td>\n",
              "      <td>0</td>\n",
              "      <td>0</td>\n",
              "      <td>0</td>\n",
              "      <td>0</td>\n",
              "      <td>0</td>\n",
              "      <td>0</td>\n",
              "      <td>0</td>\n",
              "      <td>0</td>\n",
              "      <td>0</td>\n",
              "      <td>0</td>\n",
              "      <td>0</td>\n",
              "      <td>0</td>\n",
              "      <td>0</td>\n",
              "      <td>0</td>\n",
              "      <td>0</td>\n",
              "      <td>0</td>\n",
              "      <td>0</td>\n",
              "      <td>0</td>\n",
              "      <td>0</td>\n",
              "      <td>0</td>\n",
              "      <td>0</td>\n",
              "      <td>0</td>\n",
              "      <td>0</td>\n",
              "      <td>0</td>\n",
              "      <td>0</td>\n",
              "      <td>0</td>\n",
              "      <td>0</td>\n",
              "      <td>0</td>\n",
              "      <td>0</td>\n",
              "      <td>0</td>\n",
              "      <td>0</td>\n",
              "      <td>0</td>\n",
              "      <td>0</td>\n",
              "      <td>0</td>\n",
              "      <td>0</td>\n",
              "      <td>0</td>\n",
              "      <td>...</td>\n",
              "      <td>0</td>\n",
              "      <td>0</td>\n",
              "      <td>0</td>\n",
              "      <td>0</td>\n",
              "      <td>0</td>\n",
              "      <td>0</td>\n",
              "      <td>0</td>\n",
              "      <td>0</td>\n",
              "      <td>0</td>\n",
              "      <td>0</td>\n",
              "      <td>0</td>\n",
              "      <td>0</td>\n",
              "      <td>0</td>\n",
              "      <td>0</td>\n",
              "      <td>0</td>\n",
              "      <td>0</td>\n",
              "      <td>0</td>\n",
              "      <td>0</td>\n",
              "      <td>0</td>\n",
              "      <td>0</td>\n",
              "      <td>0</td>\n",
              "      <td>0</td>\n",
              "      <td>0</td>\n",
              "      <td>0</td>\n",
              "      <td>0</td>\n",
              "      <td>0</td>\n",
              "      <td>0</td>\n",
              "      <td>0</td>\n",
              "      <td>0</td>\n",
              "      <td>0</td>\n",
              "      <td>0</td>\n",
              "      <td>0</td>\n",
              "      <td>0</td>\n",
              "      <td>0</td>\n",
              "      <td>0</td>\n",
              "      <td>0</td>\n",
              "      <td>0</td>\n",
              "      <td>0</td>\n",
              "      <td>0</td>\n",
              "      <td>0</td>\n",
              "    </tr>\n",
              "  </tbody>\n",
              "</table>\n",
              "<p>5 rows × 1001 columns</p>\n",
              "</div>"
            ],
            "text/plain": [
              "   000  10  100  11  12  15  17  ...  yr  yum  yummi  yup  ºðÿ  ðÿ  target\n",
              "0    0   0    0   0   0   0   0  ...   0    0      0    0    0   0       0\n",
              "1    0   0    0   0   0   0   0  ...   0    0      0    0    0   0       1\n",
              "2    0   0    0   0   0   0   0  ...   0    0      0    0    0   0       0\n",
              "3    0   0    0   0   0   0   0  ...   0    0      0    0    0   0       1\n",
              "4    0   0    0   0   0   0   0  ...   0    0      0    0    0   0       0\n",
              "\n",
              "[5 rows x 1001 columns]"
            ]
          },
          "metadata": {
            "tags": []
          },
          "execution_count": 70
        }
      ]
    },
    {
      "cell_type": "markdown",
      "metadata": {
        "id": "5uWVaNED6na6"
      },
      "source": [
        "# **4. Model implementation**"
      ]
    },
    {
      "cell_type": "code",
      "metadata": {
        "id": "4lw9uNBmZTa8"
      },
      "source": [
        "from sklearn.metrics import classification_report, confusion_matrix, accuracy_score\n",
        "from sklearn.model_selection import KFold\n",
        "from sklearn.model_selection import cross_validate\n",
        "from sklearn.model_selection import GridSearchCV\n",
        "\n",
        "from sklearn.linear_model import LogisticRegression as lr\n",
        "from sklearn.neighbors import KNeighborsClassifier as knn\n",
        "from sklearn.naive_bayes import MultinomialNB as mnb\n",
        "from sklearn.svm import SVC as svc\n",
        "from sklearn.tree import DecisionTreeClassifier as dt\n",
        "from sklearn.ensemble import RandomForestClassifier as rf\n",
        "from xgboost.sklearn import XGBClassifier as xgb\n",
        "\n"
      ],
      "execution_count": null,
      "outputs": []
    },
    {
      "cell_type": "code",
      "metadata": {
        "id": "JADihhLAEKIt"
      },
      "source": [
        "def tune(model, param_grid, x_train, y_train):\n",
        "\n",
        "  #Train models on the training data, tune the hyperparameters with 3 folds cross-validation\n",
        "  \n",
        "  grid_search = GridSearchCV(model, param_grid, cv=3, scoring='accuracy')\n",
        "  grid_search.fit(x_train.sample(9000, random_state=10), y_train.sample(9000, random_state=10))\n",
        "  print(grid_search.best_estimator_)"
      ],
      "execution_count": null,
      "outputs": []
    },
    {
      "cell_type": "code",
      "metadata": {
        "id": "XJLM8OuVobpf"
      },
      "source": [
        "def run(model, x_train, x_test, y_train, y_test):\n",
        "\n",
        "  #Then apply the model to the test data to obtain an accuracy value\n",
        "  \n",
        "  model.fit(x_train, y_train)\n",
        "  predictions = model.predict(x_test)\n",
        "  accuracy = accuracy_score(y_test, predictions)\n",
        "\n",
        "  print(\"Accuracy: {0}\".format(accuracy))\n",
        "  print('--------------------------\\n ')"
      ],
      "execution_count": null,
      "outputs": []
    },
    {
      "cell_type": "markdown",
      "metadata": {
        "id": "bEul6fSJt-fW"
      },
      "source": [
        "###**4.1 Model tuning**\n",
        "Use Dataset from Sentiment.csv to do the model implementation.\n",
        "\n",
        "\n",
        "Try multiple classification algorithms (logistic regression, k-NN, Naive Bayes, SVM, decision trees, ensembles (Random Forest, XGBoost)).\n",
        "\n",
        "Try two different types of features, word frequency (WF) and TF-IDF. \n"
      ]
    },
    {
      "cell_type": "markdown",
      "metadata": {
        "id": "qgdNsrvTA2xk"
      },
      "source": [
        "**4.1.1 Logistic Regression**"
      ]
    },
    {
      "cell_type": "code",
      "metadata": {
        "id": "AEXIi14FQ9nf",
        "colab": {
          "base_uri": "https://localhost:8080/",
          "height": 104
        },
        "outputId": "4cde45cc-74f6-4afa-fa89-16d5705ca7a9"
      },
      "source": [
        "#logistic regression-WF\n",
        "param_grid_lr = [{'C':[0.1, 0.5, 1],'solver':['lbfgs', 'sag', 'liblinear', 'newton-cg', 'saga']}]\n",
        "tune(lr(max_iter=200), param_grid_lr, WF_x_train, WF_y_train)"
      ],
      "execution_count": null,
      "outputs": [
        {
          "output_type": "stream",
          "text": [
            "LogisticRegression(C=1, class_weight=None, dual=False, fit_intercept=True,\n",
            "                   intercept_scaling=1, l1_ratio=None, max_iter=200,\n",
            "                   multi_class='auto', n_jobs=None, penalty='l2',\n",
            "                   random_state=None, solver='lbfgs', tol=0.0001, verbose=0,\n",
            "                   warm_start=False)\n"
          ],
          "name": "stdout"
        }
      ]
    },
    {
      "cell_type": "code",
      "metadata": {
        "id": "Lp0VUYZcIlop",
        "colab": {
          "base_uri": "https://localhost:8080/",
          "height": 69
        },
        "outputId": "a1f7690c-fb72-4436-b011-11ca1302ea45"
      },
      "source": [
        "run(lr(max_iter=200, C=1, solver='lbfgs'), WF_x_train, WF_x_test, WF_y_train, WF_y_test)"
      ],
      "execution_count": null,
      "outputs": [
        {
          "output_type": "stream",
          "text": [
            "Accuracy: 0.7322244049289487\n",
            "--------------------------\n",
            " \n"
          ],
          "name": "stdout"
        }
      ]
    },
    {
      "cell_type": "code",
      "metadata": {
        "id": "xFNCMWbauzSG",
        "colab": {
          "base_uri": "https://localhost:8080/",
          "height": 193
        },
        "outputId": "0d4e609c-9df7-4669-e970-57365a68398f"
      },
      "source": [
        "#logistic regression-TFIDF\n",
        "tune(lr(max_iter=800), param_grid_lr, TFIDF_x_train, TFIDF_y_train)"
      ],
      "execution_count": null,
      "outputs": [
        {
          "output_type": "stream",
          "text": [
            "/usr/local/lib/python3.6/dist-packages/sklearn/linear_model/_sag.py:330: ConvergenceWarning: The max_iter was reached which means the coef_ did not converge\n",
            "  \"the coef_ did not converge\", ConvergenceWarning)\n",
            "/usr/local/lib/python3.6/dist-packages/sklearn/linear_model/_sag.py:330: ConvergenceWarning: The max_iter was reached which means the coef_ did not converge\n",
            "  \"the coef_ did not converge\", ConvergenceWarning)\n"
          ],
          "name": "stderr"
        },
        {
          "output_type": "stream",
          "text": [
            "LogisticRegression(C=0.1, class_weight=None, dual=False, fit_intercept=True,\n",
            "                   intercept_scaling=1, l1_ratio=None, max_iter=800,\n",
            "                   multi_class='auto', n_jobs=None, penalty='l2',\n",
            "                   random_state=None, solver='lbfgs', tol=0.0001, verbose=0,\n",
            "                   warm_start=False)\n"
          ],
          "name": "stdout"
        }
      ]
    },
    {
      "cell_type": "code",
      "metadata": {
        "id": "eKZt0O-cJRwW",
        "colab": {
          "base_uri": "https://localhost:8080/",
          "height": 69
        },
        "outputId": "659622d5-baf5-4d72-f83a-59bd5548767a"
      },
      "source": [
        "run(lr(max_iter=800, C=0.1, solver='lbfgs'), TFIDF_x_train, TFIDF_x_test, TFIDF_y_train, TFIDF_y_test)"
      ],
      "execution_count": null,
      "outputs": [
        {
          "output_type": "stream",
          "text": [
            "Accuracy: 0.7319182590504375\n",
            "--------------------------\n",
            " \n"
          ],
          "name": "stdout"
        }
      ]
    },
    {
      "cell_type": "markdown",
      "metadata": {
        "id": "YyOEYcLyKKWu"
      },
      "source": [
        "**4.1.2 KNN**"
      ]
    },
    {
      "cell_type": "code",
      "metadata": {
        "id": "aEcwy0WACgdN",
        "colab": {
          "base_uri": "https://localhost:8080/",
          "height": 69
        },
        "outputId": "20e55a7f-dba1-4591-e8e7-807c67340b61"
      },
      "source": [
        "#kNN-WF\n",
        "param_grid_knn = [{'n_neighbors':[5, 9, 13, 17]}, {'weights':['uniform','distance']}]\n",
        "tune(knn(), param_grid_knn, WF_x_train, WF_y_train)"
      ],
      "execution_count": null,
      "outputs": [
        {
          "output_type": "stream",
          "text": [
            "KNeighborsClassifier(algorithm='auto', leaf_size=30, metric='minkowski',\n",
            "                     metric_params=None, n_jobs=None, n_neighbors=5, p=2,\n",
            "                     weights='distance')\n"
          ],
          "name": "stdout"
        }
      ]
    },
    {
      "cell_type": "code",
      "metadata": {
        "id": "N_GeKya0JbaI",
        "colab": {
          "base_uri": "https://localhost:8080/",
          "height": 69
        },
        "outputId": "9b29052b-3930-49d6-c2aa-0891e9b070d7"
      },
      "source": [
        "run(knn(n_neighbors=5, weights='distance'), WF_x_train, WF_x_test, WF_y_train, WF_y_test)"
      ],
      "execution_count": null,
      "outputs": [
        {
          "output_type": "stream",
          "text": [
            "Accuracy: 0.6755619052478506\n",
            "--------------------------\n",
            " \n"
          ],
          "name": "stdout"
        }
      ]
    },
    {
      "cell_type": "code",
      "metadata": {
        "id": "mGL5LpZMHwj1",
        "colab": {
          "base_uri": "https://localhost:8080/",
          "height": 69
        },
        "outputId": "bc0d77a7-6fa6-48c4-b07a-3bc01da679ec"
      },
      "source": [
        "#kNN-TFIDF\n",
        "tune(knn(), param_grid_knn, TFIDF_x_train, TFIDF_y_train)"
      ],
      "execution_count": null,
      "outputs": [
        {
          "output_type": "stream",
          "text": [
            "KNeighborsClassifier(algorithm='auto', leaf_size=30, metric='minkowski',\n",
            "                     metric_params=None, n_jobs=None, n_neighbors=13, p=2,\n",
            "                     weights='uniform')\n"
          ],
          "name": "stdout"
        }
      ]
    },
    {
      "cell_type": "markdown",
      "metadata": {
        "id": "QB3KT2YqKPbK"
      },
      "source": [
        "**4.1.3 Multinomial Naive Bayes**"
      ]
    },
    {
      "cell_type": "code",
      "metadata": {
        "id": "9WrlOb_9-3Tp",
        "colab": {
          "base_uri": "https://localhost:8080/",
          "height": 35
        },
        "outputId": "774ad71a-1c26-49fa-f800-5cfbc2573886"
      },
      "source": [
        "#Multinomial Naive Bayes-WF\n",
        "param_grid_mnb = [{'alpha':[1, 2, 3, 4, 5]}]\n",
        "tune(mnb(), param_grid_mnb, WF_x_train, WF_y_train)"
      ],
      "execution_count": null,
      "outputs": [
        {
          "output_type": "stream",
          "text": [
            "MultinomialNB(alpha=3, class_prior=None, fit_prior=True)\n"
          ],
          "name": "stdout"
        }
      ]
    },
    {
      "cell_type": "code",
      "metadata": {
        "id": "JB6NEk74HhDk",
        "colab": {
          "base_uri": "https://localhost:8080/",
          "height": 69
        },
        "outputId": "0faf95fe-0e17-4fdc-d961-8811d24cd9f5"
      },
      "source": [
        "run(mnb(alpha=3), WF_x_train, WF_x_test, WF_y_train, WF_y_test)"
      ],
      "execution_count": null,
      "outputs": [
        {
          "output_type": "stream",
          "text": [
            "Accuracy: 0.725004464627395\n",
            "--------------------------\n",
            " \n"
          ],
          "name": "stdout"
        }
      ]
    },
    {
      "cell_type": "code",
      "metadata": {
        "id": "p4XePfI3etlD",
        "colab": {
          "base_uri": "https://localhost:8080/",
          "height": 35
        },
        "outputId": "621466be-6ead-4a25-c244-50c04466ec23"
      },
      "source": [
        "#Multinomial Naive Bayes-TFIDF\n",
        "tune(mnb(), param_grid_mnb, TFIDF_x_train, TFIDF_y_train)\n"
      ],
      "execution_count": null,
      "outputs": [
        {
          "output_type": "stream",
          "text": [
            "MultinomialNB(alpha=4, class_prior=None, fit_prior=True)\n"
          ],
          "name": "stdout"
        }
      ]
    },
    {
      "cell_type": "code",
      "metadata": {
        "id": "prkF3kgM_nvN",
        "colab": {
          "base_uri": "https://localhost:8080/",
          "height": 69
        },
        "outputId": "58b94c11-5cfb-4578-a83f-8498e0d40529"
      },
      "source": [
        "run(mnb(alpha=4), TFIDF_x_train, TFIDF_x_test, TFIDF_y_train, TFIDF_y_test)"
      ],
      "execution_count": null,
      "outputs": [
        {
          "output_type": "stream",
          "text": [
            "Accuracy: 0.7187029619613746\n",
            "--------------------------\n",
            " \n"
          ],
          "name": "stdout"
        }
      ]
    },
    {
      "cell_type": "markdown",
      "metadata": {
        "id": "bYjTgGDxKVCN"
      },
      "source": [
        "**4.1.4 Support Vector Machine**"
      ]
    },
    {
      "cell_type": "code",
      "metadata": {
        "id": "D91SNKsbsyu_"
      },
      "source": [
        "param_grid_svc = [{'C':[0.5, 1, 2], 'kernel':['poly', 'rbf', 'sigmoid'], 'gamma':['scale', 'auto']}]"
      ],
      "execution_count": null,
      "outputs": []
    },
    {
      "cell_type": "code",
      "metadata": {
        "id": "vjxyZy-UHk0B",
        "colab": {
          "base_uri": "https://localhost:8080/",
          "height": 87
        },
        "outputId": "2be6b00a-faec-4712-bb6b-f34eb6b2743f"
      },
      "source": [
        "tune(svc(), param_grid_svc, WF_x_train, WF_y_train)      "
      ],
      "execution_count": null,
      "outputs": [
        {
          "output_type": "stream",
          "text": [
            "SVC(C=1, break_ties=False, cache_size=200, class_weight=None, coef0=0.0,\n",
            "    decision_function_shape='ovr', degree=3, gamma='scale', kernel='rbf',\n",
            "    max_iter=-1, probability=False, random_state=None, shrinking=True,\n",
            "    tol=0.001, verbose=False)\n"
          ],
          "name": "stdout"
        }
      ]
    },
    {
      "cell_type": "code",
      "metadata": {
        "id": "SfLmMMSBJmdG",
        "colab": {
          "base_uri": "https://localhost:8080/",
          "height": 124
        },
        "outputId": "55089822-20cb-4ada-e7ad-5db1487642d8"
      },
      "source": [
        "#SVC-WF\n",
        "run(svc(max_iter=900, C=1, kernel='rbf', gamma='scale'), WF_x_train, WF_x_test, WF_y_train, WF_y_test)"
      ],
      "execution_count": null,
      "outputs": [
        {
          "output_type": "stream",
          "text": [
            "/usr/local/lib/python3.6/dist-packages/sklearn/svm/_base.py:231: ConvergenceWarning: Solver terminated early (max_iter=900).  Consider pre-processing your data with StandardScaler or MinMaxScaler.\n",
            "  % self.max_iter, ConvergenceWarning)\n"
          ],
          "name": "stderr"
        },
        {
          "output_type": "stream",
          "text": [
            "Accuracy: 0.5256524734035768\n",
            "--------------------------\n",
            " \n"
          ],
          "name": "stdout"
        }
      ]
    },
    {
      "cell_type": "code",
      "metadata": {
        "id": "FbCVZjeTHyfn",
        "colab": {
          "base_uri": "https://localhost:8080/",
          "height": 124
        },
        "outputId": "88dbaae4-b485-4e5d-e6f9-c19ab1558e3b"
      },
      "source": [
        "#SVC-TFIDF\n",
        "run(svc(max_iter=300, C=1, gamma='scale', kernel='rbf'), TFIDF_x_train, TFIDF_x_test, TFIDF_y_train, TFIDF_y_test)"
      ],
      "execution_count": null,
      "outputs": [
        {
          "output_type": "stream",
          "text": [
            "/usr/local/lib/python3.6/dist-packages/sklearn/svm/_base.py:231: ConvergenceWarning: Solver terminated early (max_iter=300).  Consider pre-processing your data with StandardScaler or MinMaxScaler.\n",
            "  % self.max_iter, ConvergenceWarning)\n"
          ],
          "name": "stderr"
        },
        {
          "output_type": "stream",
          "text": [
            "Accuracy: 0.5320050003826824\n",
            "--------------------------\n",
            " \n"
          ],
          "name": "stdout"
        }
      ]
    },
    {
      "cell_type": "markdown",
      "metadata": {
        "id": "cgtTN-u9Kj97"
      },
      "source": [
        "**4.1.5 Decision Tree**"
      ]
    },
    {
      "cell_type": "code",
      "metadata": {
        "id": "URRfuvKiHnBW",
        "colab": {
          "base_uri": "https://localhost:8080/",
          "height": 121
        },
        "outputId": "0e102d04-1e32-4abd-93d5-5ae7fd4b40fa"
      },
      "source": [
        "#decision trees - WF\n",
        "param_grid_dt = [{'max_depth':[30, 50, 80],\n",
        "                  'max_features':[0.8, 0.5],\n",
        "                  'min_samples_split':[3, 5, 8],\n",
        "                  'min_samples_leaf':[2,3,5]}]\n",
        "\n",
        "tune(dt(splitter='random'), param_grid_dt, WF_x_train, WF_y_train) "
      ],
      "execution_count": null,
      "outputs": [
        {
          "output_type": "stream",
          "text": [
            "DecisionTreeClassifier(ccp_alpha=0.0, class_weight=None, criterion='gini',\n",
            "                       max_depth=80, max_features=0.5, max_leaf_nodes=None,\n",
            "                       min_impurity_decrease=0.0, min_impurity_split=None,\n",
            "                       min_samples_leaf=5, min_samples_split=3,\n",
            "                       min_weight_fraction_leaf=0.0, presort='deprecated',\n",
            "                       random_state=None, splitter='random')\n"
          ],
          "name": "stdout"
        }
      ]
    },
    {
      "cell_type": "code",
      "metadata": {
        "id": "YZJhUz13J3xt",
        "colab": {
          "base_uri": "https://localhost:8080/",
          "height": 69
        },
        "outputId": "a3cc1f11-c45f-478b-ed42-636da4cd8497"
      },
      "source": [
        "run(dt(max_depth=80, max_features=0.5,min_samples_leaf=5, min_samples_split=3), WF_x_train, WF_x_test, WF_y_train, WF_y_test)"
      ],
      "execution_count": null,
      "outputs": [
        {
          "output_type": "stream",
          "text": [
            "Accuracy: 0.6804092149909432\n",
            "--------------------------\n",
            " \n"
          ],
          "name": "stdout"
        }
      ]
    },
    {
      "cell_type": "code",
      "metadata": {
        "id": "uOSKcSMtH1xj",
        "colab": {
          "base_uri": "https://localhost:8080/",
          "height": 121
        },
        "outputId": "8704dd3e-0373-4e43-c87c-b17731186792"
      },
      "source": [
        "#decision trees - TFIDF\n",
        "tune(dt(splitter='random'), param_grid_dt, TFIDF_x_train, TFIDF_y_train)"
      ],
      "execution_count": null,
      "outputs": [
        {
          "output_type": "stream",
          "text": [
            "DecisionTreeClassifier(ccp_alpha=0.0, class_weight=None, criterion='gini',\n",
            "                       max_depth=80, max_features=0.8, max_leaf_nodes=None,\n",
            "                       min_impurity_decrease=0.0, min_impurity_split=None,\n",
            "                       min_samples_leaf=5, min_samples_split=8,\n",
            "                       min_weight_fraction_leaf=0.0, presort='deprecated',\n",
            "                       random_state=None, splitter='random')\n"
          ],
          "name": "stdout"
        }
      ]
    },
    {
      "cell_type": "code",
      "metadata": {
        "id": "mB51LEmeJ3aA",
        "colab": {
          "base_uri": "https://localhost:8080/",
          "height": 69
        },
        "outputId": "21430084-e82d-450b-bfc3-184703003080"
      },
      "source": [
        "run(dt(max_depth=80, max_features=0.8, min_samples_leaf=5, min_samples_split=8), TFIDF_x_train, TFIDF_x_test, TFIDF_y_train, TFIDF_y_test)"
      ],
      "execution_count": null,
      "outputs": [
        {
          "output_type": "stream",
          "text": [
            "Accuracy: 0.6805878000867414\n",
            "--------------------------\n",
            " \n"
          ],
          "name": "stdout"
        }
      ]
    },
    {
      "cell_type": "markdown",
      "metadata": {
        "id": "UYuJo7kzKoVt"
      },
      "source": [
        "**4.1.6 Random Forest**"
      ]
    },
    {
      "cell_type": "code",
      "metadata": {
        "id": "nMC9Cu9nHpup",
        "colab": {
          "base_uri": "https://localhost:8080/",
          "height": 156
        },
        "outputId": "0b1caf76-17fc-4faa-f7b5-f4fec20e2cad"
      },
      "source": [
        "#Random Forest-WF\n",
        "param_grid_rf = [{'n_estimators': [80, 100, 120],\n",
        "                  'max_depth':[80], \n",
        "                  'min_samples_split':[3, 5, 8],\n",
        "                  'min_samples_leaf':[5], \n",
        "                  'max_features': [0.8, 0.5, 'auto']}]\n",
        "                  \n",
        "tune(rf(), param_grid_rf, WF_x_train, WF_y_train) "
      ],
      "execution_count": null,
      "outputs": [
        {
          "output_type": "stream",
          "text": [
            "RandomForestClassifier(bootstrap=True, ccp_alpha=0.0, class_weight=None,\n",
            "                       criterion='gini', max_depth=80, max_features='auto',\n",
            "                       max_leaf_nodes=None, max_samples=None,\n",
            "                       min_impurity_decrease=0.0, min_impurity_split=None,\n",
            "                       min_samples_leaf=5, min_samples_split=3,\n",
            "                       min_weight_fraction_leaf=0.0, n_estimators=120,\n",
            "                       n_jobs=None, oob_score=False, random_state=None,\n",
            "                       verbose=0, warm_start=False)\n"
          ],
          "name": "stdout"
        }
      ]
    },
    {
      "cell_type": "code",
      "metadata": {
        "id": "CYX39rDSJ4NZ",
        "colab": {
          "base_uri": "https://localhost:8080/",
          "height": 69
        },
        "outputId": "6ed3fdd5-e376-4be7-bf27-a73610e12dbf"
      },
      "source": [
        "run(rf(n_estimators=120, max_depth=80, max_features='auto',min_samples_leaf=5, min_samples_split=3), WF_x_train, WF_x_test, WF_y_train, WF_y_test)"
      ],
      "execution_count": null,
      "outputs": [
        {
          "output_type": "stream",
          "text": [
            "Accuracy: 0.722555297599306\n",
            "--------------------------\n",
            " \n"
          ],
          "name": "stdout"
        }
      ]
    },
    {
      "cell_type": "code",
      "metadata": {
        "id": "QgLLw2kPH2sn",
        "colab": {
          "base_uri": "https://localhost:8080/",
          "height": 156
        },
        "outputId": "3dc693b0-c980-4db3-e14b-8ef9a7a8e466"
      },
      "source": [
        "#Random Forest-TFIDF\n",
        "tune(rf(), param_grid_rf, TFIDF_x_train, TFIDF_y_train)"
      ],
      "execution_count": null,
      "outputs": [
        {
          "output_type": "stream",
          "text": [
            "RandomForestClassifier(bootstrap=True, ccp_alpha=0.0, class_weight=None,\n",
            "                       criterion='gini', max_depth=80, max_features='auto',\n",
            "                       max_leaf_nodes=None, max_samples=None,\n",
            "                       min_impurity_decrease=0.0, min_impurity_split=None,\n",
            "                       min_samples_leaf=5, min_samples_split=3,\n",
            "                       min_weight_fraction_leaf=0.0, n_estimators=100,\n",
            "                       n_jobs=None, oob_score=False, random_state=None,\n",
            "                       verbose=0, warm_start=False)\n"
          ],
          "name": "stdout"
        }
      ]
    },
    {
      "cell_type": "code",
      "metadata": {
        "id": "TQxO2jXKJ4tG",
        "colab": {
          "base_uri": "https://localhost:8080/",
          "height": 69
        },
        "outputId": "19a372c0-2b4e-45f8-9ba9-514de1a7be01"
      },
      "source": [
        "run(rf(n_estimators=100, max_depth=80, max_features='auto', min_samples_leaf=5, min_samples_split=3), TFIDF_x_train, TFIDF_x_test, TFIDF_y_train, TFIDF_y_test)"
      ],
      "execution_count": null,
      "outputs": [
        {
          "output_type": "stream",
          "text": [
            "Accuracy: 0.7209225195805802\n",
            "--------------------------\n",
            " \n"
          ],
          "name": "stdout"
        }
      ]
    },
    {
      "cell_type": "markdown",
      "metadata": {
        "id": "iB8nMXkQKsGk"
      },
      "source": [
        "**4.1.7 XGBoost**"
      ]
    },
    {
      "cell_type": "code",
      "metadata": {
        "id": "tIf5y8sXHrS_",
        "colab": {
          "base_uri": "https://localhost:8080/",
          "height": 156
        },
        "outputId": "c355aab1-6cf9-4166-ae99-8db44fffd646"
      },
      "source": [
        "#XGBoost-WF\n",
        "param_grid_xgb = [{'n_estimator':[80,100,120], \n",
        "                  'max_depth':[3,6,9],\n",
        "                  'subsample':[0.8]}]\n",
        "tune(xgb(), param_grid_xgb, WF_x_train, WF_y_train)  "
      ],
      "execution_count": null,
      "outputs": [
        {
          "output_type": "stream",
          "text": [
            "XGBClassifier(base_score=0.5, booster='gbtree', colsample_bylevel=1,\n",
            "              colsample_bynode=1, colsample_bytree=1, gamma=0,\n",
            "              learning_rate=0.1, max_delta_step=0, max_depth=3,\n",
            "              min_child_weight=1, missing=None, n_estimator=100,\n",
            "              n_estimators=100, n_jobs=1, nthread=None,\n",
            "              objective='binary:logistic', random_state=0, reg_alpha=0,\n",
            "              reg_lambda=1, scale_pos_weight=1, seed=None, silent=None,\n",
            "              subsample=0.8, verbosity=1)\n"
          ],
          "name": "stdout"
        }
      ]
    },
    {
      "cell_type": "code",
      "metadata": {
        "id": "MlLGMkSiJ5Gf",
        "colab": {
          "base_uri": "https://localhost:8080/",
          "height": 69
        },
        "outputId": "273525dc-e4b2-4449-ac99-ed2f20841eea"
      },
      "source": [
        "run(xgb(n_estimator=100,max_depth=3), WF_x_train, WF_x_test, WF_y_train, WF_y_test)"
      ],
      "execution_count": null,
      "outputs": [
        {
          "output_type": "stream",
          "text": [
            "Accuracy: 0.6699747429650228\n",
            "--------------------------\n",
            " \n"
          ],
          "name": "stdout"
        }
      ]
    },
    {
      "cell_type": "code",
      "metadata": {
        "id": "nUDuWIrgH3mQ",
        "colab": {
          "base_uri": "https://localhost:8080/",
          "height": 156
        },
        "outputId": "4419d39f-aef3-4dcd-8e70-0fcdb05594c3"
      },
      "source": [
        "#XGBoost-TFIDF\n",
        "param_grid_xgb = [{'n_estimator':[80,100,120], \n",
        "                  'max_depth':[3,6,9],\n",
        "                  'subsample':[0.8]}]\n",
        "tune(xgb(), param_grid_xgb, TFIDF_x_train, TFIDF_y_train)"
      ],
      "execution_count": null,
      "outputs": [
        {
          "output_type": "stream",
          "text": [
            "XGBClassifier(base_score=0.5, booster='gbtree', colsample_bylevel=1,\n",
            "              colsample_bynode=1, colsample_bytree=1, gamma=0,\n",
            "              learning_rate=0.1, max_delta_step=0, max_depth=9,\n",
            "              min_child_weight=1, missing=None, n_estimator=80,\n",
            "              n_estimators=100, n_jobs=1, nthread=None,\n",
            "              objective='binary:logistic', random_state=0, reg_alpha=0,\n",
            "              reg_lambda=1, scale_pos_weight=1, seed=None, silent=None,\n",
            "              subsample=0.8, verbosity=1)\n"
          ],
          "name": "stdout"
        }
      ]
    },
    {
      "cell_type": "code",
      "metadata": {
        "id": "O78hmKW7J5kD",
        "colab": {
          "base_uri": "https://localhost:8080/",
          "height": 69
        },
        "outputId": "f5a4abc8-9231-41a4-f6bb-967586cca581"
      },
      "source": [
        "run(xgb(max_depth=9,n_estimator=80), TFIDF_x_train, TFIDF_x_test, TFIDF_y_train, TFIDF_y_test)"
      ],
      "execution_count": null,
      "outputs": [
        {
          "output_type": "stream",
          "text": [
            "Accuracy: 0.7068908334821542\n",
            "--------------------------\n",
            " \n"
          ],
          "name": "stdout"
        }
      ]
    },
    {
      "cell_type": "markdown",
      "metadata": {
        "id": "YRb-ERtfvdzo"
      },
      "source": [
        "###**4.2 Sentiment prediction on Canadian election data**\n",
        "\n",
        "Choose the logistic regression model (which has the best accuracy performance in section 4.1) to predict the sentiment classifications of the Canadian elections data."
      ]
    },
    {
      "cell_type": "code",
      "metadata": {
        "id": "zGEDmULV_511",
        "colab": {
          "base_uri": "https://localhost:8080/",
          "height": 35
        },
        "outputId": "1024122f-103f-4a42-8acf-374d27806c4b"
      },
      "source": [
        "model1 = lr(max_iter=200, C=1, solver='lbfgs')\n",
        "model1.fit(WF_x_train, WF_y_train)\n",
        "predictions = model1.predict(df0_WF.drop(['target'],axis=1))\n",
        "accuracy = accuracy_score(df0_WF['target'], predictions)\n",
        "print('percent: {:.3%}'.format(accuracy))"
      ],
      "execution_count": null,
      "outputs": [
        {
          "output_type": "stream",
          "text": [
            "percent: 58.884%\n"
          ],
          "name": "stdout"
        }
      ]
    },
    {
      "cell_type": "code",
      "metadata": {
        "id": "w78nxtU-gFsn",
        "colab": {
          "base_uri": "https://localhost:8080/",
          "height": 110
        },
        "outputId": "2301a5cc-ac41-44f2-bb6f-18a8801eb4ae"
      },
      "source": [
        "pd.DataFrame(cm(df0_WF['target'],predictions), columns=['Predicted Negative','Predicted Positive'], index=['True Negative','True Positive'])"
      ],
      "execution_count": null,
      "outputs": [
        {
          "output_type": "execute_result",
          "data": {
            "text/html": [
              "<div>\n",
              "<style scoped>\n",
              "    .dataframe tbody tr th:only-of-type {\n",
              "        vertical-align: middle;\n",
              "    }\n",
              "\n",
              "    .dataframe tbody tr th {\n",
              "        vertical-align: top;\n",
              "    }\n",
              "\n",
              "    .dataframe thead th {\n",
              "        text-align: right;\n",
              "    }\n",
              "</style>\n",
              "<table border=\"1\" class=\"dataframe\">\n",
              "  <thead>\n",
              "    <tr style=\"text-align: right;\">\n",
              "      <th></th>\n",
              "      <th>Predicted Negative</th>\n",
              "      <th>Predicted Positive</th>\n",
              "    </tr>\n",
              "  </thead>\n",
              "  <tbody>\n",
              "    <tr>\n",
              "      <th>True Negative</th>\n",
              "      <td>627</td>\n",
              "      <td>379</td>\n",
              "    </tr>\n",
              "    <tr>\n",
              "      <th>True Positive</th>\n",
              "      <td>498</td>\n",
              "      <td>629</td>\n",
              "    </tr>\n",
              "  </tbody>\n",
              "</table>\n",
              "</div>"
            ],
            "text/plain": [
              "               Predicted Negative  Predicted Positive\n",
              "True Negative                 627                 379\n",
              "True Positive                 498                 629"
            ]
          },
          "metadata": {
            "tags": []
          },
          "execution_count": 75
        }
      ]
    },
    {
      "cell_type": "markdown",
      "metadata": {
        "id": "0tRy9FdvS0_c"
      },
      "source": [
        "###**4.3 Negative reasons prediction for Canadian election dataset** "
      ]
    },
    {
      "cell_type": "code",
      "metadata": {
        "id": "z1vsYAzZ70ij"
      },
      "source": [
        "# Creat a new dataframe without sentiment classifications column and positive rows.\n",
        "df_nega = df0.drop(['sentiment'],axis=1)\n",
        "df_nega = df_nega.dropna(subset=['negative_reason'])\n",
        "df_nega.reset_index(inplace = True,drop = True)"
      ],
      "execution_count": null,
      "outputs": []
    },
    {
      "cell_type": "code",
      "metadata": {
        "id": "lXiMM6328jo_",
        "colab": {
          "base_uri": "https://localhost:8080/",
          "height": 202
        },
        "outputId": "94c86b99-67b7-4b53-e2ef-689ec4e71daa"
      },
      "source": [
        "# Combine similar reasons into fewer categories.\n",
        "# Reasons with small number are grouped into one category called 'Minority' which is labeled '0'.\n",
        "new_label = {'Healthcare':0,\n",
        "             'Healthcare and Marijuana':0,\n",
        "             'Privilege':0,\n",
        "             'Women Reproductive right and Racism':0,\n",
        "             'Separation':0,\n",
        "             'Economy':0,\n",
        "             'Climate Problem':0,\n",
        "             'Tell lies':1,\n",
        "             'Scandal':2,\n",
        "             'Others':3}\n",
        "\n",
        "# Label Encoding the target variable\n",
        "df_nega.loc[:,'target'] = df_nega.loc[:,'negative_reason'].map(new_label)\n",
        "df_nega.loc[:,'target']=df_nega.loc[:,'target'].astype(int)\n",
        "df_nega.head()       "
      ],
      "execution_count": null,
      "outputs": [
        {
          "output_type": "execute_result",
          "data": {
            "text/html": [
              "<div>\n",
              "<style scoped>\n",
              "    .dataframe tbody tr th:only-of-type {\n",
              "        vertical-align: middle;\n",
              "    }\n",
              "\n",
              "    .dataframe tbody tr th {\n",
              "        vertical-align: top;\n",
              "    }\n",
              "\n",
              "    .dataframe thead th {\n",
              "        text-align: right;\n",
              "    }\n",
              "</style>\n",
              "<table border=\"1\" class=\"dataframe\">\n",
              "  <thead>\n",
              "    <tr style=\"text-align: right;\">\n",
              "      <th></th>\n",
              "      <th>negative_reason</th>\n",
              "      <th>text</th>\n",
              "      <th>target</th>\n",
              "    </tr>\n",
              "  </thead>\n",
              "  <tbody>\n",
              "    <tr>\n",
              "      <th>0</th>\n",
              "      <td>Women Reproductive right and Racism</td>\n",
              "      <td>['rosiebarton', 'instead', 'suggest', 'agre', ...</td>\n",
              "      <td>0</td>\n",
              "    </tr>\n",
              "    <tr>\n",
              "      <th>1</th>\n",
              "      <td>Economy</td>\n",
              "      <td>['brantford', 'go', 'cost', '94', 'billion', '...</td>\n",
              "      <td>0</td>\n",
              "    </tr>\n",
              "    <tr>\n",
              "      <th>2</th>\n",
              "      <td>Economy</td>\n",
              "      <td>['canada', 'taxpay', 'sick', 'tire', 'hard', '...</td>\n",
              "      <td>0</td>\n",
              "    </tr>\n",
              "    <tr>\n",
              "      <th>3</th>\n",
              "      <td>Others</td>\n",
              "      <td>['canadavotes2019', 'elxn43', 'cdnpoli', 'fact...</td>\n",
              "      <td>3</td>\n",
              "    </tr>\n",
              "    <tr>\n",
              "      <th>4</th>\n",
              "      <td>Others</td>\n",
              "      <td>['chooseforward', 'cdnpoli', 'elxn43', 'ncanad...</td>\n",
              "      <td>3</td>\n",
              "    </tr>\n",
              "  </tbody>\n",
              "</table>\n",
              "</div>"
            ],
            "text/plain": [
              "                       negative_reason  ... target\n",
              "0  Women Reproductive right and Racism  ...      0\n",
              "1                              Economy  ...      0\n",
              "2                              Economy  ...      0\n",
              "3                               Others  ...      3\n",
              "4                               Others  ...      3\n",
              "\n",
              "[5 rows x 3 columns]"
            ]
          },
          "metadata": {
            "tags": []
          },
          "execution_count": 196
        }
      ]
    },
    {
      "cell_type": "code",
      "metadata": {
        "id": "ISBPeTOoJgBb",
        "colab": {
          "base_uri": "https://localhost:8080/",
          "height": 35
        },
        "outputId": "71e6f8c2-404f-4a4b-b803-12a28216f0df"
      },
      "source": [
        "# Word Embedding\n",
        "tokenized_sentences = [sentence.split() for sentence in df_nega['text']]\n",
        "model = word2vec.Word2Vec(tokenized_sentences, size=200, min_count=1)"
      ],
      "execution_count": null,
      "outputs": [
        {
          "output_type": "stream",
          "text": [
            "WARNING:gensim.models.base_any2vec:under 10 jobs per worker: consider setting a smaller `batch_words' for smoother alpha decay\n"
          ],
          "name": "stderr"
        }
      ]
    },
    {
      "cell_type": "code",
      "metadata": {
        "id": "kaHLODlRJiCd"
      },
      "source": [
        "def buildWordVector(text, size):\n",
        "    vec = np.zeros(size).reshape((1, size))\n",
        "    count = 0.\n",
        "    text = text.split(' ')\n",
        "    for word in text:\n",
        "        vec += model.wv[word].reshape((1, size))\n",
        "        count += 1.\n",
        "    if count != 0:\n",
        "        vec /= count\n",
        "    return vec"
      ],
      "execution_count": null,
      "outputs": []
    },
    {
      "cell_type": "code",
      "metadata": {
        "id": "tmIy-iN1EFSP"
      },
      "source": [
        "array_wordEmbedding = np.concatenate([buildWordVector(z, 200) for z in df_nega['text']])    "
      ],
      "execution_count": null,
      "outputs": []
    },
    {
      "cell_type": "code",
      "metadata": {
        "id": "tz_0lCsCEO2A",
        "colab": {
          "base_uri": "https://localhost:8080/",
          "height": 251
        },
        "outputId": "6db54379-d4a9-4588-a8ca-3ee21f243ce9"
      },
      "source": [
        "df_nega_WE = pd.DataFrame(array_wordEmbedding)\n",
        "df_nega_WE['target']=df_nega['target']\n",
        "df_nega_WE.head()"
      ],
      "execution_count": null,
      "outputs": [
        {
          "output_type": "execute_result",
          "data": {
            "text/html": [
              "<div>\n",
              "<style scoped>\n",
              "    .dataframe tbody tr th:only-of-type {\n",
              "        vertical-align: middle;\n",
              "    }\n",
              "\n",
              "    .dataframe tbody tr th {\n",
              "        vertical-align: top;\n",
              "    }\n",
              "\n",
              "    .dataframe thead th {\n",
              "        text-align: right;\n",
              "    }\n",
              "</style>\n",
              "<table border=\"1\" class=\"dataframe\">\n",
              "  <thead>\n",
              "    <tr style=\"text-align: right;\">\n",
              "      <th></th>\n",
              "      <th>0</th>\n",
              "      <th>1</th>\n",
              "      <th>2</th>\n",
              "      <th>3</th>\n",
              "      <th>4</th>\n",
              "      <th>5</th>\n",
              "      <th>6</th>\n",
              "      <th>7</th>\n",
              "      <th>8</th>\n",
              "      <th>9</th>\n",
              "      <th>10</th>\n",
              "      <th>11</th>\n",
              "      <th>12</th>\n",
              "      <th>13</th>\n",
              "      <th>14</th>\n",
              "      <th>15</th>\n",
              "      <th>16</th>\n",
              "      <th>17</th>\n",
              "      <th>18</th>\n",
              "      <th>19</th>\n",
              "      <th>20</th>\n",
              "      <th>21</th>\n",
              "      <th>22</th>\n",
              "      <th>23</th>\n",
              "      <th>24</th>\n",
              "      <th>25</th>\n",
              "      <th>26</th>\n",
              "      <th>27</th>\n",
              "      <th>28</th>\n",
              "      <th>29</th>\n",
              "      <th>30</th>\n",
              "      <th>31</th>\n",
              "      <th>32</th>\n",
              "      <th>33</th>\n",
              "      <th>34</th>\n",
              "      <th>35</th>\n",
              "      <th>36</th>\n",
              "      <th>37</th>\n",
              "      <th>38</th>\n",
              "      <th>39</th>\n",
              "      <th>...</th>\n",
              "      <th>161</th>\n",
              "      <th>162</th>\n",
              "      <th>163</th>\n",
              "      <th>164</th>\n",
              "      <th>165</th>\n",
              "      <th>166</th>\n",
              "      <th>167</th>\n",
              "      <th>168</th>\n",
              "      <th>169</th>\n",
              "      <th>170</th>\n",
              "      <th>171</th>\n",
              "      <th>172</th>\n",
              "      <th>173</th>\n",
              "      <th>174</th>\n",
              "      <th>175</th>\n",
              "      <th>176</th>\n",
              "      <th>177</th>\n",
              "      <th>178</th>\n",
              "      <th>179</th>\n",
              "      <th>180</th>\n",
              "      <th>181</th>\n",
              "      <th>182</th>\n",
              "      <th>183</th>\n",
              "      <th>184</th>\n",
              "      <th>185</th>\n",
              "      <th>186</th>\n",
              "      <th>187</th>\n",
              "      <th>188</th>\n",
              "      <th>189</th>\n",
              "      <th>190</th>\n",
              "      <th>191</th>\n",
              "      <th>192</th>\n",
              "      <th>193</th>\n",
              "      <th>194</th>\n",
              "      <th>195</th>\n",
              "      <th>196</th>\n",
              "      <th>197</th>\n",
              "      <th>198</th>\n",
              "      <th>199</th>\n",
              "      <th>target</th>\n",
              "    </tr>\n",
              "  </thead>\n",
              "  <tbody>\n",
              "    <tr>\n",
              "      <th>0</th>\n",
              "      <td>0.006376</td>\n",
              "      <td>0.005258</td>\n",
              "      <td>0.001816</td>\n",
              "      <td>-0.001518</td>\n",
              "      <td>0.027018</td>\n",
              "      <td>0.020251</td>\n",
              "      <td>0.029627</td>\n",
              "      <td>0.024837</td>\n",
              "      <td>0.023384</td>\n",
              "      <td>0.012971</td>\n",
              "      <td>-0.026742</td>\n",
              "      <td>-0.034897</td>\n",
              "      <td>0.021721</td>\n",
              "      <td>0.012008</td>\n",
              "      <td>0.016009</td>\n",
              "      <td>-0.002964</td>\n",
              "      <td>0.012291</td>\n",
              "      <td>0.005718</td>\n",
              "      <td>-0.003498</td>\n",
              "      <td>-0.002650</td>\n",
              "      <td>0.021894</td>\n",
              "      <td>0.010211</td>\n",
              "      <td>0.034821</td>\n",
              "      <td>0.024931</td>\n",
              "      <td>-0.006210</td>\n",
              "      <td>-0.004093</td>\n",
              "      <td>0.014061</td>\n",
              "      <td>-0.011625</td>\n",
              "      <td>0.002504</td>\n",
              "      <td>-0.015509</td>\n",
              "      <td>0.015610</td>\n",
              "      <td>-0.015492</td>\n",
              "      <td>-0.020248</td>\n",
              "      <td>0.013042</td>\n",
              "      <td>-0.003906</td>\n",
              "      <td>0.011750</td>\n",
              "      <td>0.007672</td>\n",
              "      <td>-0.003371</td>\n",
              "      <td>0.007430</td>\n",
              "      <td>0.002913</td>\n",
              "      <td>...</td>\n",
              "      <td>0.017745</td>\n",
              "      <td>0.011202</td>\n",
              "      <td>-0.013597</td>\n",
              "      <td>0.007706</td>\n",
              "      <td>-0.004855</td>\n",
              "      <td>0.019582</td>\n",
              "      <td>0.006863</td>\n",
              "      <td>0.018260</td>\n",
              "      <td>-0.001241</td>\n",
              "      <td>0.012472</td>\n",
              "      <td>0.014812</td>\n",
              "      <td>0.012981</td>\n",
              "      <td>-0.030161</td>\n",
              "      <td>-0.005920</td>\n",
              "      <td>0.021539</td>\n",
              "      <td>-0.006432</td>\n",
              "      <td>0.026588</td>\n",
              "      <td>0.009885</td>\n",
              "      <td>0.010824</td>\n",
              "      <td>0.000516</td>\n",
              "      <td>-0.007068</td>\n",
              "      <td>0.014737</td>\n",
              "      <td>0.015202</td>\n",
              "      <td>0.009272</td>\n",
              "      <td>-0.048296</td>\n",
              "      <td>0.003075</td>\n",
              "      <td>0.003949</td>\n",
              "      <td>-0.007667</td>\n",
              "      <td>-0.011843</td>\n",
              "      <td>-0.011868</td>\n",
              "      <td>0.006952</td>\n",
              "      <td>0.030034</td>\n",
              "      <td>-0.005313</td>\n",
              "      <td>0.011219</td>\n",
              "      <td>0.011717</td>\n",
              "      <td>-0.007342</td>\n",
              "      <td>0.001493</td>\n",
              "      <td>-0.018305</td>\n",
              "      <td>-0.009584</td>\n",
              "      <td>0</td>\n",
              "    </tr>\n",
              "    <tr>\n",
              "      <th>1</th>\n",
              "      <td>0.005696</td>\n",
              "      <td>0.004447</td>\n",
              "      <td>0.001311</td>\n",
              "      <td>-0.001176</td>\n",
              "      <td>0.022255</td>\n",
              "      <td>0.017240</td>\n",
              "      <td>0.024072</td>\n",
              "      <td>0.020921</td>\n",
              "      <td>0.019329</td>\n",
              "      <td>0.011765</td>\n",
              "      <td>-0.022594</td>\n",
              "      <td>-0.029123</td>\n",
              "      <td>0.018776</td>\n",
              "      <td>0.010681</td>\n",
              "      <td>0.013979</td>\n",
              "      <td>-0.002869</td>\n",
              "      <td>0.010182</td>\n",
              "      <td>0.004897</td>\n",
              "      <td>-0.003446</td>\n",
              "      <td>-0.002687</td>\n",
              "      <td>0.018238</td>\n",
              "      <td>0.008468</td>\n",
              "      <td>0.029485</td>\n",
              "      <td>0.021276</td>\n",
              "      <td>-0.005712</td>\n",
              "      <td>-0.004343</td>\n",
              "      <td>0.012078</td>\n",
              "      <td>-0.010369</td>\n",
              "      <td>0.002431</td>\n",
              "      <td>-0.013313</td>\n",
              "      <td>0.013130</td>\n",
              "      <td>-0.013724</td>\n",
              "      <td>-0.017371</td>\n",
              "      <td>0.012104</td>\n",
              "      <td>-0.002966</td>\n",
              "      <td>0.009742</td>\n",
              "      <td>0.006684</td>\n",
              "      <td>-0.003027</td>\n",
              "      <td>0.006794</td>\n",
              "      <td>0.001671</td>\n",
              "      <td>...</td>\n",
              "      <td>0.014976</td>\n",
              "      <td>0.009950</td>\n",
              "      <td>-0.011635</td>\n",
              "      <td>0.007207</td>\n",
              "      <td>-0.004625</td>\n",
              "      <td>0.016674</td>\n",
              "      <td>0.006445</td>\n",
              "      <td>0.016120</td>\n",
              "      <td>-0.000220</td>\n",
              "      <td>0.009306</td>\n",
              "      <td>0.012165</td>\n",
              "      <td>0.010484</td>\n",
              "      <td>-0.025366</td>\n",
              "      <td>-0.005306</td>\n",
              "      <td>0.017988</td>\n",
              "      <td>-0.004414</td>\n",
              "      <td>0.021972</td>\n",
              "      <td>0.008225</td>\n",
              "      <td>0.009914</td>\n",
              "      <td>0.000357</td>\n",
              "      <td>-0.006641</td>\n",
              "      <td>0.011671</td>\n",
              "      <td>0.013086</td>\n",
              "      <td>0.008565</td>\n",
              "      <td>-0.040668</td>\n",
              "      <td>0.002784</td>\n",
              "      <td>0.003706</td>\n",
              "      <td>-0.006019</td>\n",
              "      <td>-0.009396</td>\n",
              "      <td>-0.010864</td>\n",
              "      <td>0.005890</td>\n",
              "      <td>0.024944</td>\n",
              "      <td>-0.004204</td>\n",
              "      <td>0.010236</td>\n",
              "      <td>0.010055</td>\n",
              "      <td>-0.006252</td>\n",
              "      <td>0.001644</td>\n",
              "      <td>-0.016084</td>\n",
              "      <td>-0.007899</td>\n",
              "      <td>0</td>\n",
              "    </tr>\n",
              "    <tr>\n",
              "      <th>2</th>\n",
              "      <td>0.002905</td>\n",
              "      <td>0.002917</td>\n",
              "      <td>0.000312</td>\n",
              "      <td>-0.000685</td>\n",
              "      <td>0.013162</td>\n",
              "      <td>0.010035</td>\n",
              "      <td>0.014858</td>\n",
              "      <td>0.013708</td>\n",
              "      <td>0.012493</td>\n",
              "      <td>0.006218</td>\n",
              "      <td>-0.013298</td>\n",
              "      <td>-0.017817</td>\n",
              "      <td>0.011302</td>\n",
              "      <td>0.005984</td>\n",
              "      <td>0.008562</td>\n",
              "      <td>-0.001786</td>\n",
              "      <td>0.006468</td>\n",
              "      <td>0.002615</td>\n",
              "      <td>-0.001383</td>\n",
              "      <td>-0.001338</td>\n",
              "      <td>0.011114</td>\n",
              "      <td>0.005173</td>\n",
              "      <td>0.017972</td>\n",
              "      <td>0.013010</td>\n",
              "      <td>-0.003165</td>\n",
              "      <td>-0.002120</td>\n",
              "      <td>0.006750</td>\n",
              "      <td>-0.005935</td>\n",
              "      <td>0.000445</td>\n",
              "      <td>-0.007751</td>\n",
              "      <td>0.007795</td>\n",
              "      <td>-0.008119</td>\n",
              "      <td>-0.010268</td>\n",
              "      <td>0.006761</td>\n",
              "      <td>-0.002567</td>\n",
              "      <td>0.006344</td>\n",
              "      <td>0.004203</td>\n",
              "      <td>-0.001298</td>\n",
              "      <td>0.004150</td>\n",
              "      <td>0.001444</td>\n",
              "      <td>...</td>\n",
              "      <td>0.009062</td>\n",
              "      <td>0.005449</td>\n",
              "      <td>-0.006882</td>\n",
              "      <td>0.004362</td>\n",
              "      <td>-0.002414</td>\n",
              "      <td>0.009891</td>\n",
              "      <td>0.003381</td>\n",
              "      <td>0.008776</td>\n",
              "      <td>-0.000489</td>\n",
              "      <td>0.005943</td>\n",
              "      <td>0.007676</td>\n",
              "      <td>0.006835</td>\n",
              "      <td>-0.014901</td>\n",
              "      <td>-0.003426</td>\n",
              "      <td>0.010544</td>\n",
              "      <td>-0.002672</td>\n",
              "      <td>0.013653</td>\n",
              "      <td>0.005379</td>\n",
              "      <td>0.005422</td>\n",
              "      <td>0.000614</td>\n",
              "      <td>-0.003564</td>\n",
              "      <td>0.006864</td>\n",
              "      <td>0.007680</td>\n",
              "      <td>0.005069</td>\n",
              "      <td>-0.024403</td>\n",
              "      <td>0.001755</td>\n",
              "      <td>0.002220</td>\n",
              "      <td>-0.004263</td>\n",
              "      <td>-0.006072</td>\n",
              "      <td>-0.005856</td>\n",
              "      <td>0.003799</td>\n",
              "      <td>0.015470</td>\n",
              "      <td>-0.002323</td>\n",
              "      <td>0.005923</td>\n",
              "      <td>0.005867</td>\n",
              "      <td>-0.004028</td>\n",
              "      <td>0.000590</td>\n",
              "      <td>-0.009018</td>\n",
              "      <td>-0.004873</td>\n",
              "      <td>0</td>\n",
              "    </tr>\n",
              "    <tr>\n",
              "      <th>3</th>\n",
              "      <td>0.004201</td>\n",
              "      <td>0.003590</td>\n",
              "      <td>0.000911</td>\n",
              "      <td>-0.000491</td>\n",
              "      <td>0.015251</td>\n",
              "      <td>0.011009</td>\n",
              "      <td>0.016513</td>\n",
              "      <td>0.013758</td>\n",
              "      <td>0.013513</td>\n",
              "      <td>0.007587</td>\n",
              "      <td>-0.015685</td>\n",
              "      <td>-0.019696</td>\n",
              "      <td>0.012278</td>\n",
              "      <td>0.006523</td>\n",
              "      <td>0.008984</td>\n",
              "      <td>-0.001794</td>\n",
              "      <td>0.007297</td>\n",
              "      <td>0.003415</td>\n",
              "      <td>-0.002019</td>\n",
              "      <td>-0.001357</td>\n",
              "      <td>0.012055</td>\n",
              "      <td>0.006090</td>\n",
              "      <td>0.019859</td>\n",
              "      <td>0.014034</td>\n",
              "      <td>-0.003607</td>\n",
              "      <td>-0.002238</td>\n",
              "      <td>0.008026</td>\n",
              "      <td>-0.006442</td>\n",
              "      <td>0.001771</td>\n",
              "      <td>-0.008545</td>\n",
              "      <td>0.008542</td>\n",
              "      <td>-0.008445</td>\n",
              "      <td>-0.010972</td>\n",
              "      <td>0.007757</td>\n",
              "      <td>-0.002246</td>\n",
              "      <td>0.006926</td>\n",
              "      <td>0.004596</td>\n",
              "      <td>-0.001718</td>\n",
              "      <td>0.005015</td>\n",
              "      <td>0.001718</td>\n",
              "      <td>...</td>\n",
              "      <td>0.010362</td>\n",
              "      <td>0.006413</td>\n",
              "      <td>-0.007912</td>\n",
              "      <td>0.005007</td>\n",
              "      <td>-0.003007</td>\n",
              "      <td>0.011130</td>\n",
              "      <td>0.003531</td>\n",
              "      <td>0.010745</td>\n",
              "      <td>-0.000614</td>\n",
              "      <td>0.006449</td>\n",
              "      <td>0.008622</td>\n",
              "      <td>0.007432</td>\n",
              "      <td>-0.016837</td>\n",
              "      <td>-0.003288</td>\n",
              "      <td>0.011778</td>\n",
              "      <td>-0.003166</td>\n",
              "      <td>0.015152</td>\n",
              "      <td>0.005461</td>\n",
              "      <td>0.006433</td>\n",
              "      <td>0.000692</td>\n",
              "      <td>-0.003836</td>\n",
              "      <td>0.008289</td>\n",
              "      <td>0.008406</td>\n",
              "      <td>0.005612</td>\n",
              "      <td>-0.027909</td>\n",
              "      <td>0.002159</td>\n",
              "      <td>0.002238</td>\n",
              "      <td>-0.004768</td>\n",
              "      <td>-0.006370</td>\n",
              "      <td>-0.006801</td>\n",
              "      <td>0.003830</td>\n",
              "      <td>0.017404</td>\n",
              "      <td>-0.003193</td>\n",
              "      <td>0.006461</td>\n",
              "      <td>0.006710</td>\n",
              "      <td>-0.003985</td>\n",
              "      <td>0.000712</td>\n",
              "      <td>-0.010159</td>\n",
              "      <td>-0.006012</td>\n",
              "      <td>3</td>\n",
              "    </tr>\n",
              "    <tr>\n",
              "      <th>4</th>\n",
              "      <td>0.004649</td>\n",
              "      <td>0.003099</td>\n",
              "      <td>0.001801</td>\n",
              "      <td>-0.000941</td>\n",
              "      <td>0.017931</td>\n",
              "      <td>0.013781</td>\n",
              "      <td>0.019983</td>\n",
              "      <td>0.016512</td>\n",
              "      <td>0.015883</td>\n",
              "      <td>0.009163</td>\n",
              "      <td>-0.017944</td>\n",
              "      <td>-0.023737</td>\n",
              "      <td>0.014491</td>\n",
              "      <td>0.008338</td>\n",
              "      <td>0.011228</td>\n",
              "      <td>-0.001801</td>\n",
              "      <td>0.008031</td>\n",
              "      <td>0.003242</td>\n",
              "      <td>-0.002315</td>\n",
              "      <td>-0.002030</td>\n",
              "      <td>0.014536</td>\n",
              "      <td>0.007094</td>\n",
              "      <td>0.023988</td>\n",
              "      <td>0.016143</td>\n",
              "      <td>-0.004187</td>\n",
              "      <td>-0.002203</td>\n",
              "      <td>0.009249</td>\n",
              "      <td>-0.008019</td>\n",
              "      <td>0.001807</td>\n",
              "      <td>-0.010669</td>\n",
              "      <td>0.011240</td>\n",
              "      <td>-0.010240</td>\n",
              "      <td>-0.013570</td>\n",
              "      <td>0.009178</td>\n",
              "      <td>-0.003222</td>\n",
              "      <td>0.008122</td>\n",
              "      <td>0.005544</td>\n",
              "      <td>-0.001541</td>\n",
              "      <td>0.004939</td>\n",
              "      <td>0.002055</td>\n",
              "      <td>...</td>\n",
              "      <td>0.012055</td>\n",
              "      <td>0.007942</td>\n",
              "      <td>-0.009237</td>\n",
              "      <td>0.006006</td>\n",
              "      <td>-0.002747</td>\n",
              "      <td>0.012974</td>\n",
              "      <td>0.003909</td>\n",
              "      <td>0.012309</td>\n",
              "      <td>-0.000477</td>\n",
              "      <td>0.008054</td>\n",
              "      <td>0.010051</td>\n",
              "      <td>0.009214</td>\n",
              "      <td>-0.020536</td>\n",
              "      <td>-0.004263</td>\n",
              "      <td>0.014056</td>\n",
              "      <td>-0.003627</td>\n",
              "      <td>0.018292</td>\n",
              "      <td>0.006609</td>\n",
              "      <td>0.007544</td>\n",
              "      <td>-0.000074</td>\n",
              "      <td>-0.004992</td>\n",
              "      <td>0.010281</td>\n",
              "      <td>0.010189</td>\n",
              "      <td>0.006161</td>\n",
              "      <td>-0.033410</td>\n",
              "      <td>0.002028</td>\n",
              "      <td>0.003517</td>\n",
              "      <td>-0.004603</td>\n",
              "      <td>-0.007265</td>\n",
              "      <td>-0.008591</td>\n",
              "      <td>0.004345</td>\n",
              "      <td>0.020002</td>\n",
              "      <td>-0.003427</td>\n",
              "      <td>0.007478</td>\n",
              "      <td>0.007689</td>\n",
              "      <td>-0.005012</td>\n",
              "      <td>0.001500</td>\n",
              "      <td>-0.012415</td>\n",
              "      <td>-0.007344</td>\n",
              "      <td>3</td>\n",
              "    </tr>\n",
              "  </tbody>\n",
              "</table>\n",
              "<p>5 rows × 201 columns</p>\n",
              "</div>"
            ],
            "text/plain": [
              "          0         1         2         3  ...       197       198       199  target\n",
              "0  0.006376  0.005258  0.001816 -0.001518  ...  0.001493 -0.018305 -0.009584       0\n",
              "1  0.005696  0.004447  0.001311 -0.001176  ...  0.001644 -0.016084 -0.007899       0\n",
              "2  0.002905  0.002917  0.000312 -0.000685  ...  0.000590 -0.009018 -0.004873       0\n",
              "3  0.004201  0.003590  0.000911 -0.000491  ...  0.000712 -0.010159 -0.006012       3\n",
              "4  0.004649  0.003099  0.001801 -0.000941  ...  0.001500 -0.012415 -0.007344       3\n",
              "\n",
              "[5 rows x 201 columns]"
            ]
          },
          "metadata": {
            "tags": []
          },
          "execution_count": 200
        }
      ]
    },
    {
      "cell_type": "code",
      "metadata": {
        "id": "Oe47zuMqTUQs"
      },
      "source": [
        "# Split tweets randomly into train data (70%) and test data (30%)\n",
        "from sklearn.model_selection import train_test_split\n",
        "x = df_nega_WE.drop(['target'],axis=1)\n",
        "y = df_nega_WE['target']\n",
        "x_train, x_test, y_train, y_test = train_test_split(x, y, test_size=0.3, random_state=228)"
      ],
      "execution_count": null,
      "outputs": []
    },
    {
      "cell_type": "markdown",
      "metadata": {
        "id": "pvSCWwRIMolQ"
      },
      "source": [
        "Choose three algorithms from classification algorithms (logistic regression, k-NN, Naive Bayes, SVM, decision trees, ensembles (Random Forest, XGBoost)), train multi-class classification models to predict the reason for the negative tweets."
      ]
    },
    {
      "cell_type": "markdown",
      "metadata": {
        "id": "VgCjs0gAMwo6"
      },
      "source": [
        "**4.3.1 Logistic Regression**"
      ]
    },
    {
      "cell_type": "code",
      "metadata": {
        "id": "DfryBI2LOCXY"
      },
      "source": [
        "def tune2(model, param_grid, x_train, y_train):\n",
        "  #Train models on the training data, tune the hyperparameters with 3 folds cross-validation\n",
        "  grid_search = GridSearchCV(model, param_grid, cv=3, scoring='accuracy')\n",
        "  grid_search.fit(x_train, y_train)\n",
        "  print(grid_search.best_estimator_)"
      ],
      "execution_count": null,
      "outputs": []
    },
    {
      "cell_type": "code",
      "metadata": {
        "id": "kc9OP8iuNHU8",
        "colab": {
          "base_uri": "https://localhost:8080/",
          "height": 104
        },
        "outputId": "f73ea083-af95-4d57-c7d3-d7aafcec73b0"
      },
      "source": [
        "c = np.arange(0.001, 0.1, 0.005).tolist()\n",
        "param_grid_lr = [{'C':c,'solver':['lbfgs', 'sag', 'liblinear', 'newton-cg', 'saga']}]\n",
        "tune2(lr(multi_class='ovr'), param_grid_lr, x_train, y_train)"
      ],
      "execution_count": null,
      "outputs": [
        {
          "output_type": "stream",
          "text": [
            "LogisticRegression(C=0.001, class_weight=None, dual=False, fit_intercept=True,\n",
            "                   intercept_scaling=1, l1_ratio=None, max_iter=100,\n",
            "                   multi_class='ovr', n_jobs=None, penalty='l2',\n",
            "                   random_state=None, solver='lbfgs', tol=0.0001, verbose=0,\n",
            "                   warm_start=False)\n"
          ],
          "name": "stdout"
        }
      ]
    },
    {
      "cell_type": "code",
      "metadata": {
        "id": "5mfDuG9xST5D",
        "colab": {
          "base_uri": "https://localhost:8080/",
          "height": 69
        },
        "outputId": "d575644e-497e-4562-d272-8c660f100858"
      },
      "source": [
        "run(lr(multi_class='ovr',C=0.001,solver='lbfgs'),x_train, x_test, y_train, y_test)"
      ],
      "execution_count": null,
      "outputs": [
        {
          "output_type": "stream",
          "text": [
            "Accuracy: 0.35313531353135313\n",
            "--------------------------\n",
            " \n"
          ],
          "name": "stdout"
        }
      ]
    },
    {
      "cell_type": "markdown",
      "metadata": {
        "id": "dGa5KfowM1Mj"
      },
      "source": [
        "**4.3.2 SVC**"
      ]
    },
    {
      "cell_type": "code",
      "metadata": {
        "id": "YTM_KO8JUksb",
        "colab": {
          "base_uri": "https://localhost:8080/",
          "height": 87
        },
        "outputId": "b8ab9ad3-2144-4787-8f11-286178ea4881"
      },
      "source": [
        "param_grid_svc = [{'C':[0.5, 1, 2], 'kernel':['poly', 'rbf', 'sigmoid'], 'gamma':['scale', 'auto']}]\n",
        "\n",
        "tune2(svc(), param_grid_svc, x_train, y_train) "
      ],
      "execution_count": null,
      "outputs": [
        {
          "output_type": "stream",
          "text": [
            "SVC(C=0.5, break_ties=False, cache_size=200, class_weight=None, coef0=0.0,\n",
            "    decision_function_shape='ovr', degree=3, gamma='scale', kernel='poly',\n",
            "    max_iter=-1, probability=False, random_state=None, shrinking=True,\n",
            "    tol=0.001, verbose=False)\n"
          ],
          "name": "stdout"
        }
      ]
    },
    {
      "cell_type": "code",
      "metadata": {
        "id": "tK02bmwYh5BK",
        "colab": {
          "base_uri": "https://localhost:8080/",
          "height": 69
        },
        "outputId": "2b047e54-ec2d-43e5-aa18-f842f0181ea0"
      },
      "source": [
        "run(svc(C=0.5,kernel='poly',gamma='scale'),x_train, x_test, y_train, y_test)"
      ],
      "execution_count": null,
      "outputs": [
        {
          "output_type": "stream",
          "text": [
            "Accuracy: 0.35313531353135313\n",
            "--------------------------\n",
            " \n"
          ],
          "name": "stdout"
        }
      ]
    },
    {
      "cell_type": "markdown",
      "metadata": {
        "id": "Mae59fKhM-89"
      },
      "source": [
        "**4.3.3 XGBoost**"
      ]
    },
    {
      "cell_type": "code",
      "metadata": {
        "id": "ZcL4WDmQFquH",
        "colab": {
          "base_uri": "https://localhost:8080/",
          "height": 156
        },
        "outputId": "e8732571-545c-484c-8468-1c8f89ab568c"
      },
      "source": [
        "param_grid_xgb = [{'n_estimator':[50, 100, 200, 400], \n",
        "                  'max_depth':[3,6,9],\n",
        "                  'learning_rate':[0.1, 0.2, 0.3]}]\n",
        "tune2(xgb(), param_grid_xgb, x_train, y_train)  "
      ],
      "execution_count": null,
      "outputs": [
        {
          "output_type": "stream",
          "text": [
            "XGBClassifier(base_score=0.5, booster='gbtree', colsample_bylevel=1,\n",
            "              colsample_bynode=1, colsample_bytree=1, gamma=0,\n",
            "              learning_rate=0.1, max_delta_step=0, max_depth=3,\n",
            "              min_child_weight=1, missing=None, n_estimator=50,\n",
            "              n_estimators=100, n_jobs=1, nthread=None,\n",
            "              objective='multi:softprob', random_state=0, reg_alpha=0,\n",
            "              reg_lambda=1, scale_pos_weight=1, seed=None, silent=None,\n",
            "              subsample=1, verbosity=1)\n"
          ],
          "name": "stdout"
        }
      ]
    },
    {
      "cell_type": "code",
      "metadata": {
        "id": "qYkEQEY0nZJh",
        "colab": {
          "base_uri": "https://localhost:8080/",
          "height": 69
        },
        "outputId": "f6af3c78-1260-47f3-f5a0-a495cba18837"
      },
      "source": [
        "run(xgb(learning_rate=0.1,n_estimator=50, max_depth=3),x_train, x_test, y_train, y_test)"
      ],
      "execution_count": null,
      "outputs": [
        {
          "output_type": "stream",
          "text": [
            "Accuracy: 0.39603960396039606\n",
            "--------------------------\n",
            " \n"
          ],
          "name": "stdout"
        }
      ]
    },
    {
      "cell_type": "markdown",
      "metadata": {
        "id": "XvyMyX7nS8Ct"
      },
      "source": [
        "# **5. Results and Discussions**"
      ]
    },
    {
      "cell_type": "markdown",
      "metadata": {
        "id": "Dn-gGPOOlhQu"
      },
      "source": [
        "###**5.1 Model 1** \n",
        "To visualize the sentiment prediction results and the true sentiment, bar plots and confusion matrixs are plotted for each of the 3 parties. \n",
        "\n",
        "A confusion matrix shows each combination of the true and predicted classes for a test data set.\n",
        "These matrixs help us evaluate the accuracy of the classification.\n"
      ]
    },
    {
      "cell_type": "markdown",
      "metadata": {
        "id": "GBJN2MESsxXs"
      },
      "source": [
        "\n",
        "As far as I'm concerned, NLP analytics based on tweets is useful for political parties during election campaigns. The evaluation of sentiment analysis on each parties indicates that the highest ratio of positive to negative support is for New Democratic party, but their total support base is much smaller than the Liberals or Conservatives. Liberal and conservative parties have large support base. And liberal party also holds relatively large positive percentage among people concerned about while the conservative party has a significantly smaller ratio of positive to negative support, which could explain why the Liberal party won the election with a majority government.\n",
        " "
      ]
    },
    {
      "cell_type": "code",
      "metadata": {
        "id": "eA9d2IhfTdxh"
      },
      "source": [
        "# Creat a new dataframe for the prediction result\n",
        "result1 = pd.DataFrame(predictions, columns=['Predicted'])\n",
        "result1['True'] = df0_WF['target']\n",
        "result1['political_party'] = df['political_party']"
      ],
      "execution_count": null,
      "outputs": []
    },
    {
      "cell_type": "code",
      "metadata": {
        "id": "1NjE1URVI-Tt",
        "colab": {
          "base_uri": "https://localhost:8080/",
          "height": 687
        },
        "outputId": "9968812c-0ccd-4584-ec74-fc638d456630"
      },
      "source": [
        "df_group = df.groupby(['political_party', 'sentiment']).size()\n",
        "df_group.unstack().plot.bar()\n",
        "plt.ylabel('Counts')\n",
        "plt.title('True Positive/Negative Tweets for Political Party')\n",
        "\n",
        "result1_group = result1.groupby(['political_party', 'Predicted']).size()\n",
        "result1_group.unstack().plot.bar()\n",
        "plt.ylabel('Counts')\n",
        "plt.title('Predicted Positive/Negative Tweets for Political Party')\n",
        "plt.show()"
      ],
      "execution_count": null,
      "outputs": [
        {
          "output_type": "display_data",
          "data": {
            "image/png": "[encoded data removed]",
            "text/plain": [
              "<Figure size 432x288 with 1 Axes>"
            ]
          },
          "metadata": {
            "tags": []
          }
        },
        {
          "output_type": "display_data",
          "data": {
            "image/png": "[encoded data removed]",
            "text/plain": [
              "<Figure size 432x288 with 1 Axes>"
            ]
          },
          "metadata": {
            "tags": []
          }
        }
      ]
    },
    {
      "cell_type": "code",
      "metadata": {
        "id": "g6IK_8i-rJsJ",
        "colab": {
          "base_uri": "https://localhost:8080/",
          "height": 393
        },
        "outputId": "50a93681-3d21-4e54-f556-f9b62394b2cc"
      },
      "source": [
        "# Sentiment prediction results for Liberal Party\n",
        "liber = result1.groupby(by=['political_party']).get_group('Liberal')\n",
        "print('Accuracy of Liberal Party:', 'percent: {:.3%}'.format(accuracy_score(liber['True'], liber['Predicted'])))\n",
        "print('---------------------------------------------')\n",
        "sns.heatmap(cm(liber['True'],liber['Predicted']),annot=True)\n",
        "pd.DataFrame(cm(liber['True'],liber['Predicted']), columns=['Predicted Negative','Predicted Positive'], index=['True Negative','True Positive'])"
      ],
      "execution_count": null,
      "outputs": [
        {
          "output_type": "stream",
          "text": [
            "Accuracy of Liberal Party: percent: 54.517%\n",
            "---------------------------------------------\n"
          ],
          "name": "stdout"
        },
        {
          "output_type": "execute_result",
          "data": {
            "text/html": [
              "<div>\n",
              "<style scoped>\n",
              "    .dataframe tbody tr th:only-of-type {\n",
              "        vertical-align: middle;\n",
              "    }\n",
              "\n",
              "    .dataframe tbody tr th {\n",
              "        vertical-align: top;\n",
              "    }\n",
              "\n",
              "    .dataframe thead th {\n",
              "        text-align: right;\n",
              "    }\n",
              "</style>\n",
              "<table border=\"1\" class=\"dataframe\">\n",
              "  <thead>\n",
              "    <tr style=\"text-align: right;\">\n",
              "      <th></th>\n",
              "      <th>Predicted Negative</th>\n",
              "      <th>Predicted Positive</th>\n",
              "    </tr>\n",
              "  </thead>\n",
              "  <tbody>\n",
              "    <tr>\n",
              "      <th>True Negative</th>\n",
              "      <td>101</td>\n",
              "      <td>70</td>\n",
              "    </tr>\n",
              "    <tr>\n",
              "      <th>True Positive</th>\n",
              "      <td>76</td>\n",
              "      <td>74</td>\n",
              "    </tr>\n",
              "  </tbody>\n",
              "</table>\n",
              "</div>"
            ],
            "text/plain": [
              "               Predicted Negative  Predicted Positive\n",
              "True Negative                 101                  70\n",
              "True Positive                  76                  74"
            ]
          },
          "metadata": {
            "tags": []
          },
          "execution_count": 102
        },
        {
          "output_type": "display_data",
          "data": {
            "image/png": "[encoded data removed]",
            "text/plain": [
              "<Figure size 432x288 with 2 Axes>"
            ]
          },
          "metadata": {
            "tags": []
          }
        }
      ]
    },
    {
      "cell_type": "code",
      "metadata": {
        "id": "oDEifMWGrDCE",
        "colab": {
          "base_uri": "https://localhost:8080/",
          "height": 393
        },
        "outputId": "fd6bd5d9-7004-4b51-b0fc-80e8b2481b78"
      },
      "source": [
        "# Sentiment prediction results for Conservative Party\n",
        "conserv = result1.groupby(by=['political_party']).get_group('Conservative')\n",
        "print('Accuracy of Liberal Party:', 'percent: {:.3%}'.format(accuracy_score(conserv['True'],conserv['Predicted'])))\n",
        "print('---------------------------------------------')\n",
        "sns.heatmap(cm(conserv['True'],conserv['Predicted']),annot=True)\n",
        "pd.DataFrame(cm(conserv['True'],conserv['Predicted']), columns=['Predicted Negative','Predicted Positive'], index=['True Negative','True Positive'])"
      ],
      "execution_count": null,
      "outputs": [
        {
          "output_type": "stream",
          "text": [
            "Accuracy of Liberal Party: percent: 58.065%\n",
            "---------------------------------------------\n"
          ],
          "name": "stdout"
        },
        {
          "output_type": "execute_result",
          "data": {
            "text/html": [
              "<div>\n",
              "<style scoped>\n",
              "    .dataframe tbody tr th:only-of-type {\n",
              "        vertical-align: middle;\n",
              "    }\n",
              "\n",
              "    .dataframe tbody tr th {\n",
              "        vertical-align: top;\n",
              "    }\n",
              "\n",
              "    .dataframe thead th {\n",
              "        text-align: right;\n",
              "    }\n",
              "</style>\n",
              "<table border=\"1\" class=\"dataframe\">\n",
              "  <thead>\n",
              "    <tr style=\"text-align: right;\">\n",
              "      <th></th>\n",
              "      <th>Predicted Negative</th>\n",
              "      <th>Predicted Positive</th>\n",
              "    </tr>\n",
              "  </thead>\n",
              "  <tbody>\n",
              "    <tr>\n",
              "      <th>True Negative</th>\n",
              "      <td>126</td>\n",
              "      <td>80</td>\n",
              "    </tr>\n",
              "    <tr>\n",
              "      <th>True Positive</th>\n",
              "      <td>50</td>\n",
              "      <td>54</td>\n",
              "    </tr>\n",
              "  </tbody>\n",
              "</table>\n",
              "</div>"
            ],
            "text/plain": [
              "               Predicted Negative  Predicted Positive\n",
              "True Negative                 126                  80\n",
              "True Positive                  50                  54"
            ]
          },
          "metadata": {
            "tags": []
          },
          "execution_count": 105
        },
        {
          "output_type": "display_data",
          "data": {
            "image/png": "[encoded data removed]",
            "text/plain": [
              "<Figure size 432x288 with 2 Axes>"
            ]
          },
          "metadata": {
            "tags": []
          }
        }
      ]
    },
    {
      "cell_type": "code",
      "metadata": {
        "id": "bv_BZ3_MYEku",
        "colab": {
          "base_uri": "https://localhost:8080/",
          "height": 397
        },
        "outputId": "8cf345ba-d75a-48ca-be2a-e5978b38b722"
      },
      "source": [
        "# Sentiment prediction results for NDP Party\n",
        "ndp = result1.groupby(by=['political_party']).get_group('NDP')\n",
        "print('Accuracy of Liberal Party:', 'percent: {:.3%}'.format(accuracy_score(ndp['True'],ndp['Predicted'])))\n",
        "print('---------------------------------------------')\n",
        "sns.heatmap(cm(ndp['True'],ndp['Predicted']),annot=True)\n",
        "pd.DataFrame(cm(ndp['True'],ndp['Predicted']), columns=['Predicted Negative','Predicted Positive'], index=['True Negative','True Positive'])"
      ],
      "execution_count": null,
      "outputs": [
        {
          "output_type": "stream",
          "text": [
            "Accuracy of Liberal Party: percent: 65.986%\n",
            "---------------------------------------------\n"
          ],
          "name": "stdout"
        },
        {
          "output_type": "execute_result",
          "data": {
            "text/html": [
              "<div>\n",
              "<style scoped>\n",
              "    .dataframe tbody tr th:only-of-type {\n",
              "        vertical-align: middle;\n",
              "    }\n",
              "\n",
              "    .dataframe tbody tr th {\n",
              "        vertical-align: top;\n",
              "    }\n",
              "\n",
              "    .dataframe thead th {\n",
              "        text-align: right;\n",
              "    }\n",
              "</style>\n",
              "<table border=\"1\" class=\"dataframe\">\n",
              "  <thead>\n",
              "    <tr style=\"text-align: right;\">\n",
              "      <th></th>\n",
              "      <th>Predicted Negative</th>\n",
              "      <th>Predicted Positive</th>\n",
              "    </tr>\n",
              "  </thead>\n",
              "  <tbody>\n",
              "    <tr>\n",
              "      <th>True Negative</th>\n",
              "      <td>37</td>\n",
              "      <td>20</td>\n",
              "    </tr>\n",
              "    <tr>\n",
              "      <th>True Positive</th>\n",
              "      <td>30</td>\n",
              "      <td>60</td>\n",
              "    </tr>\n",
              "  </tbody>\n",
              "</table>\n",
              "</div>"
            ],
            "text/plain": [
              "               Predicted Negative  Predicted Positive\n",
              "True Negative                  37                  20\n",
              "True Positive                  30                  60"
            ]
          },
          "metadata": {
            "tags": []
          },
          "execution_count": 107
        },
        {
          "output_type": "display_data",
          "data": {
            "image/png": "[encoded data removed]",
            "text/plain": [
              "<Figure size 432x288 with 2 Axes>"
            ]
          },
          "metadata": {
            "tags": []
          }
        }
      ]
    },
    {
      "cell_type": "markdown",
      "metadata": {
        "id": "Np-YztG7dJ7Q"
      },
      "source": [
        "The predictions don't match the sentiment label very well. There are some ways we can do to improve the accuracy. On the one hand, to improve the model performance, gathering more knowledge and theories to support the tuning and adjusting on learning model. On the other hand, to increase the accuracy, data cleaning and feature selecting process should be optimized. Some meaningless words like 'xx', 'ya', 'yo' etc. still appear in the cleaned tweets and some high frequency words having little contribution on sentiment estimate as they appear on both positive and negative tweets, are considered significant features by CountVectorizer."
      ]
    },
    {
      "cell_type": "markdown",
      "metadata": {
        "id": "pEYaK_JHnhYh"
      },
      "source": [
        "###**5.2 Model 2**\n",
        "\n",
        "Based on the model that worked best in section 4.3, a confusion matrix and a histogram are plotted to show distributions of negative reasons."
      ]
    },
    {
      "cell_type": "code",
      "metadata": {
        "id": "54j7E5PWlyp3"
      },
      "source": [
        "model2 = xgb(learning_rate=0.1,n_estimator=50, max_depth=3)\n",
        "model2.fit(x_train, y_train)\n",
        "predictions = model2.predict(x_test)"
      ],
      "execution_count": null,
      "outputs": []
    },
    {
      "cell_type": "code",
      "metadata": {
        "id": "GZfjqZY7mALe",
        "colab": {
          "base_uri": "https://localhost:8080/",
          "height": 298
        },
        "outputId": "139b0b55-a151-4ec0-b1c9-877b3e2a8597"
      },
      "source": [
        "plot_result = pd.DataFrame(y_test)\n",
        "plot_result['pred'] = predictions\n",
        "plot_result.columns=['actual','pred']\n",
        "\n",
        "font_size=8\n",
        "label_size=6\n",
        "sns.distplot(plot_result['pred'], bins=4,  color=\"red\",label='Predicted reason')\n",
        "ax=sns.distplot(plot_result['actual'], bins=4, color=\"skyblue\",label='Actual reason')\n",
        "plt.legend()\n",
        "ax.axes.set_title('Prediction vs Truth Histogram',fontsize=font_size+5);\n",
        "ax.set_xlabel('Reason classification',fontsize=font_size+5);\n",
        "ax.set_ylabel('Distributions',fontsize=font_size+5);"
      ],
      "execution_count": null,
      "outputs": [
        {
          "output_type": "display_data",
          "data": {
            "image/png": "[encoded data removed]",
            "text/plain": [
              "<Figure size 432x288 with 1 Axes>"
            ]
          },
          "metadata": {
            "tags": []
          }
        }
      ]
    },
    {
      "cell_type": "code",
      "metadata": {
        "id": "pBbbBSZaf3Em",
        "colab": {
          "base_uri": "https://localhost:8080/",
          "height": 171
        },
        "outputId": "5966db42-d67a-46a2-9d3b-1848af176f15"
      },
      "source": [
        "pd.DataFrame(cm(y_test,predictions), \n",
        "             columns=['P_Minority','P_Tell lies','P_Scandal','P_Others'], \n",
        "             index=['T_Minority','T_Tell lies','T_Scandal','T_Others'])"
      ],
      "execution_count": null,
      "outputs": [
        {
          "output_type": "execute_result",
          "data": {
            "text/html": [
              "<div>\n",
              "<style scoped>\n",
              "    .dataframe tbody tr th:only-of-type {\n",
              "        vertical-align: middle;\n",
              "    }\n",
              "\n",
              "    .dataframe tbody tr th {\n",
              "        vertical-align: top;\n",
              "    }\n",
              "\n",
              "    .dataframe thead th {\n",
              "        text-align: right;\n",
              "    }\n",
              "</style>\n",
              "<table border=\"1\" class=\"dataframe\">\n",
              "  <thead>\n",
              "    <tr style=\"text-align: right;\">\n",
              "      <th></th>\n",
              "      <th>P_Minority</th>\n",
              "      <th>P_Tell lies</th>\n",
              "      <th>P_Scandal</th>\n",
              "      <th>P_Others</th>\n",
              "    </tr>\n",
              "  </thead>\n",
              "  <tbody>\n",
              "    <tr>\n",
              "      <th>T_Minority</th>\n",
              "      <td>7</td>\n",
              "      <td>6</td>\n",
              "      <td>6</td>\n",
              "      <td>36</td>\n",
              "    </tr>\n",
              "    <tr>\n",
              "      <th>T_Tell lies</th>\n",
              "      <td>4</td>\n",
              "      <td>5</td>\n",
              "      <td>15</td>\n",
              "      <td>26</td>\n",
              "    </tr>\n",
              "    <tr>\n",
              "      <th>T_Scandal</th>\n",
              "      <td>8</td>\n",
              "      <td>9</td>\n",
              "      <td>37</td>\n",
              "      <td>37</td>\n",
              "    </tr>\n",
              "    <tr>\n",
              "      <th>T_Others</th>\n",
              "      <td>6</td>\n",
              "      <td>13</td>\n",
              "      <td>29</td>\n",
              "      <td>59</td>\n",
              "    </tr>\n",
              "  </tbody>\n",
              "</table>\n",
              "</div>"
            ],
            "text/plain": [
              "             P_Minority  P_Tell lies  P_Scandal  P_Others\n",
              "T_Minority            7            6          6        36\n",
              "T_Tell lies           4            5         15        26\n",
              "T_Scandal             8            9         37        37\n",
              "T_Others              6           13         29        59"
            ]
          },
          "metadata": {
            "tags": []
          },
          "execution_count": 223
        }
      ]
    },
    {
      "cell_type": "markdown",
      "metadata": {
        "id": "7ofHmvtLM-zp"
      },
      "source": [
        "There are some reasons why the model failed to predict the correct negative reasons:\n",
        "*   Some tweets criticized more than one aspect of the party, which may mislead the classification of the model. For example, No.69 is labeled 'Tell lies', but this tweet also involves money and economy. No.99 labeled 'Scandal' also criticized telling lie. \n",
        "*   Reasons with small number are grouped into one category called 'Minority'. There is no obvious similarity between them, which may cause the model mistakenly classified them to 'Others'. And the histogram above also shows that many negative tweets are mistakenly classified to 'Others' reason label.\n",
        "*   Facing an imbalanced classes may be another reason. 365 out of 1007 tweets are labeled 'Others' having the largest label number. However, this 'Others' classification don't have clear key words, which may increase the learning difficulty of models.\n",
        "*   The reason label is encoded with valued number from 0 to 3. However, these reasons don't constitute a comparison relationship, when '0, 1, 2, 3' are used for labeling, a comparison relationship will appear, and the distance between each labels will be different, which may affect the learning performance of the model. \n"
      ]
    },
    {
      "cell_type": "markdown",
      "metadata": {
        "id": "rGTU2nlS1RuK"
      },
      "source": [
        "To improve the model performance, the reasons can be labeled into one hot format which can avoid the impact caused by the comparison relationship between the valued labels. Moreover, increasing the feature dimension can increase the chances that election tweets and generic tweets have same features."
      ]
    }
  ]
}